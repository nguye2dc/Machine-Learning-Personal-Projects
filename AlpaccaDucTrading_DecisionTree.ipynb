{
  "nbformat": 4,
  "nbformat_minor": 0,
  "metadata": {
    "colab": {
      "provenance": []
    },
    "kernelspec": {
      "name": "python3",
      "display_name": "Python 3"
    },
    "language_info": {
      "name": "python"
    }
  },
  "cells": [
    {
      "cell_type": "markdown",
      "source": [
        "# Source : \n",
        "### https://alpaca.markets/learn/understanding-alpacas-market-data-api-with-pandas-and-plotly/"
      ],
      "metadata": {
        "id": "kaaPaqEW6wNu"
      }
    },
    {
      "cell_type": "markdown",
      "source": [
        "# Install alpaca trade api"
      ],
      "metadata": {
        "id": "JaxR1xLY04wS"
      }
    },
    {
      "cell_type": "code",
      "execution_count": null,
      "metadata": {
        "id": "2pcqKPKQ0XvV",
        "colab": {
          "base_uri": "https://localhost:8080/"
        },
        "outputId": "b195f3c8-9997-445e-9829-d499ffa89c93"
      },
      "outputs": [
        {
          "output_type": "stream",
          "name": "stdout",
          "text": [
            "Looking in indexes: https://pypi.org/simple, https://us-python.pkg.dev/colab-wheels/public/simple/\n",
            "Collecting alpaca_trade_api\n",
            "  Downloading alpaca_trade_api-3.0.0-py3-none-any.whl (33 kB)\n",
            "Requirement already satisfied: requests<3,>2 in /usr/local/lib/python3.10/dist-packages (from alpaca_trade_api) (2.27.1)\n",
            "Collecting deprecation==2.1.0\n",
            "  Downloading deprecation-2.1.0-py2.py3-none-any.whl (11 kB)\n",
            "Requirement already satisfied: PyYAML==6.0 in /usr/local/lib/python3.10/dist-packages (from alpaca_trade_api) (6.0)\n",
            "Collecting msgpack==1.0.3\n",
            "  Downloading msgpack-1.0.3-cp310-cp310-manylinux_2_17_x86_64.manylinux2014_x86_64.whl (323 kB)\n",
            "\u001b[2K     \u001b[90m━━━━━━━━━━━━━━━━━━━━━━━━━━━━━━━━━━━━━━━\u001b[0m \u001b[32m323.7/323.7 kB\u001b[0m \u001b[31m6.9 MB/s\u001b[0m eta \u001b[36m0:00:00\u001b[0m\n",
            "\u001b[?25hRequirement already satisfied: numpy>=1.11.1 in /usr/local/lib/python3.10/dist-packages (from alpaca_trade_api) (1.22.4)\n",
            "Requirement already satisfied: pandas>=0.18.1 in /usr/local/lib/python3.10/dist-packages (from alpaca_trade_api) (1.5.3)\n",
            "Requirement already satisfied: urllib3<2,>1.24 in /usr/local/lib/python3.10/dist-packages (from alpaca_trade_api) (1.26.15)\n",
            "Collecting aiohttp==3.8.1\n",
            "  Downloading aiohttp-3.8.1-cp310-cp310-manylinux_2_5_x86_64.manylinux1_x86_64.manylinux_2_12_x86_64.manylinux2010_x86_64.whl (1.2 MB)\n",
            "\u001b[2K     \u001b[90m━━━━━━━━━━━━━━━━━━━━━━━━━━━━━━━━━━━━━━━━\u001b[0m \u001b[32m1.2/1.2 MB\u001b[0m \u001b[31m23.1 MB/s\u001b[0m eta \u001b[36m0:00:00\u001b[0m\n",
            "\u001b[?25hRequirement already satisfied: websocket-client<2,>=0.56.0 in /usr/local/lib/python3.10/dist-packages (from alpaca_trade_api) (1.5.1)\n",
            "Collecting websockets<11,>=9.0\n",
            "  Downloading websockets-10.4-cp310-cp310-manylinux_2_5_x86_64.manylinux1_x86_64.manylinux_2_17_x86_64.manylinux2014_x86_64.whl (106 kB)\n",
            "\u001b[2K     \u001b[90m━━━━━━━━━━━━━━━━━━━━━━━━━━━━━━━━━━━━━━━\u001b[0m \u001b[32m106.8/106.8 kB\u001b[0m \u001b[31m3.7 MB/s\u001b[0m eta \u001b[36m0:00:00\u001b[0m\n",
            "\u001b[?25hCollecting yarl<2.0,>=1.0\n",
            "  Downloading yarl-1.9.2-cp310-cp310-manylinux_2_17_x86_64.manylinux2014_x86_64.whl (268 kB)\n",
            "\u001b[2K     \u001b[90m━━━━━━━━━━━━━━━━━━━━━━━━━━━━━━━━━━━━━━━\u001b[0m \u001b[32m268.8/268.8 kB\u001b[0m \u001b[31m5.3 MB/s\u001b[0m eta \u001b[36m0:00:00\u001b[0m\n",
            "\u001b[?25hCollecting multidict<7.0,>=4.5\n",
            "  Downloading multidict-6.0.4-cp310-cp310-manylinux_2_17_x86_64.manylinux2014_x86_64.whl (114 kB)\n",
            "\u001b[2K     \u001b[90m━━━━━━━━━━━━━━━━━━━━━━━━━━━━━━━━━━━━━━━\u001b[0m \u001b[32m114.5/114.5 kB\u001b[0m \u001b[31m3.1 MB/s\u001b[0m eta \u001b[36m0:00:00\u001b[0m\n",
            "\u001b[?25hRequirement already satisfied: charset-normalizer<3.0,>=2.0 in /usr/local/lib/python3.10/dist-packages (from aiohttp==3.8.1->alpaca_trade_api) (2.0.12)\n",
            "Requirement already satisfied: attrs>=17.3.0 in /usr/local/lib/python3.10/dist-packages (from aiohttp==3.8.1->alpaca_trade_api) (23.1.0)\n",
            "Collecting frozenlist>=1.1.1\n",
            "  Downloading frozenlist-1.3.3-cp310-cp310-manylinux_2_5_x86_64.manylinux1_x86_64.manylinux_2_17_x86_64.manylinux2014_x86_64.whl (149 kB)\n",
            "\u001b[2K     \u001b[90m━━━━━━━━━━━━━━━━━━━━━━━━━━━━━━━━━━━━━━━\u001b[0m \u001b[32m149.6/149.6 kB\u001b[0m \u001b[31m8.0 MB/s\u001b[0m eta \u001b[36m0:00:00\u001b[0m\n",
            "\u001b[?25hCollecting aiosignal>=1.1.2\n",
            "  Downloading aiosignal-1.3.1-py3-none-any.whl (7.6 kB)\n",
            "Collecting async-timeout<5.0,>=4.0.0a3\n",
            "  Downloading async_timeout-4.0.2-py3-none-any.whl (5.8 kB)\n",
            "Requirement already satisfied: packaging in /usr/local/lib/python3.10/dist-packages (from deprecation==2.1.0->alpaca_trade_api) (23.1)\n",
            "Requirement already satisfied: pytz>=2020.1 in /usr/local/lib/python3.10/dist-packages (from pandas>=0.18.1->alpaca_trade_api) (2022.7.1)\n",
            "Requirement already satisfied: python-dateutil>=2.8.1 in /usr/local/lib/python3.10/dist-packages (from pandas>=0.18.1->alpaca_trade_api) (2.8.2)\n",
            "Requirement already satisfied: idna<4,>=2.5 in /usr/local/lib/python3.10/dist-packages (from requests<3,>2->alpaca_trade_api) (3.4)\n",
            "Requirement already satisfied: certifi>=2017.4.17 in /usr/local/lib/python3.10/dist-packages (from requests<3,>2->alpaca_trade_api) (2022.12.7)\n",
            "Requirement already satisfied: six>=1.5 in /usr/local/lib/python3.10/dist-packages (from python-dateutil>=2.8.1->pandas>=0.18.1->alpaca_trade_api) (1.16.0)\n",
            "Installing collected packages: msgpack, websockets, multidict, frozenlist, deprecation, async-timeout, yarl, aiosignal, aiohttp, alpaca_trade_api\n",
            "  Attempting uninstall: msgpack\n",
            "    Found existing installation: msgpack 1.0.5\n",
            "    Uninstalling msgpack-1.0.5:\n",
            "      Successfully uninstalled msgpack-1.0.5\n",
            "Successfully installed aiohttp-3.8.1 aiosignal-1.3.1 alpaca_trade_api-3.0.0 async-timeout-4.0.2 deprecation-2.1.0 frozenlist-1.3.3 msgpack-1.0.3 multidict-6.0.4 websockets-10.4 yarl-1.9.2\n"
          ]
        }
      ],
      "source": [
        " !pip install alpaca_trade_api"
      ]
    },
    {
      "cell_type": "code",
      "source": [
        "import alpaca_trade_api as alpacatrade\n",
        "import pandas as pd\n",
        "import numpy as np\n",
        "from sklearn import tree\n",
        "from sklearn.tree import DecisionTreeRegressor\n",
        "from sklearn.model_selection import KFold, cross_val_score\n",
        "import matplotlib.pyplot as plt"
      ],
      "metadata": {
        "id": "hDoh-Adr1BIj"
      },
      "execution_count": null,
      "outputs": []
    },
    {
      "cell_type": "markdown",
      "source": [
        "# API keys and connection establish"
      ],
      "metadata": {
        "id": "VGmvMXL31P6y"
      }
    },
    {
      "cell_type": "code",
      "source": [
        "base_url = 'https://paper-api.alpaca.markets'\n",
        "api_key = \"PK7WZLWPRI3DIXSU2AKB\"\n",
        "api_secret_key = \"zrSjMJgKOcyGIbpPViPzwlrQFpeLSapdg8kj6j25\""
      ],
      "metadata": {
        "id": "axoJ83Bb1I05"
      },
      "execution_count": null,
      "outputs": []
    },
    {
      "cell_type": "code",
      "source": [
        "# Create a connection with Rest API\n",
        "api = alpacatrade.REST(key_id= api_key, secret_key= api_secret_key, base_url= base_url)"
      ],
      "metadata": {
        "id": "SXHZ2kkM1uBi"
      },
      "execution_count": null,
      "outputs": []
    },
    {
      "cell_type": "markdown",
      "source": [
        "# Test out the connection by calling acount "
      ],
      "metadata": {
        "id": "9AmtJrL-2SmL"
      }
    },
    {
      "cell_type": "code",
      "source": [
        "# Fetch Account\n",
        "account = api.get_account()\n",
        "# Print Account Details\n",
        "print(account.id, account.equity, account.status)"
      ],
      "metadata": {
        "colab": {
          "base_uri": "https://localhost:8080/"
        },
        "id": "KmffHyRk2XVI",
        "outputId": "d132f601-4213-4883-da21-be86404917ea"
      },
      "execution_count": null,
      "outputs": [
        {
          "output_type": "stream",
          "name": "stdout",
          "text": [
            "a9bfbcba-fe38-4333-969f-3cfc458c3000 100000 ACTIVE\n"
          ]
        }
      ]
    },
    {
      "cell_type": "markdown",
      "source": [
        "# Fetch Market data"
      ],
      "metadata": {
        "id": "oGyhIcT_6zyO"
      }
    },
    {
      "cell_type": "code",
      "source": [
        "# Setting parameters for code calling\n",
        "symbol = \"AAPL\"\n",
        "timeframe = \"1Minute\"\n",
        "start = \"2022-01-01\"\n",
        "end = \"2023-01-01\" # YYYY-MM-DD\n",
        "# Using bar data method\n",
        "apple_bars = api.get_bars(symbol, timeframe, start, end).df\n",
        "#apple_bars['timestamp']= apple_bars['timestamp'].dt.tz_convert('America/New_York')\n",
        "#apple_bars = apple_bars.set_index('timestamp')\n",
        "#apple_bars['timestamp']= apple_bars['timestamp'].dt.tz_convert('America/New_York')\n",
        "# get only market hours\n",
        "apple_bars = apple_bars.between_time('9:30', '16:00')\n",
        "print(apple_bars.head(10))"
      ],
      "metadata": {
        "colab": {
          "base_uri": "https://localhost:8080/"
        },
        "id": "SZNX-fnk62de",
        "outputId": "c71e0fae-8dd6-416b-9418-deacb97d1f18"
      },
      "execution_count": null,
      "outputs": [
        {
          "output_type": "stream",
          "name": "stdout",
          "text": [
            "                             open    high     low   close  volume  \\\n",
            "timestamp                                                           \n",
            "2022-01-03 09:30:00+00:00  177.87  177.87  177.87  177.87     467   \n",
            "2022-01-03 09:31:00+00:00  177.87  177.87  177.80  177.80     634   \n",
            "2022-01-03 09:32:00+00:00  177.80  177.80  177.80  177.80    1047   \n",
            "2022-01-03 09:33:00+00:00  177.76  177.76  177.76  177.76     633   \n",
            "2022-01-03 09:34:00+00:00  177.77  177.85  177.77  177.85     958   \n",
            "2022-01-03 09:36:00+00:00  177.85  177.88  177.81  177.81    1644   \n",
            "2022-01-03 09:37:00+00:00  177.81  177.81  177.80  177.81    1364   \n",
            "2022-01-03 09:38:00+00:00  177.80  177.80  177.80  177.80     563   \n",
            "2022-01-03 09:39:00+00:00  177.83  177.84  177.77  177.77    2278   \n",
            "2022-01-03 09:40:00+00:00  177.83  177.84  177.83  177.84     850   \n",
            "\n",
            "                           trade_count        vwap  \n",
            "timestamp                                           \n",
            "2022-01-03 09:30:00+00:00           17  177.871842  \n",
            "2022-01-03 09:31:00+00:00           20  177.817618  \n",
            "2022-01-03 09:32:00+00:00           59  177.804413  \n",
            "2022-01-03 09:33:00+00:00           50  177.768815  \n",
            "2022-01-03 09:34:00+00:00           11  177.808173  \n",
            "2022-01-03 09:36:00+00:00           41  177.853680  \n",
            "2022-01-03 09:37:00+00:00           31  177.802581  \n",
            "2022-01-03 09:38:00+00:00           26  177.797478  \n",
            "2022-01-03 09:39:00+00:00           43  177.812199  \n",
            "2022-01-03 09:40:00+00:00           18  177.823600  \n"
          ]
        }
      ]
    },
    {
      "cell_type": "code",
      "source": [
        "# convert dataframe to Pandas\n",
        "pd.DataFrame(apple_bars)"
      ],
      "metadata": {
        "colab": {
          "base_uri": "https://localhost:8080/",
          "height": 455
        },
        "id": "PyeRFjeHcnOb",
        "outputId": "4ebf52ca-da75-4a74-d564-6c88e3902df0"
      },
      "execution_count": null,
      "outputs": [
        {
          "output_type": "execute_result",
          "data": {
            "text/plain": [
              "                               open      high      low     close  volume  \\\n",
              "timestamp                                                                  \n",
              "2022-01-03 09:30:00+00:00  177.8700  177.8700  177.870  177.8700     467   \n",
              "2022-01-03 09:31:00+00:00  177.8700  177.8700  177.800  177.8000     634   \n",
              "2022-01-03 09:32:00+00:00  177.8000  177.8000  177.800  177.8000    1047   \n",
              "2022-01-03 09:33:00+00:00  177.7600  177.7600  177.760  177.7600     633   \n",
              "2022-01-03 09:34:00+00:00  177.7700  177.8500  177.770  177.8500     958   \n",
              "...                             ...       ...      ...       ...     ...   \n",
              "2022-12-30 15:56:00+00:00  128.8192  128.8400  128.710  128.7508  135152   \n",
              "2022-12-30 15:57:00+00:00  128.7500  128.7600  128.626  128.6650  147990   \n",
              "2022-12-30 15:58:00+00:00  128.6675  128.7300  128.600  128.6850  137146   \n",
              "2022-12-30 15:59:00+00:00  128.6770  128.8395  128.675  128.8375  157410   \n",
              "2022-12-30 16:00:00+00:00  128.8330  128.8400  128.720  128.7200  166231   \n",
              "\n",
              "                           trade_count        vwap  \n",
              "timestamp                                           \n",
              "2022-01-03 09:30:00+00:00           17  177.871842  \n",
              "2022-01-03 09:31:00+00:00           20  177.817618  \n",
              "2022-01-03 09:32:00+00:00           59  177.804413  \n",
              "2022-01-03 09:33:00+00:00           50  177.768815  \n",
              "2022-01-03 09:34:00+00:00           11  177.808173  \n",
              "...                                ...         ...  \n",
              "2022-12-30 15:56:00+00:00         1248  128.790486  \n",
              "2022-12-30 15:57:00+00:00         1524  128.698747  \n",
              "2022-12-30 15:58:00+00:00         1194  128.685074  \n",
              "2022-12-30 15:59:00+00:00         1192  128.765191  \n",
              "2022-12-30 16:00:00+00:00         1536  128.789107  \n",
              "\n",
              "[83010 rows x 7 columns]"
            ],
            "text/html": [
              "\n",
              "  <div id=\"df-349e3a31-a4c2-40f9-9c14-5860bc23e9bf\">\n",
              "    <div class=\"colab-df-container\">\n",
              "      <div>\n",
              "<style scoped>\n",
              "    .dataframe tbody tr th:only-of-type {\n",
              "        vertical-align: middle;\n",
              "    }\n",
              "\n",
              "    .dataframe tbody tr th {\n",
              "        vertical-align: top;\n",
              "    }\n",
              "\n",
              "    .dataframe thead th {\n",
              "        text-align: right;\n",
              "    }\n",
              "</style>\n",
              "<table border=\"1\" class=\"dataframe\">\n",
              "  <thead>\n",
              "    <tr style=\"text-align: right;\">\n",
              "      <th></th>\n",
              "      <th>open</th>\n",
              "      <th>high</th>\n",
              "      <th>low</th>\n",
              "      <th>close</th>\n",
              "      <th>volume</th>\n",
              "      <th>trade_count</th>\n",
              "      <th>vwap</th>\n",
              "    </tr>\n",
              "    <tr>\n",
              "      <th>timestamp</th>\n",
              "      <th></th>\n",
              "      <th></th>\n",
              "      <th></th>\n",
              "      <th></th>\n",
              "      <th></th>\n",
              "      <th></th>\n",
              "      <th></th>\n",
              "    </tr>\n",
              "  </thead>\n",
              "  <tbody>\n",
              "    <tr>\n",
              "      <th>2022-01-03 09:30:00+00:00</th>\n",
              "      <td>177.8700</td>\n",
              "      <td>177.8700</td>\n",
              "      <td>177.870</td>\n",
              "      <td>177.8700</td>\n",
              "      <td>467</td>\n",
              "      <td>17</td>\n",
              "      <td>177.871842</td>\n",
              "    </tr>\n",
              "    <tr>\n",
              "      <th>2022-01-03 09:31:00+00:00</th>\n",
              "      <td>177.8700</td>\n",
              "      <td>177.8700</td>\n",
              "      <td>177.800</td>\n",
              "      <td>177.8000</td>\n",
              "      <td>634</td>\n",
              "      <td>20</td>\n",
              "      <td>177.817618</td>\n",
              "    </tr>\n",
              "    <tr>\n",
              "      <th>2022-01-03 09:32:00+00:00</th>\n",
              "      <td>177.8000</td>\n",
              "      <td>177.8000</td>\n",
              "      <td>177.800</td>\n",
              "      <td>177.8000</td>\n",
              "      <td>1047</td>\n",
              "      <td>59</td>\n",
              "      <td>177.804413</td>\n",
              "    </tr>\n",
              "    <tr>\n",
              "      <th>2022-01-03 09:33:00+00:00</th>\n",
              "      <td>177.7600</td>\n",
              "      <td>177.7600</td>\n",
              "      <td>177.760</td>\n",
              "      <td>177.7600</td>\n",
              "      <td>633</td>\n",
              "      <td>50</td>\n",
              "      <td>177.768815</td>\n",
              "    </tr>\n",
              "    <tr>\n",
              "      <th>2022-01-03 09:34:00+00:00</th>\n",
              "      <td>177.7700</td>\n",
              "      <td>177.8500</td>\n",
              "      <td>177.770</td>\n",
              "      <td>177.8500</td>\n",
              "      <td>958</td>\n",
              "      <td>11</td>\n",
              "      <td>177.808173</td>\n",
              "    </tr>\n",
              "    <tr>\n",
              "      <th>...</th>\n",
              "      <td>...</td>\n",
              "      <td>...</td>\n",
              "      <td>...</td>\n",
              "      <td>...</td>\n",
              "      <td>...</td>\n",
              "      <td>...</td>\n",
              "      <td>...</td>\n",
              "    </tr>\n",
              "    <tr>\n",
              "      <th>2022-12-30 15:56:00+00:00</th>\n",
              "      <td>128.8192</td>\n",
              "      <td>128.8400</td>\n",
              "      <td>128.710</td>\n",
              "      <td>128.7508</td>\n",
              "      <td>135152</td>\n",
              "      <td>1248</td>\n",
              "      <td>128.790486</td>\n",
              "    </tr>\n",
              "    <tr>\n",
              "      <th>2022-12-30 15:57:00+00:00</th>\n",
              "      <td>128.7500</td>\n",
              "      <td>128.7600</td>\n",
              "      <td>128.626</td>\n",
              "      <td>128.6650</td>\n",
              "      <td>147990</td>\n",
              "      <td>1524</td>\n",
              "      <td>128.698747</td>\n",
              "    </tr>\n",
              "    <tr>\n",
              "      <th>2022-12-30 15:58:00+00:00</th>\n",
              "      <td>128.6675</td>\n",
              "      <td>128.7300</td>\n",
              "      <td>128.600</td>\n",
              "      <td>128.6850</td>\n",
              "      <td>137146</td>\n",
              "      <td>1194</td>\n",
              "      <td>128.685074</td>\n",
              "    </tr>\n",
              "    <tr>\n",
              "      <th>2022-12-30 15:59:00+00:00</th>\n",
              "      <td>128.6770</td>\n",
              "      <td>128.8395</td>\n",
              "      <td>128.675</td>\n",
              "      <td>128.8375</td>\n",
              "      <td>157410</td>\n",
              "      <td>1192</td>\n",
              "      <td>128.765191</td>\n",
              "    </tr>\n",
              "    <tr>\n",
              "      <th>2022-12-30 16:00:00+00:00</th>\n",
              "      <td>128.8330</td>\n",
              "      <td>128.8400</td>\n",
              "      <td>128.720</td>\n",
              "      <td>128.7200</td>\n",
              "      <td>166231</td>\n",
              "      <td>1536</td>\n",
              "      <td>128.789107</td>\n",
              "    </tr>\n",
              "  </tbody>\n",
              "</table>\n",
              "<p>83010 rows × 7 columns</p>\n",
              "</div>\n",
              "      <button class=\"colab-df-convert\" onclick=\"convertToInteractive('df-349e3a31-a4c2-40f9-9c14-5860bc23e9bf')\"\n",
              "              title=\"Convert this dataframe to an interactive table.\"\n",
              "              style=\"display:none;\">\n",
              "        \n",
              "  <svg xmlns=\"http://www.w3.org/2000/svg\" height=\"24px\"viewBox=\"0 0 24 24\"\n",
              "       width=\"24px\">\n",
              "    <path d=\"M0 0h24v24H0V0z\" fill=\"none\"/>\n",
              "    <path d=\"M18.56 5.44l.94 2.06.94-2.06 2.06-.94-2.06-.94-.94-2.06-.94 2.06-2.06.94zm-11 1L8.5 8.5l.94-2.06 2.06-.94-2.06-.94L8.5 2.5l-.94 2.06-2.06.94zm10 10l.94 2.06.94-2.06 2.06-.94-2.06-.94-.94-2.06-.94 2.06-2.06.94z\"/><path d=\"M17.41 7.96l-1.37-1.37c-.4-.4-.92-.59-1.43-.59-.52 0-1.04.2-1.43.59L10.3 9.45l-7.72 7.72c-.78.78-.78 2.05 0 2.83L4 21.41c.39.39.9.59 1.41.59.51 0 1.02-.2 1.41-.59l7.78-7.78 2.81-2.81c.8-.78.8-2.07 0-2.86zM5.41 20L4 18.59l7.72-7.72 1.47 1.35L5.41 20z\"/>\n",
              "  </svg>\n",
              "      </button>\n",
              "      \n",
              "  <style>\n",
              "    .colab-df-container {\n",
              "      display:flex;\n",
              "      flex-wrap:wrap;\n",
              "      gap: 12px;\n",
              "    }\n",
              "\n",
              "    .colab-df-convert {\n",
              "      background-color: #E8F0FE;\n",
              "      border: none;\n",
              "      border-radius: 50%;\n",
              "      cursor: pointer;\n",
              "      display: none;\n",
              "      fill: #1967D2;\n",
              "      height: 32px;\n",
              "      padding: 0 0 0 0;\n",
              "      width: 32px;\n",
              "    }\n",
              "\n",
              "    .colab-df-convert:hover {\n",
              "      background-color: #E2EBFA;\n",
              "      box-shadow: 0px 1px 2px rgba(60, 64, 67, 0.3), 0px 1px 3px 1px rgba(60, 64, 67, 0.15);\n",
              "      fill: #174EA6;\n",
              "    }\n",
              "\n",
              "    [theme=dark] .colab-df-convert {\n",
              "      background-color: #3B4455;\n",
              "      fill: #D2E3FC;\n",
              "    }\n",
              "\n",
              "    [theme=dark] .colab-df-convert:hover {\n",
              "      background-color: #434B5C;\n",
              "      box-shadow: 0px 1px 3px 1px rgba(0, 0, 0, 0.15);\n",
              "      filter: drop-shadow(0px 1px 2px rgba(0, 0, 0, 0.3));\n",
              "      fill: #FFFFFF;\n",
              "    }\n",
              "  </style>\n",
              "\n",
              "      <script>\n",
              "        const buttonEl =\n",
              "          document.querySelector('#df-349e3a31-a4c2-40f9-9c14-5860bc23e9bf button.colab-df-convert');\n",
              "        buttonEl.style.display =\n",
              "          google.colab.kernel.accessAllowed ? 'block' : 'none';\n",
              "\n",
              "        async function convertToInteractive(key) {\n",
              "          const element = document.querySelector('#df-349e3a31-a4c2-40f9-9c14-5860bc23e9bf');\n",
              "          const dataTable =\n",
              "            await google.colab.kernel.invokeFunction('convertToInteractive',\n",
              "                                                     [key], {});\n",
              "          if (!dataTable) return;\n",
              "\n",
              "          const docLinkHtml = 'Like what you see? Visit the ' +\n",
              "            '<a target=\"_blank\" href=https://colab.research.google.com/notebooks/data_table.ipynb>data table notebook</a>'\n",
              "            + ' to learn more about interactive tables.';\n",
              "          element.innerHTML = '';\n",
              "          dataTable['output_type'] = 'display_data';\n",
              "          await google.colab.output.renderOutput(dataTable, element);\n",
              "          const docLink = document.createElement('div');\n",
              "          docLink.innerHTML = docLinkHtml;\n",
              "          element.appendChild(docLink);\n",
              "        }\n",
              "      </script>\n",
              "    </div>\n",
              "  </div>\n",
              "  "
            ]
          },
          "metadata": {},
          "execution_count": 7
        }
      ]
    },
    {
      "cell_type": "markdown",
      "source": [
        "# Data exploratory"
      ],
      "metadata": {
        "id": "6T5gBtZ0Ppo5"
      }
    },
    {
      "cell_type": "code",
      "source": [
        "# Changing the object to pandas dataframe\n",
        "#apple_bars2 = pd.DataFrame(apple_bars)\n",
        "#print(apple_bars2.head())\n",
        "#apple_bars3 = apple_bars2[[\"open\",\"high\",\"low\", \"close\", \"volume\"]]\n",
        "#print(apple_bars3.head())"
      ],
      "metadata": {
        "id": "0v5_f2mvA59F"
      },
      "execution_count": null,
      "outputs": []
    },
    {
      "cell_type": "code",
      "source": [
        "# size of the data\n",
        "apple_bars.shape[0]\n",
        "# 207,018 rows dataset."
      ],
      "metadata": {
        "colab": {
          "base_uri": "https://localhost:8080/"
        },
        "id": "7cF3eUb0DsFq",
        "outputId": "8f7c8a79-5fd6-4b2e-dcb1-bcc1e22d7644"
      },
      "execution_count": null,
      "outputs": [
        {
          "output_type": "execute_result",
          "data": {
            "text/plain": [
              "83010"
            ]
          },
          "metadata": {},
          "execution_count": 9
        }
      ]
    },
    {
      "cell_type": "code",
      "source": [
        "# Data type of each column\n",
        "apple_bars.dtypes"
      ],
      "metadata": {
        "colab": {
          "base_uri": "https://localhost:8080/"
        },
        "id": "NeN8oqIUPY8j",
        "outputId": "d6884934-1c30-491d-e4f0-f33a656b734d"
      },
      "execution_count": null,
      "outputs": [
        {
          "output_type": "execute_result",
          "data": {
            "text/plain": [
              "open           float64\n",
              "high           float64\n",
              "low            float64\n",
              "close          float64\n",
              "volume           int64\n",
              "trade_count      int64\n",
              "vwap           float64\n",
              "dtype: object"
            ]
          },
          "metadata": {},
          "execution_count": 10
        }
      ]
    },
    {
      "cell_type": "markdown",
      "source": [
        "# Data Wrangling\n",
        "return variable = (close - open)/open to get percentage gains.\n",
        "\n",
        "Wants data from 9:30am to 4:00pm. Starts at 9:31\n",
        "\n",
        "Adds in Y variable. Shift 5 times (-1). Remove the unshifted columns to left of gains.\n",
        "\n"
      ],
      "metadata": {
        "id": "3ZM0vbhBdELk"
      }
    },
    {
      "cell_type": "code",
      "source": [
        "#  Create a new column that contains gains value of each call every minute\n",
        "apple_bars[\"Gains (%)\"]= (apple_bars[\"close\"]- apple_bars[\"open\"])/apple_bars[\"open\"]\n",
        "apple_bars"
      ],
      "metadata": {
        "colab": {
          "base_uri": "https://localhost:8080/",
          "height": 455
        },
        "id": "JsNID2PnPs93",
        "outputId": "8e8aae81-7a24-4b68-efe6-a58b763d5011"
      },
      "execution_count": null,
      "outputs": [
        {
          "output_type": "execute_result",
          "data": {
            "text/plain": [
              "                               open      high      low     close  volume  \\\n",
              "timestamp                                                                  \n",
              "2022-01-03 09:30:00+00:00  177.8700  177.8700  177.870  177.8700     467   \n",
              "2022-01-03 09:31:00+00:00  177.8700  177.8700  177.800  177.8000     634   \n",
              "2022-01-03 09:32:00+00:00  177.8000  177.8000  177.800  177.8000    1047   \n",
              "2022-01-03 09:33:00+00:00  177.7600  177.7600  177.760  177.7600     633   \n",
              "2022-01-03 09:34:00+00:00  177.7700  177.8500  177.770  177.8500     958   \n",
              "...                             ...       ...      ...       ...     ...   \n",
              "2022-12-30 15:56:00+00:00  128.8192  128.8400  128.710  128.7508  135152   \n",
              "2022-12-30 15:57:00+00:00  128.7500  128.7600  128.626  128.6650  147990   \n",
              "2022-12-30 15:58:00+00:00  128.6675  128.7300  128.600  128.6850  137146   \n",
              "2022-12-30 15:59:00+00:00  128.6770  128.8395  128.675  128.8375  157410   \n",
              "2022-12-30 16:00:00+00:00  128.8330  128.8400  128.720  128.7200  166231   \n",
              "\n",
              "                           trade_count        vwap  Gains (%)  \n",
              "timestamp                                                      \n",
              "2022-01-03 09:30:00+00:00           17  177.871842   0.000000  \n",
              "2022-01-03 09:31:00+00:00           20  177.817618  -0.000394  \n",
              "2022-01-03 09:32:00+00:00           59  177.804413   0.000000  \n",
              "2022-01-03 09:33:00+00:00           50  177.768815   0.000000  \n",
              "2022-01-03 09:34:00+00:00           11  177.808173   0.000450  \n",
              "...                                ...         ...        ...  \n",
              "2022-12-30 15:56:00+00:00         1248  128.790486  -0.000531  \n",
              "2022-12-30 15:57:00+00:00         1524  128.698747  -0.000660  \n",
              "2022-12-30 15:58:00+00:00         1194  128.685074   0.000136  \n",
              "2022-12-30 15:59:00+00:00         1192  128.765191   0.001247  \n",
              "2022-12-30 16:00:00+00:00         1536  128.789107  -0.000877  \n",
              "\n",
              "[83010 rows x 8 columns]"
            ],
            "text/html": [
              "\n",
              "  <div id=\"df-fe8b52f2-5708-4280-9498-5e0431983666\">\n",
              "    <div class=\"colab-df-container\">\n",
              "      <div>\n",
              "<style scoped>\n",
              "    .dataframe tbody tr th:only-of-type {\n",
              "        vertical-align: middle;\n",
              "    }\n",
              "\n",
              "    .dataframe tbody tr th {\n",
              "        vertical-align: top;\n",
              "    }\n",
              "\n",
              "    .dataframe thead th {\n",
              "        text-align: right;\n",
              "    }\n",
              "</style>\n",
              "<table border=\"1\" class=\"dataframe\">\n",
              "  <thead>\n",
              "    <tr style=\"text-align: right;\">\n",
              "      <th></th>\n",
              "      <th>open</th>\n",
              "      <th>high</th>\n",
              "      <th>low</th>\n",
              "      <th>close</th>\n",
              "      <th>volume</th>\n",
              "      <th>trade_count</th>\n",
              "      <th>vwap</th>\n",
              "      <th>Gains (%)</th>\n",
              "    </tr>\n",
              "    <tr>\n",
              "      <th>timestamp</th>\n",
              "      <th></th>\n",
              "      <th></th>\n",
              "      <th></th>\n",
              "      <th></th>\n",
              "      <th></th>\n",
              "      <th></th>\n",
              "      <th></th>\n",
              "      <th></th>\n",
              "    </tr>\n",
              "  </thead>\n",
              "  <tbody>\n",
              "    <tr>\n",
              "      <th>2022-01-03 09:30:00+00:00</th>\n",
              "      <td>177.8700</td>\n",
              "      <td>177.8700</td>\n",
              "      <td>177.870</td>\n",
              "      <td>177.8700</td>\n",
              "      <td>467</td>\n",
              "      <td>17</td>\n",
              "      <td>177.871842</td>\n",
              "      <td>0.000000</td>\n",
              "    </tr>\n",
              "    <tr>\n",
              "      <th>2022-01-03 09:31:00+00:00</th>\n",
              "      <td>177.8700</td>\n",
              "      <td>177.8700</td>\n",
              "      <td>177.800</td>\n",
              "      <td>177.8000</td>\n",
              "      <td>634</td>\n",
              "      <td>20</td>\n",
              "      <td>177.817618</td>\n",
              "      <td>-0.000394</td>\n",
              "    </tr>\n",
              "    <tr>\n",
              "      <th>2022-01-03 09:32:00+00:00</th>\n",
              "      <td>177.8000</td>\n",
              "      <td>177.8000</td>\n",
              "      <td>177.800</td>\n",
              "      <td>177.8000</td>\n",
              "      <td>1047</td>\n",
              "      <td>59</td>\n",
              "      <td>177.804413</td>\n",
              "      <td>0.000000</td>\n",
              "    </tr>\n",
              "    <tr>\n",
              "      <th>2022-01-03 09:33:00+00:00</th>\n",
              "      <td>177.7600</td>\n",
              "      <td>177.7600</td>\n",
              "      <td>177.760</td>\n",
              "      <td>177.7600</td>\n",
              "      <td>633</td>\n",
              "      <td>50</td>\n",
              "      <td>177.768815</td>\n",
              "      <td>0.000000</td>\n",
              "    </tr>\n",
              "    <tr>\n",
              "      <th>2022-01-03 09:34:00+00:00</th>\n",
              "      <td>177.7700</td>\n",
              "      <td>177.8500</td>\n",
              "      <td>177.770</td>\n",
              "      <td>177.8500</td>\n",
              "      <td>958</td>\n",
              "      <td>11</td>\n",
              "      <td>177.808173</td>\n",
              "      <td>0.000450</td>\n",
              "    </tr>\n",
              "    <tr>\n",
              "      <th>...</th>\n",
              "      <td>...</td>\n",
              "      <td>...</td>\n",
              "      <td>...</td>\n",
              "      <td>...</td>\n",
              "      <td>...</td>\n",
              "      <td>...</td>\n",
              "      <td>...</td>\n",
              "      <td>...</td>\n",
              "    </tr>\n",
              "    <tr>\n",
              "      <th>2022-12-30 15:56:00+00:00</th>\n",
              "      <td>128.8192</td>\n",
              "      <td>128.8400</td>\n",
              "      <td>128.710</td>\n",
              "      <td>128.7508</td>\n",
              "      <td>135152</td>\n",
              "      <td>1248</td>\n",
              "      <td>128.790486</td>\n",
              "      <td>-0.000531</td>\n",
              "    </tr>\n",
              "    <tr>\n",
              "      <th>2022-12-30 15:57:00+00:00</th>\n",
              "      <td>128.7500</td>\n",
              "      <td>128.7600</td>\n",
              "      <td>128.626</td>\n",
              "      <td>128.6650</td>\n",
              "      <td>147990</td>\n",
              "      <td>1524</td>\n",
              "      <td>128.698747</td>\n",
              "      <td>-0.000660</td>\n",
              "    </tr>\n",
              "    <tr>\n",
              "      <th>2022-12-30 15:58:00+00:00</th>\n",
              "      <td>128.6675</td>\n",
              "      <td>128.7300</td>\n",
              "      <td>128.600</td>\n",
              "      <td>128.6850</td>\n",
              "      <td>137146</td>\n",
              "      <td>1194</td>\n",
              "      <td>128.685074</td>\n",
              "      <td>0.000136</td>\n",
              "    </tr>\n",
              "    <tr>\n",
              "      <th>2022-12-30 15:59:00+00:00</th>\n",
              "      <td>128.6770</td>\n",
              "      <td>128.8395</td>\n",
              "      <td>128.675</td>\n",
              "      <td>128.8375</td>\n",
              "      <td>157410</td>\n",
              "      <td>1192</td>\n",
              "      <td>128.765191</td>\n",
              "      <td>0.001247</td>\n",
              "    </tr>\n",
              "    <tr>\n",
              "      <th>2022-12-30 16:00:00+00:00</th>\n",
              "      <td>128.8330</td>\n",
              "      <td>128.8400</td>\n",
              "      <td>128.720</td>\n",
              "      <td>128.7200</td>\n",
              "      <td>166231</td>\n",
              "      <td>1536</td>\n",
              "      <td>128.789107</td>\n",
              "      <td>-0.000877</td>\n",
              "    </tr>\n",
              "  </tbody>\n",
              "</table>\n",
              "<p>83010 rows × 8 columns</p>\n",
              "</div>\n",
              "      <button class=\"colab-df-convert\" onclick=\"convertToInteractive('df-fe8b52f2-5708-4280-9498-5e0431983666')\"\n",
              "              title=\"Convert this dataframe to an interactive table.\"\n",
              "              style=\"display:none;\">\n",
              "        \n",
              "  <svg xmlns=\"http://www.w3.org/2000/svg\" height=\"24px\"viewBox=\"0 0 24 24\"\n",
              "       width=\"24px\">\n",
              "    <path d=\"M0 0h24v24H0V0z\" fill=\"none\"/>\n",
              "    <path d=\"M18.56 5.44l.94 2.06.94-2.06 2.06-.94-2.06-.94-.94-2.06-.94 2.06-2.06.94zm-11 1L8.5 8.5l.94-2.06 2.06-.94-2.06-.94L8.5 2.5l-.94 2.06-2.06.94zm10 10l.94 2.06.94-2.06 2.06-.94-2.06-.94-.94-2.06-.94 2.06-2.06.94z\"/><path d=\"M17.41 7.96l-1.37-1.37c-.4-.4-.92-.59-1.43-.59-.52 0-1.04.2-1.43.59L10.3 9.45l-7.72 7.72c-.78.78-.78 2.05 0 2.83L4 21.41c.39.39.9.59 1.41.59.51 0 1.02-.2 1.41-.59l7.78-7.78 2.81-2.81c.8-.78.8-2.07 0-2.86zM5.41 20L4 18.59l7.72-7.72 1.47 1.35L5.41 20z\"/>\n",
              "  </svg>\n",
              "      </button>\n",
              "      \n",
              "  <style>\n",
              "    .colab-df-container {\n",
              "      display:flex;\n",
              "      flex-wrap:wrap;\n",
              "      gap: 12px;\n",
              "    }\n",
              "\n",
              "    .colab-df-convert {\n",
              "      background-color: #E8F0FE;\n",
              "      border: none;\n",
              "      border-radius: 50%;\n",
              "      cursor: pointer;\n",
              "      display: none;\n",
              "      fill: #1967D2;\n",
              "      height: 32px;\n",
              "      padding: 0 0 0 0;\n",
              "      width: 32px;\n",
              "    }\n",
              "\n",
              "    .colab-df-convert:hover {\n",
              "      background-color: #E2EBFA;\n",
              "      box-shadow: 0px 1px 2px rgba(60, 64, 67, 0.3), 0px 1px 3px 1px rgba(60, 64, 67, 0.15);\n",
              "      fill: #174EA6;\n",
              "    }\n",
              "\n",
              "    [theme=dark] .colab-df-convert {\n",
              "      background-color: #3B4455;\n",
              "      fill: #D2E3FC;\n",
              "    }\n",
              "\n",
              "    [theme=dark] .colab-df-convert:hover {\n",
              "      background-color: #434B5C;\n",
              "      box-shadow: 0px 1px 3px 1px rgba(0, 0, 0, 0.15);\n",
              "      filter: drop-shadow(0px 1px 2px rgba(0, 0, 0, 0.3));\n",
              "      fill: #FFFFFF;\n",
              "    }\n",
              "  </style>\n",
              "\n",
              "      <script>\n",
              "        const buttonEl =\n",
              "          document.querySelector('#df-fe8b52f2-5708-4280-9498-5e0431983666 button.colab-df-convert');\n",
              "        buttonEl.style.display =\n",
              "          google.colab.kernel.accessAllowed ? 'block' : 'none';\n",
              "\n",
              "        async function convertToInteractive(key) {\n",
              "          const element = document.querySelector('#df-fe8b52f2-5708-4280-9498-5e0431983666');\n",
              "          const dataTable =\n",
              "            await google.colab.kernel.invokeFunction('convertToInteractive',\n",
              "                                                     [key], {});\n",
              "          if (!dataTable) return;\n",
              "\n",
              "          const docLinkHtml = 'Like what you see? Visit the ' +\n",
              "            '<a target=\"_blank\" href=https://colab.research.google.com/notebooks/data_table.ipynb>data table notebook</a>'\n",
              "            + ' to learn more about interactive tables.';\n",
              "          element.innerHTML = '';\n",
              "          dataTable['output_type'] = 'display_data';\n",
              "          await google.colab.output.renderOutput(dataTable, element);\n",
              "          const docLink = document.createElement('div');\n",
              "          docLink.innerHTML = docLinkHtml;\n",
              "          element.appendChild(docLink);\n",
              "        }\n",
              "      </script>\n",
              "    </div>\n",
              "  </div>\n",
              "  "
            ]
          },
          "metadata": {},
          "execution_count": 11
        }
      ]
    },
    {
      "cell_type": "markdown",
      "source": [
        "# Test dataframe for shift funciton\n"
      ],
      "metadata": {
        "id": "Gwftxpin1BLL"
      }
    },
    {
      "cell_type": "code",
      "source": [
        "# Subset dataframe to work on using shift function\n",
        "# temp = apple_bars.iloc[0:5,]"
      ],
      "metadata": {
        "id": "4SX3j1MQ1G9V"
      },
      "execution_count": null,
      "outputs": []
    },
    {
      "cell_type": "code",
      "source": [
        "# First row shift - shift downwards\n",
        "# temp.shift(1)"
      ],
      "metadata": {
        "id": "eWiBDLZq2EL5"
      },
      "execution_count": null,
      "outputs": []
    },
    {
      "cell_type": "code",
      "source": [
        "# Bottom row shift - shift upwards\n",
        "# temp.shift(-1)"
      ],
      "metadata": {
        "id": "xS5lL2vK2Jxy"
      },
      "execution_count": null,
      "outputs": []
    },
    {
      "cell_type": "code",
      "source": [
        "# Shift 5 times bottom row to get the 5th minute to be the first row - TEST. Ignore index so that we can remove the left hand side easily\n",
        "# test = pd.concat([temp, temp.shift(-1), temp.shift(-2), temp.shift(-3), temp.shift(-4), temp.shift(-5)],axis = 1, ignore_index= True)\n",
        "\n",
        "# test2 = test.drop(test.iloc[:,0:7], axis = 1)\n",
        "# test2 # 5x41 df"
      ],
      "metadata": {
        "id": "DfzlRqWB2PAF"
      },
      "execution_count": null,
      "outputs": []
    },
    {
      "cell_type": "code",
      "source": [
        "# y_test = test2.iloc[:,0]\n",
        "# y_test"
      ],
      "metadata": {
        "id": "Lq2wn56vWv7j"
      },
      "execution_count": null,
      "outputs": []
    },
    {
      "cell_type": "markdown",
      "source": [
        "# Actual data work \n",
        "## Shift downwards in order to use the 1st minute data to predict the 5th min gains"
      ],
      "metadata": {
        "id": "UDJVKLyDJAsC"
      }
    },
    {
      "cell_type": "code",
      "source": [
        "# Shifted downwards data frame for apple stock\n",
        "shifted_apple = pd.concat([apple_bars, apple_bars.shift(1), apple_bars.shift(2), apple_bars.shift(3), apple_bars.shift(4), apple_bars.shift(5)], axis = 1)\n",
        "\n",
        "# Remove the columns to the left of gains - 6 columns\n",
        "shifted_apple1 = shifted_apple.iloc[:,7:]"
      ],
      "metadata": {
        "id": "CBagfcXX2XhL"
      },
      "execution_count": null,
      "outputs": []
    },
    {
      "cell_type": "code",
      "source": [
        "# columns name for shifted_apple1 \n",
        "shifted_apple1.columns"
      ],
      "metadata": {
        "colab": {
          "base_uri": "https://localhost:8080/"
        },
        "id": "5ScqLxcEt0Ry",
        "outputId": "e7ecbafe-8476-4123-d003-6c9fef8a23f4"
      },
      "execution_count": null,
      "outputs": [
        {
          "output_type": "execute_result",
          "data": {
            "text/plain": [
              "Index(['Gains (%)', 'open', 'high', 'low', 'close', 'volume', 'trade_count',\n",
              "       'vwap', 'Gains (%)', 'open', 'high', 'low', 'close', 'volume',\n",
              "       'trade_count', 'vwap', 'Gains (%)', 'open', 'high', 'low', 'close',\n",
              "       'volume', 'trade_count', 'vwap', 'Gains (%)', 'open', 'high', 'low',\n",
              "       'close', 'volume', 'trade_count', 'vwap', 'Gains (%)', 'open', 'high',\n",
              "       'low', 'close', 'volume', 'trade_count', 'vwap', 'Gains (%)'],\n",
              "      dtype='object')"
            ]
          },
          "metadata": {},
          "execution_count": 18
        }
      ]
    },
    {
      "cell_type": "code",
      "source": [
        "# rename \"open' columns with t-1, t-2,t-3\n",
        "shifted_apple1.columns.values[1] = 'open (t-1)'\n",
        "shifted_apple1.columns.values[9] = 'open (t-2)'\n",
        "shifted_apple1.columns.values[17] = 'open (t-3)'\n",
        "shifted_apple1.columns.values[25] = 'open (t-4)'\n",
        "shifted_apple1.columns.values[33] = 'open (t-5)'"
      ],
      "metadata": {
        "id": "wA2WAJ67t193"
      },
      "execution_count": null,
      "outputs": []
    },
    {
      "cell_type": "code",
      "source": [
        "# rename 'high' columns with t-1, t-2, t-3,...\n",
        "shifted_apple1.columns.values[2] = 'high (t-1)'\n",
        "shifted_apple1.columns.values[10] = 'high (t-2)'\n",
        "shifted_apple1.columns.values[18] = 'high (t-3)'\n",
        "shifted_apple1.columns.values[26] = 'high (t-4)'\n",
        "shifted_apple1.columns.values[34] = 'high (t-5)'"
      ],
      "metadata": {
        "id": "0mHhzb5ahHHG"
      },
      "execution_count": null,
      "outputs": []
    },
    {
      "cell_type": "code",
      "source": [
        "# rename 'low' columns with t-1, t-2, t-3,...\n",
        "shifted_apple1.columns.values[3] = 'low (t-1)'\n",
        "shifted_apple1.columns.values[11] = 'low (t-2)'\n",
        "shifted_apple1.columns.values[19] = 'low (t-3)'\n",
        "shifted_apple1.columns.values[27] = 'low (t-4)'\n",
        "shifted_apple1.columns.values[35] = 'low (t-5)'"
      ],
      "metadata": {
        "id": "3a2fLL1v71lc"
      },
      "execution_count": null,
      "outputs": []
    },
    {
      "cell_type": "code",
      "source": [
        "# rename 'close' columns with t-1, t-2, t-3,...\n",
        "shifted_apple1.columns.values[4] = 'close (t-1)'\n",
        "shifted_apple1.columns.values[12] = 'close (t-2)'\n",
        "shifted_apple1.columns.values[20] = 'close (t-3)'\n",
        "shifted_apple1.columns.values[28] = 'close (t-4)'\n",
        "shifted_apple1.columns.values[36] = 'close (t-5)'"
      ],
      "metadata": {
        "id": "FEZUc7SL8FKE"
      },
      "execution_count": null,
      "outputs": []
    },
    {
      "cell_type": "code",
      "source": [
        "# rename 'volume' columns with t-1, t-2, t-3,...\n",
        "shifted_apple1.columns.values[5] = 'volume (t-1)'\n",
        "shifted_apple1.columns.values[13] = 'volume (t-2)'\n",
        "shifted_apple1.columns.values[21] = 'volume (t-3)'\n",
        "shifted_apple1.columns.values[29] = 'volume (t-4)'\n",
        "shifted_apple1.columns.values[37] = 'volume (t-5)'"
      ],
      "metadata": {
        "id": "PRW0FZ8Y8PsL"
      },
      "execution_count": null,
      "outputs": []
    },
    {
      "cell_type": "code",
      "source": [
        "# rename 'trade_count' columns with t-1, t-2, t-3,...\n",
        "shifted_apple1.columns.values[6] = 'trade_count (t-1)'\n",
        "shifted_apple1.columns.values[14] = 'trade_count (t-2)'\n",
        "shifted_apple1.columns.values[22] = 'trade_count (t-3)'\n",
        "shifted_apple1.columns.values[30] = 'trade_count (t-4)'\n",
        "shifted_apple1.columns.values[38] = 'trade_count (t-5)'"
      ],
      "metadata": {
        "id": "UYsVMB7A8c2d"
      },
      "execution_count": null,
      "outputs": []
    },
    {
      "cell_type": "code",
      "source": [
        "# rename 'vwap' columns with t-1, t-2, t-3,...\n",
        "shifted_apple1.columns.values[7] = 'vwap (t-1)'\n",
        "shifted_apple1.columns.values[15] = 'vwap (t-2)'\n",
        "shifted_apple1.columns.values[23] = 'vwap (t-3)'\n",
        "shifted_apple1.columns.values[31] = 'vwap (t-4)'\n",
        "shifted_apple1.columns.values[39] = 'vwap (t-5)'"
      ],
      "metadata": {
        "id": "SMEpo6Uw8xVz"
      },
      "execution_count": null,
      "outputs": []
    },
    {
      "cell_type": "markdown",
      "source": [
        "# Create a Target variable object. Which consists of the 1st column in Shifted_apple_1 (y_train)"
      ],
      "metadata": {
        "id": "9OMa0JyeAAZ8"
      }
    },
    {
      "cell_type": "code",
      "source": [
        "# Create target variable column: y\n",
        "y = pd.DataFrame(shifted_apple1.iloc[:,0])\n",
        "y.columns\n",
        "y.isna().sum() # 0 missing values"
      ],
      "metadata": {
        "colab": {
          "base_uri": "https://localhost:8080/"
        },
        "id": "gr-hPpVx9cEx",
        "outputId": "ab32038c-8149-439e-e299-5070dc38114e"
      },
      "execution_count": null,
      "outputs": [
        {
          "output_type": "execute_result",
          "data": {
            "text/plain": [
              "Gains (%)    0\n",
              "dtype: int64"
            ]
          },
          "metadata": {},
          "execution_count": 26
        }
      ]
    },
    {
      "cell_type": "markdown",
      "source": [
        "# Create a Feature variables object by removing all Gains columns (x_train)"
      ],
      "metadata": {
        "id": "ejytN-0PAi1a"
      }
    },
    {
      "cell_type": "code",
      "source": [
        "# Create a Featured variables dataframe\n",
        "x = shifted_apple1.drop([\"Gains (%)\"], axis = 1)\n",
        "x.columns\n",
        "x.isnull().sum() # There are missing values for each column in x_train"
      ],
      "metadata": {
        "colab": {
          "base_uri": "https://localhost:8080/"
        },
        "id": "aoU20wDG__Uy",
        "outputId": "642a93be-c290-487f-af8c-f9847d4d6cf0"
      },
      "execution_count": null,
      "outputs": [
        {
          "output_type": "execute_result",
          "data": {
            "text/plain": [
              "open (t-1)           1\n",
              "high (t-1)           1\n",
              "low (t-1)            1\n",
              "close (t-1)          1\n",
              "volume (t-1)         1\n",
              "trade_count (t-1)    1\n",
              "vwap (t-1)           1\n",
              "open (t-2)           2\n",
              "high (t-2)           2\n",
              "low (t-2)            2\n",
              "close (t-2)          2\n",
              "volume (t-2)         2\n",
              "trade_count (t-2)    2\n",
              "vwap (t-2)           2\n",
              "open (t-3)           3\n",
              "high (t-3)           3\n",
              "low (t-3)            3\n",
              "close (t-3)          3\n",
              "volume (t-3)         3\n",
              "trade_count (t-3)    3\n",
              "vwap (t-3)           3\n",
              "open (t-4)           4\n",
              "high (t-4)           4\n",
              "low (t-4)            4\n",
              "close (t-4)          4\n",
              "volume (t-4)         4\n",
              "trade_count (t-4)    4\n",
              "vwap (t-4)           4\n",
              "open (t-5)           5\n",
              "high (t-5)           5\n",
              "low (t-5)            5\n",
              "close (t-5)          5\n",
              "volume (t-5)         5\n",
              "trade_count (t-5)    5\n",
              "vwap (t-5)           5\n",
              "dtype: int64"
            ]
          },
          "metadata": {},
          "execution_count": 27
        }
      ]
    },
    {
      "cell_type": "markdown",
      "source": [
        "# Need to preprocess the data first. Fill all NAs value with 0\n",
        "https://www.geeksforgeeks.org/replace-nan-values-with-zeros-in-pandas-dataframe/"
      ],
      "metadata": {
        "id": "ebLmh8tfd5jX"
      }
    },
    {
      "cell_type": "code",
      "source": [
        "# x_1 have all filled NAs values with 0 \n",
        "x_1 = x.fillna(0)"
      ],
      "metadata": {
        "id": "CgvwW7JXlJ4e"
      },
      "execution_count": null,
      "outputs": []
    },
    {
      "cell_type": "markdown",
      "source": [
        "# Create train and test set"
      ],
      "metadata": {
        "id": "SmIkZcxT43YI"
      }
    },
    {
      "cell_type": "code",
      "source": [
        "from sklearn.model_selection import train_test_split\n",
        "x_train, x_test, y_train, y_test = train_test_split(x_1,y ,\n",
        "                                                    random_state=104, \n",
        "                                                    test_size=0.3)"
      ],
      "metadata": {
        "id": "oooe6wbl47ui"
      },
      "execution_count": null,
      "outputs": []
    },
    {
      "cell_type": "code",
      "source": [
        "x_train.shape"
      ],
      "metadata": {
        "colab": {
          "base_uri": "https://localhost:8080/"
        },
        "id": "pgNzNlhE7k89",
        "outputId": "aaabe0b5-ce05-41c4-a096-397b6aca349d"
      },
      "execution_count": null,
      "outputs": [
        {
          "output_type": "execute_result",
          "data": {
            "text/plain": [
              "(58107, 35)"
            ]
          },
          "metadata": {},
          "execution_count": 30
        }
      ]
    },
    {
      "cell_type": "code",
      "source": [
        "x_test.shape"
      ],
      "metadata": {
        "id": "j2dOJiDm7vEs",
        "outputId": "1e0d4678-45dd-4fba-906c-46e35e96873d",
        "colab": {
          "base_uri": "https://localhost:8080/"
        }
      },
      "execution_count": null,
      "outputs": [
        {
          "output_type": "execute_result",
          "data": {
            "text/plain": [
              "(24903, 35)"
            ]
          },
          "metadata": {},
          "execution_count": 31
        }
      ]
    },
    {
      "cell_type": "markdown",
      "source": [
        "# Decion Tree Regression Problem\n",
        "https://www.geeksforgeeks.org/python-decision-tree-regression-using-sklearn/\n",
        "\n",
        "https://towardsdatascience.com/train-a-regression-model-using-a-decision-tree-70012c22bcc1\n",
        "\n",
        "https://www.nbshare.io/notebook/312837011/Decision-Tree-Regression-With-Hyper-Parameter-Tuning-In-Python/"
      ],
      "metadata": {
        "id": "ozv4A_0htyIa"
      }
    },
    {
      "cell_type": "code",
      "source": [
        "# random_state controls randomness of the sample. Model will always produce the same results.\n",
        "regression_model = DecisionTreeRegressor()"
      ],
      "metadata": {
        "id": "JL29GQ0PwZtS"
      },
      "execution_count": null,
      "outputs": []
    },
    {
      "cell_type": "code",
      "source": [
        "## Grid Search for most optimal Tree model\n",
        "from sklearn.model_selection import GridSearchCV\n",
        "\n",
        "model = DecisionTreeRegressor()\n",
        "\n",
        "## Initiate parameters for the model\n",
        "# parameters={\"splitter\":[\"best\",\"random\"],\n",
        "            #\"max_depth\" : [1,3,5,7,9,11,12],\n",
        "           #\"min_samples_leaf\":[1,2,3,4,5,6,7,8,9,10],\n",
        "           #\"min_weight_fraction_leaf\":[0.1,0.2,0.3,0.4,0.5,0.6,0.7,0.8,0.9],\n",
        "           #\"max_features\":[\"auto\",\"log2\",\"sqrt\",None],\n",
        "           #\"max_leaf_nodes\":[None,10,20,30,40,50,60,70,80,90] }\n",
        "# Perform GridSearch for the best model\n",
        "gs = GridSearchCV(model,\n",
        "                  param_grid = {'max_depth': range(1, 11),\n",
        "                                'min_samples_split': range(10, 60, 10)},\n",
        "                  cv=5, # 5 is a good choice for K-fold\n",
        "                  verbose = 3,\n",
        "                  scoring='neg_mean_squared_error')\n",
        "## Fitting the training data into grid search\n",
        "gs.fit(x_train, y_train)"
      ],
      "metadata": {
        "id": "Pvw2o4uYblbC",
        "colab": {
          "base_uri": "https://localhost:8080/",
          "height": 1000
        },
        "outputId": "5562514e-34f6-4e32-e11a-89e4241bedfe"
      },
      "execution_count": null,
      "outputs": [
        {
          "output_type": "stream",
          "name": "stdout",
          "text": [
            "Fitting 5 folds for each of 50 candidates, totalling 250 fits\n",
            "[CV 1/5] END max_depth=1, min_samples_split=10;, score=-0.000 total time=   0.2s\n",
            "[CV 2/5] END max_depth=1, min_samples_split=10;, score=-0.000 total time=   0.2s\n",
            "[CV 3/5] END max_depth=1, min_samples_split=10;, score=-0.000 total time=   0.2s\n",
            "[CV 4/5] END max_depth=1, min_samples_split=10;, score=-0.000 total time=   0.2s\n",
            "[CV 5/5] END max_depth=1, min_samples_split=10;, score=-0.000 total time=   0.2s\n",
            "[CV 1/5] END max_depth=1, min_samples_split=20;, score=-0.000 total time=   0.2s\n",
            "[CV 2/5] END max_depth=1, min_samples_split=20;, score=-0.000 total time=   0.2s\n",
            "[CV 3/5] END max_depth=1, min_samples_split=20;, score=-0.000 total time=   0.2s\n",
            "[CV 4/5] END max_depth=1, min_samples_split=20;, score=-0.000 total time=   0.2s\n",
            "[CV 5/5] END max_depth=1, min_samples_split=20;, score=-0.000 total time=   0.2s\n",
            "[CV 1/5] END max_depth=1, min_samples_split=30;, score=-0.000 total time=   0.2s\n",
            "[CV 2/5] END max_depth=1, min_samples_split=30;, score=-0.000 total time=   0.2s\n",
            "[CV 3/5] END max_depth=1, min_samples_split=30;, score=-0.000 total time=   0.2s\n",
            "[CV 4/5] END max_depth=1, min_samples_split=30;, score=-0.000 total time=   0.2s\n",
            "[CV 5/5] END max_depth=1, min_samples_split=30;, score=-0.000 total time=   0.2s\n",
            "[CV 1/5] END max_depth=1, min_samples_split=40;, score=-0.000 total time=   0.2s\n",
            "[CV 2/5] END max_depth=1, min_samples_split=40;, score=-0.000 total time=   0.2s\n",
            "[CV 3/5] END max_depth=1, min_samples_split=40;, score=-0.000 total time=   0.2s\n",
            "[CV 4/5] END max_depth=1, min_samples_split=40;, score=-0.000 total time=   0.2s\n",
            "[CV 5/5] END max_depth=1, min_samples_split=40;, score=-0.000 total time=   0.2s\n",
            "[CV 1/5] END max_depth=1, min_samples_split=50;, score=-0.000 total time=   0.2s\n",
            "[CV 2/5] END max_depth=1, min_samples_split=50;, score=-0.000 total time=   0.2s\n",
            "[CV 3/5] END max_depth=1, min_samples_split=50;, score=-0.000 total time=   0.2s\n",
            "[CV 4/5] END max_depth=1, min_samples_split=50;, score=-0.000 total time=   0.2s\n",
            "[CV 5/5] END max_depth=1, min_samples_split=50;, score=-0.000 total time=   0.2s\n",
            "[CV 1/5] END max_depth=2, min_samples_split=10;, score=-0.000 total time=   0.4s\n",
            "[CV 2/5] END max_depth=2, min_samples_split=10;, score=-0.000 total time=   0.5s\n",
            "[CV 3/5] END max_depth=2, min_samples_split=10;, score=-0.000 total time=   0.6s\n",
            "[CV 4/5] END max_depth=2, min_samples_split=10;, score=-0.000 total time=   0.6s\n",
            "[CV 5/5] END max_depth=2, min_samples_split=10;, score=-0.000 total time=   0.6s\n",
            "[CV 1/5] END max_depth=2, min_samples_split=20;, score=-0.000 total time=   0.6s\n",
            "[CV 2/5] END max_depth=2, min_samples_split=20;, score=-0.000 total time=   0.5s\n",
            "[CV 3/5] END max_depth=2, min_samples_split=20;, score=-0.000 total time=   0.4s\n",
            "[CV 4/5] END max_depth=2, min_samples_split=20;, score=-0.000 total time=   0.4s\n",
            "[CV 5/5] END max_depth=2, min_samples_split=20;, score=-0.000 total time=   0.4s\n",
            "[CV 1/5] END max_depth=2, min_samples_split=30;, score=-0.000 total time=   0.4s\n",
            "[CV 2/5] END max_depth=2, min_samples_split=30;, score=-0.000 total time=   0.4s\n",
            "[CV 3/5] END max_depth=2, min_samples_split=30;, score=-0.000 total time=   0.4s\n",
            "[CV 4/5] END max_depth=2, min_samples_split=30;, score=-0.000 total time=   0.4s\n",
            "[CV 5/5] END max_depth=2, min_samples_split=30;, score=-0.000 total time=   0.4s\n",
            "[CV 1/5] END max_depth=2, min_samples_split=40;, score=-0.000 total time=   0.4s\n",
            "[CV 2/5] END max_depth=2, min_samples_split=40;, score=-0.000 total time=   0.4s\n",
            "[CV 3/5] END max_depth=2, min_samples_split=40;, score=-0.000 total time=   0.4s\n",
            "[CV 4/5] END max_depth=2, min_samples_split=40;, score=-0.000 total time=   0.4s\n",
            "[CV 5/5] END max_depth=2, min_samples_split=40;, score=-0.000 total time=   0.4s\n",
            "[CV 1/5] END max_depth=2, min_samples_split=50;, score=-0.000 total time=   0.4s\n",
            "[CV 2/5] END max_depth=2, min_samples_split=50;, score=-0.000 total time=   0.4s\n",
            "[CV 3/5] END max_depth=2, min_samples_split=50;, score=-0.000 total time=   0.4s\n",
            "[CV 4/5] END max_depth=2, min_samples_split=50;, score=-0.000 total time=   0.4s\n",
            "[CV 5/5] END max_depth=2, min_samples_split=50;, score=-0.000 total time=   0.4s\n",
            "[CV 1/5] END max_depth=3, min_samples_split=10;, score=-0.000 total time=   0.6s\n",
            "[CV 2/5] END max_depth=3, min_samples_split=10;, score=-0.000 total time=   0.6s\n",
            "[CV 3/5] END max_depth=3, min_samples_split=10;, score=-0.000 total time=   0.6s\n",
            "[CV 4/5] END max_depth=3, min_samples_split=10;, score=-0.000 total time=   0.7s\n",
            "[CV 5/5] END max_depth=3, min_samples_split=10;, score=-0.000 total time=   0.9s\n",
            "[CV 1/5] END max_depth=3, min_samples_split=20;, score=-0.000 total time=   0.9s\n",
            "[CV 2/5] END max_depth=3, min_samples_split=20;, score=-0.000 total time=   0.9s\n",
            "[CV 3/5] END max_depth=3, min_samples_split=20;, score=-0.000 total time=   0.6s\n",
            "[CV 4/5] END max_depth=3, min_samples_split=20;, score=-0.000 total time=   0.6s\n",
            "[CV 5/5] END max_depth=3, min_samples_split=20;, score=-0.000 total time=   0.6s\n",
            "[CV 1/5] END max_depth=3, min_samples_split=30;, score=-0.000 total time=   0.6s\n",
            "[CV 2/5] END max_depth=3, min_samples_split=30;, score=-0.000 total time=   0.6s\n",
            "[CV 3/5] END max_depth=3, min_samples_split=30;, score=-0.000 total time=   0.6s\n",
            "[CV 4/5] END max_depth=3, min_samples_split=30;, score=-0.000 total time=   0.6s\n",
            "[CV 5/5] END max_depth=3, min_samples_split=30;, score=-0.000 total time=   0.6s\n",
            "[CV 1/5] END max_depth=3, min_samples_split=40;, score=-0.000 total time=   0.6s\n",
            "[CV 2/5] END max_depth=3, min_samples_split=40;, score=-0.000 total time=   0.6s\n",
            "[CV 3/5] END max_depth=3, min_samples_split=40;, score=-0.000 total time=   0.6s\n",
            "[CV 4/5] END max_depth=3, min_samples_split=40;, score=-0.000 total time=   0.6s\n",
            "[CV 5/5] END max_depth=3, min_samples_split=40;, score=-0.000 total time=   0.6s\n",
            "[CV 1/5] END max_depth=3, min_samples_split=50;, score=-0.000 total time=   0.6s\n",
            "[CV 2/5] END max_depth=3, min_samples_split=50;, score=-0.000 total time=   0.6s\n",
            "[CV 3/5] END max_depth=3, min_samples_split=50;, score=-0.000 total time=   0.6s\n",
            "[CV 4/5] END max_depth=3, min_samples_split=50;, score=-0.000 total time=   0.6s\n",
            "[CV 5/5] END max_depth=3, min_samples_split=50;, score=-0.000 total time=   0.9s\n",
            "[CV 1/5] END max_depth=4, min_samples_split=10;, score=-0.000 total time=   1.2s\n",
            "[CV 2/5] END max_depth=4, min_samples_split=10;, score=-0.000 total time=   1.0s\n",
            "[CV 3/5] END max_depth=4, min_samples_split=10;, score=-0.000 total time=   0.8s\n",
            "[CV 4/5] END max_depth=4, min_samples_split=10;, score=-0.000 total time=   0.8s\n",
            "[CV 5/5] END max_depth=4, min_samples_split=10;, score=-0.000 total time=   0.8s\n",
            "[CV 1/5] END max_depth=4, min_samples_split=20;, score=-0.000 total time=   0.8s\n",
            "[CV 2/5] END max_depth=4, min_samples_split=20;, score=-0.000 total time=   0.8s\n",
            "[CV 3/5] END max_depth=4, min_samples_split=20;, score=-0.000 total time=   0.8s\n",
            "[CV 4/5] END max_depth=4, min_samples_split=20;, score=-0.000 total time=   0.8s\n",
            "[CV 5/5] END max_depth=4, min_samples_split=20;, score=-0.000 total time=   0.8s\n",
            "[CV 1/5] END max_depth=4, min_samples_split=30;, score=-0.000 total time=   0.8s\n",
            "[CV 2/5] END max_depth=4, min_samples_split=30;, score=-0.000 total time=   0.8s\n",
            "[CV 3/5] END max_depth=4, min_samples_split=30;, score=-0.000 total time=   0.8s\n",
            "[CV 4/5] END max_depth=4, min_samples_split=30;, score=-0.000 total time=   0.8s\n",
            "[CV 5/5] END max_depth=4, min_samples_split=30;, score=-0.000 total time=   1.0s\n",
            "[CV 1/5] END max_depth=4, min_samples_split=40;, score=-0.000 total time=   1.2s\n",
            "[CV 2/5] END max_depth=4, min_samples_split=40;, score=-0.000 total time=   1.1s\n",
            "[CV 3/5] END max_depth=4, min_samples_split=40;, score=-0.000 total time=   0.8s\n",
            "[CV 4/5] END max_depth=4, min_samples_split=40;, score=-0.000 total time=   0.8s\n",
            "[CV 5/5] END max_depth=4, min_samples_split=40;, score=-0.000 total time=   0.8s\n",
            "[CV 1/5] END max_depth=4, min_samples_split=50;, score=-0.000 total time=   0.8s\n",
            "[CV 2/5] END max_depth=4, min_samples_split=50;, score=-0.000 total time=   0.8s\n",
            "[CV 3/5] END max_depth=4, min_samples_split=50;, score=-0.000 total time=   0.8s\n",
            "[CV 4/5] END max_depth=4, min_samples_split=50;, score=-0.000 total time=   0.8s\n",
            "[CV 5/5] END max_depth=4, min_samples_split=50;, score=-0.000 total time=   0.8s\n",
            "[CV 1/5] END max_depth=5, min_samples_split=10;, score=-0.000 total time=   1.0s\n",
            "[CV 2/5] END max_depth=5, min_samples_split=10;, score=-0.000 total time=   1.0s\n",
            "[CV 3/5] END max_depth=5, min_samples_split=10;, score=-0.000 total time=   1.0s\n",
            "[CV 4/5] END max_depth=5, min_samples_split=10;, score=-0.000 total time=   1.1s\n",
            "[CV 5/5] END max_depth=5, min_samples_split=10;, score=-0.000 total time=   1.5s\n",
            "[CV 1/5] END max_depth=5, min_samples_split=20;, score=-0.000 total time=   1.3s\n",
            "[CV 2/5] END max_depth=5, min_samples_split=20;, score=-0.000 total time=   1.0s\n",
            "[CV 3/5] END max_depth=5, min_samples_split=20;, score=-0.000 total time=   1.0s\n",
            "[CV 4/5] END max_depth=5, min_samples_split=20;, score=-0.000 total time=   1.0s\n",
            "[CV 5/5] END max_depth=5, min_samples_split=20;, score=-0.000 total time=   1.0s\n",
            "[CV 1/5] END max_depth=5, min_samples_split=30;, score=-0.000 total time=   1.0s\n",
            "[CV 2/5] END max_depth=5, min_samples_split=30;, score=-0.000 total time=   1.0s\n",
            "[CV 3/5] END max_depth=5, min_samples_split=30;, score=-0.000 total time=   1.0s\n",
            "[CV 4/5] END max_depth=5, min_samples_split=30;, score=-0.000 total time=   1.0s\n",
            "[CV 5/5] END max_depth=5, min_samples_split=30;, score=-0.000 total time=   1.0s\n",
            "[CV 1/5] END max_depth=5, min_samples_split=40;, score=-0.000 total time=   1.2s\n",
            "[CV 2/5] END max_depth=5, min_samples_split=40;, score=-0.000 total time=   1.5s\n",
            "[CV 3/5] END max_depth=5, min_samples_split=40;, score=-0.000 total time=   1.3s\n",
            "[CV 4/5] END max_depth=5, min_samples_split=40;, score=-0.000 total time=   1.0s\n",
            "[CV 5/5] END max_depth=5, min_samples_split=40;, score=-0.000 total time=   1.0s\n",
            "[CV 1/5] END max_depth=5, min_samples_split=50;, score=-0.000 total time=   1.0s\n",
            "[CV 2/5] END max_depth=5, min_samples_split=50;, score=-0.000 total time=   1.0s\n",
            "[CV 3/5] END max_depth=5, min_samples_split=50;, score=-0.000 total time=   1.0s\n",
            "[CV 4/5] END max_depth=5, min_samples_split=50;, score=-0.000 total time=   1.0s\n",
            "[CV 5/5] END max_depth=5, min_samples_split=50;, score=-0.000 total time=   1.0s\n",
            "[CV 1/5] END max_depth=6, min_samples_split=10;, score=-0.000 total time=   1.2s\n",
            "[CV 2/5] END max_depth=6, min_samples_split=10;, score=-0.000 total time=   1.9s\n",
            "[CV 3/5] END max_depth=6, min_samples_split=10;, score=-0.000 total time=   2.4s\n",
            "[CV 4/5] END max_depth=6, min_samples_split=10;, score=-0.000 total time=   1.3s\n",
            "[CV 5/5] END max_depth=6, min_samples_split=10;, score=-0.000 total time=   1.1s\n",
            "[CV 1/5] END max_depth=6, min_samples_split=20;, score=-0.000 total time=   1.2s\n",
            "[CV 2/5] END max_depth=6, min_samples_split=20;, score=-0.000 total time=   1.1s\n",
            "[CV 3/5] END max_depth=6, min_samples_split=20;, score=-0.000 total time=   1.2s\n",
            "[CV 4/5] END max_depth=6, min_samples_split=20;, score=-0.000 total time=   1.1s\n",
            "[CV 5/5] END max_depth=6, min_samples_split=20;, score=-0.000 total time=   1.2s\n",
            "[CV 1/5] END max_depth=6, min_samples_split=30;, score=-0.000 total time=   1.2s\n",
            "[CV 2/5] END max_depth=6, min_samples_split=30;, score=-0.000 total time=   1.4s\n",
            "[CV 3/5] END max_depth=6, min_samples_split=30;, score=-0.000 total time=   1.8s\n",
            "[CV 4/5] END max_depth=6, min_samples_split=30;, score=-0.000 total time=   1.3s\n",
            "[CV 5/5] END max_depth=6, min_samples_split=30;, score=-0.000 total time=   1.2s\n",
            "[CV 1/5] END max_depth=6, min_samples_split=40;, score=-0.000 total time=   1.2s\n",
            "[CV 2/5] END max_depth=6, min_samples_split=40;, score=-0.000 total time=   1.5s\n",
            "[CV 3/5] END max_depth=6, min_samples_split=40;, score=-0.000 total time=   1.2s\n",
            "[CV 4/5] END max_depth=6, min_samples_split=40;, score=-0.000 total time=   1.2s\n",
            "[CV 5/5] END max_depth=6, min_samples_split=40;, score=-0.000 total time=   1.2s\n",
            "[CV 1/5] END max_depth=6, min_samples_split=50;, score=-0.000 total time=   1.2s\n",
            "[CV 2/5] END max_depth=6, min_samples_split=50;, score=-0.000 total time=   1.5s\n",
            "[CV 3/5] END max_depth=6, min_samples_split=50;, score=-0.000 total time=   1.8s\n",
            "[CV 4/5] END max_depth=6, min_samples_split=50;, score=-0.000 total time=   1.3s\n",
            "[CV 5/5] END max_depth=6, min_samples_split=50;, score=-0.000 total time=   1.1s\n",
            "[CV 1/5] END max_depth=7, min_samples_split=10;, score=-0.000 total time=   1.4s\n",
            "[CV 2/5] END max_depth=7, min_samples_split=10;, score=-0.000 total time=   1.3s\n",
            "[CV 3/5] END max_depth=7, min_samples_split=10;, score=-0.000 total time=   1.3s\n",
            "[CV 4/5] END max_depth=7, min_samples_split=10;, score=-0.000 total time=   1.3s\n",
            "[CV 5/5] END max_depth=7, min_samples_split=10;, score=-0.000 total time=   1.4s\n",
            "[CV 1/5] END max_depth=7, min_samples_split=20;, score=-0.000 total time=   1.5s\n",
            "[CV 2/5] END max_depth=7, min_samples_split=20;, score=-0.000 total time=   2.1s\n",
            "[CV 3/5] END max_depth=7, min_samples_split=20;, score=-0.000 total time=   1.6s\n",
            "[CV 4/5] END max_depth=7, min_samples_split=20;, score=-0.000 total time=   1.4s\n",
            "[CV 5/5] END max_depth=7, min_samples_split=20;, score=-0.000 total time=   1.4s\n",
            "[CV 1/5] END max_depth=7, min_samples_split=30;, score=-0.000 total time=   1.4s\n",
            "[CV 2/5] END max_depth=7, min_samples_split=30;, score=-0.000 total time=   1.3s\n",
            "[CV 3/5] END max_depth=7, min_samples_split=30;, score=-0.000 total time=   1.3s\n",
            "[CV 4/5] END max_depth=7, min_samples_split=30;, score=-0.000 total time=   1.3s\n",
            "[CV 5/5] END max_depth=7, min_samples_split=30;, score=-0.000 total time=   1.6s\n",
            "[CV 1/5] END max_depth=7, min_samples_split=40;, score=-0.000 total time=   2.1s\n",
            "[CV 2/5] END max_depth=7, min_samples_split=40;, score=-0.000 total time=   1.4s\n",
            "[CV 3/5] END max_depth=7, min_samples_split=40;, score=-0.000 total time=   1.3s\n",
            "[CV 4/5] END max_depth=7, min_samples_split=40;, score=-0.000 total time=   1.4s\n",
            "[CV 5/5] END max_depth=7, min_samples_split=40;, score=-0.000 total time=   1.3s\n",
            "[CV 1/5] END max_depth=7, min_samples_split=50;, score=-0.000 total time=   1.4s\n",
            "[CV 2/5] END max_depth=7, min_samples_split=50;, score=-0.000 total time=   1.4s\n",
            "[CV 3/5] END max_depth=7, min_samples_split=50;, score=-0.000 total time=   1.3s\n",
            "[CV 4/5] END max_depth=7, min_samples_split=50;, score=-0.000 total time=   1.7s\n",
            "[CV 5/5] END max_depth=7, min_samples_split=50;, score=-0.000 total time=   2.0s\n",
            "[CV 1/5] END max_depth=8, min_samples_split=10;, score=-0.000 total time=   1.6s\n",
            "[CV 2/5] END max_depth=8, min_samples_split=10;, score=-0.000 total time=   2.2s\n",
            "[CV 3/5] END max_depth=8, min_samples_split=10;, score=-0.000 total time=   2.4s\n",
            "[CV 4/5] END max_depth=8, min_samples_split=10;, score=-0.000 total time=   2.6s\n",
            "[CV 5/5] END max_depth=8, min_samples_split=10;, score=-0.000 total time=   2.3s\n",
            "[CV 1/5] END max_depth=8, min_samples_split=20;, score=-0.000 total time=   2.4s\n",
            "[CV 2/5] END max_depth=8, min_samples_split=20;, score=-0.000 total time=   1.8s\n",
            "[CV 3/5] END max_depth=8, min_samples_split=20;, score=-0.000 total time=   1.6s\n",
            "[CV 4/5] END max_depth=8, min_samples_split=20;, score=-0.000 total time=   2.2s\n",
            "[CV 5/5] END max_depth=8, min_samples_split=20;, score=-0.000 total time=   1.5s\n",
            "[CV 1/5] END max_depth=8, min_samples_split=30;, score=-0.000 total time=   1.6s\n",
            "[CV 2/5] END max_depth=8, min_samples_split=30;, score=-0.000 total time=   2.0s\n",
            "[CV 3/5] END max_depth=8, min_samples_split=30;, score=-0.000 total time=   2.1s\n",
            "[CV 4/5] END max_depth=8, min_samples_split=30;, score=-0.000 total time=   1.6s\n",
            "[CV 5/5] END max_depth=8, min_samples_split=30;, score=-0.000 total time=   1.8s\n",
            "[CV 1/5] END max_depth=8, min_samples_split=40;, score=-0.000 total time=   1.8s\n",
            "[CV 2/5] END max_depth=8, min_samples_split=40;, score=-0.000 total time=   2.1s\n",
            "[CV 3/5] END max_depth=8, min_samples_split=40;, score=-0.000 total time=   1.9s\n",
            "[CV 4/5] END max_depth=8, min_samples_split=40;, score=-0.000 total time=   2.8s\n",
            "[CV 5/5] END max_depth=8, min_samples_split=40;, score=-0.000 total time=   1.8s\n",
            "[CV 1/5] END max_depth=8, min_samples_split=50;, score=-0.000 total time=   1.6s\n",
            "[CV 2/5] END max_depth=8, min_samples_split=50;, score=-0.000 total time=   1.5s\n",
            "[CV 3/5] END max_depth=8, min_samples_split=50;, score=-0.000 total time=   1.5s\n",
            "[CV 4/5] END max_depth=8, min_samples_split=50;, score=-0.000 total time=   1.5s\n",
            "[CV 5/5] END max_depth=8, min_samples_split=50;, score=-0.000 total time=   1.5s\n",
            "[CV 1/5] END max_depth=9, min_samples_split=10;, score=-0.000 total time=   2.1s\n",
            "[CV 2/5] END max_depth=9, min_samples_split=10;, score=-0.000 total time=   2.5s\n",
            "[CV 3/5] END max_depth=9, min_samples_split=10;, score=-0.000 total time=   1.7s\n",
            "[CV 4/5] END max_depth=9, min_samples_split=10;, score=-0.000 total time=   1.7s\n",
            "[CV 5/5] END max_depth=9, min_samples_split=10;, score=-0.000 total time=   1.7s\n",
            "[CV 1/5] END max_depth=9, min_samples_split=20;, score=-0.000 total time=   1.8s\n",
            "[CV 2/5] END max_depth=9, min_samples_split=20;, score=-0.000 total time=   1.7s\n",
            "[CV 3/5] END max_depth=9, min_samples_split=20;, score=-0.000 total time=   2.1s\n",
            "[CV 4/5] END max_depth=9, min_samples_split=20;, score=-0.000 total time=   2.3s\n",
            "[CV 5/5] END max_depth=9, min_samples_split=20;, score=-0.000 total time=   1.7s\n",
            "[CV 1/5] END max_depth=9, min_samples_split=30;, score=-0.000 total time=   1.8s\n",
            "[CV 2/5] END max_depth=9, min_samples_split=30;, score=-0.000 total time=   1.7s\n",
            "[CV 3/5] END max_depth=9, min_samples_split=30;, score=-0.000 total time=   1.7s\n",
            "[CV 4/5] END max_depth=9, min_samples_split=30;, score=-0.000 total time=   1.7s\n",
            "[CV 5/5] END max_depth=9, min_samples_split=30;, score=-0.000 total time=   2.3s\n",
            "[CV 1/5] END max_depth=9, min_samples_split=40;, score=-0.000 total time=   2.3s\n",
            "[CV 2/5] END max_depth=9, min_samples_split=40;, score=-0.000 total time=   1.8s\n",
            "[CV 3/5] END max_depth=9, min_samples_split=40;, score=-0.000 total time=   1.7s\n",
            "[CV 4/5] END max_depth=9, min_samples_split=40;, score=-0.000 total time=   1.7s\n",
            "[CV 5/5] END max_depth=9, min_samples_split=40;, score=-0.000 total time=   1.7s\n",
            "[CV 1/5] END max_depth=9, min_samples_split=50;, score=-0.000 total time=   1.8s\n",
            "[CV 2/5] END max_depth=9, min_samples_split=50;, score=-0.000 total time=   2.4s\n",
            "[CV 3/5] END max_depth=9, min_samples_split=50;, score=-0.000 total time=   2.0s\n",
            "[CV 4/5] END max_depth=9, min_samples_split=50;, score=-0.000 total time=   1.7s\n",
            "[CV 5/5] END max_depth=9, min_samples_split=50;, score=-0.000 total time=   1.7s\n",
            "[CV 1/5] END max_depth=10, min_samples_split=10;, score=-0.000 total time=   2.0s\n",
            "[CV 2/5] END max_depth=10, min_samples_split=10;, score=-0.000 total time=   1.9s\n",
            "[CV 3/5] END max_depth=10, min_samples_split=10;, score=-0.000 total time=   2.1s\n",
            "[CV 4/5] END max_depth=10, min_samples_split=10;, score=-0.000 total time=   2.7s\n",
            "[CV 5/5] END max_depth=10, min_samples_split=10;, score=-0.000 total time=   1.9s\n",
            "[CV 1/5] END max_depth=10, min_samples_split=20;, score=-0.000 total time=   2.0s\n",
            "[CV 2/5] END max_depth=10, min_samples_split=20;, score=-0.000 total time=   1.9s\n",
            "[CV 3/5] END max_depth=10, min_samples_split=20;, score=-0.000 total time=   1.9s\n",
            "[CV 4/5] END max_depth=10, min_samples_split=20;, score=-0.000 total time=   1.9s\n",
            "[CV 5/5] END max_depth=10, min_samples_split=20;, score=-0.000 total time=   2.9s\n",
            "[CV 1/5] END max_depth=10, min_samples_split=30;, score=-0.000 total time=   2.0s\n",
            "[CV 2/5] END max_depth=10, min_samples_split=30;, score=-0.000 total time=   1.9s\n",
            "[CV 3/5] END max_depth=10, min_samples_split=30;, score=-0.000 total time=   1.9s\n",
            "[CV 4/5] END max_depth=10, min_samples_split=30;, score=-0.000 total time=   1.9s\n",
            "[CV 5/5] END max_depth=10, min_samples_split=30;, score=-0.000 total time=   1.9s\n",
            "[CV 1/5] END max_depth=10, min_samples_split=40;, score=-0.000 total time=   2.8s\n",
            "[CV 2/5] END max_depth=10, min_samples_split=40;, score=-0.000 total time=   2.1s\n",
            "[CV 3/5] END max_depth=10, min_samples_split=40;, score=-0.000 total time=   1.9s\n",
            "[CV 4/5] END max_depth=10, min_samples_split=40;, score=-0.000 total time=   1.9s\n",
            "[CV 5/5] END max_depth=10, min_samples_split=40;, score=-0.000 total time=   1.9s\n",
            "[CV 1/5] END max_depth=10, min_samples_split=50;, score=-0.000 total time=   2.0s\n",
            "[CV 2/5] END max_depth=10, min_samples_split=50;, score=-0.000 total time=   2.6s\n",
            "[CV 3/5] END max_depth=10, min_samples_split=50;, score=-0.000 total time=   2.3s\n",
            "[CV 4/5] END max_depth=10, min_samples_split=50;, score=-0.000 total time=   1.9s\n",
            "[CV 5/5] END max_depth=10, min_samples_split=50;, score=-0.000 total time=   1.9s\n"
          ]
        },
        {
          "output_type": "execute_result",
          "data": {
            "text/plain": [
              "GridSearchCV(cv=5, estimator=DecisionTreeRegressor(),\n",
              "             param_grid={'max_depth': range(1, 11),\n",
              "                         'min_samples_split': range(10, 60, 10)},\n",
              "             scoring='neg_mean_squared_error', verbose=3)"
            ],
            "text/html": [
              "<style>#sk-container-id-1 {color: black;background-color: white;}#sk-container-id-1 pre{padding: 0;}#sk-container-id-1 div.sk-toggleable {background-color: white;}#sk-container-id-1 label.sk-toggleable__label {cursor: pointer;display: block;width: 100%;margin-bottom: 0;padding: 0.3em;box-sizing: border-box;text-align: center;}#sk-container-id-1 label.sk-toggleable__label-arrow:before {content: \"▸\";float: left;margin-right: 0.25em;color: #696969;}#sk-container-id-1 label.sk-toggleable__label-arrow:hover:before {color: black;}#sk-container-id-1 div.sk-estimator:hover label.sk-toggleable__label-arrow:before {color: black;}#sk-container-id-1 div.sk-toggleable__content {max-height: 0;max-width: 0;overflow: hidden;text-align: left;background-color: #f0f8ff;}#sk-container-id-1 div.sk-toggleable__content pre {margin: 0.2em;color: black;border-radius: 0.25em;background-color: #f0f8ff;}#sk-container-id-1 input.sk-toggleable__control:checked~div.sk-toggleable__content {max-height: 200px;max-width: 100%;overflow: auto;}#sk-container-id-1 input.sk-toggleable__control:checked~label.sk-toggleable__label-arrow:before {content: \"▾\";}#sk-container-id-1 div.sk-estimator input.sk-toggleable__control:checked~label.sk-toggleable__label {background-color: #d4ebff;}#sk-container-id-1 div.sk-label input.sk-toggleable__control:checked~label.sk-toggleable__label {background-color: #d4ebff;}#sk-container-id-1 input.sk-hidden--visually {border: 0;clip: rect(1px 1px 1px 1px);clip: rect(1px, 1px, 1px, 1px);height: 1px;margin: -1px;overflow: hidden;padding: 0;position: absolute;width: 1px;}#sk-container-id-1 div.sk-estimator {font-family: monospace;background-color: #f0f8ff;border: 1px dotted black;border-radius: 0.25em;box-sizing: border-box;margin-bottom: 0.5em;}#sk-container-id-1 div.sk-estimator:hover {background-color: #d4ebff;}#sk-container-id-1 div.sk-parallel-item::after {content: \"\";width: 100%;border-bottom: 1px solid gray;flex-grow: 1;}#sk-container-id-1 div.sk-label:hover label.sk-toggleable__label {background-color: #d4ebff;}#sk-container-id-1 div.sk-serial::before {content: \"\";position: absolute;border-left: 1px solid gray;box-sizing: border-box;top: 0;bottom: 0;left: 50%;z-index: 0;}#sk-container-id-1 div.sk-serial {display: flex;flex-direction: column;align-items: center;background-color: white;padding-right: 0.2em;padding-left: 0.2em;position: relative;}#sk-container-id-1 div.sk-item {position: relative;z-index: 1;}#sk-container-id-1 div.sk-parallel {display: flex;align-items: stretch;justify-content: center;background-color: white;position: relative;}#sk-container-id-1 div.sk-item::before, #sk-container-id-1 div.sk-parallel-item::before {content: \"\";position: absolute;border-left: 1px solid gray;box-sizing: border-box;top: 0;bottom: 0;left: 50%;z-index: -1;}#sk-container-id-1 div.sk-parallel-item {display: flex;flex-direction: column;z-index: 1;position: relative;background-color: white;}#sk-container-id-1 div.sk-parallel-item:first-child::after {align-self: flex-end;width: 50%;}#sk-container-id-1 div.sk-parallel-item:last-child::after {align-self: flex-start;width: 50%;}#sk-container-id-1 div.sk-parallel-item:only-child::after {width: 0;}#sk-container-id-1 div.sk-dashed-wrapped {border: 1px dashed gray;margin: 0 0.4em 0.5em 0.4em;box-sizing: border-box;padding-bottom: 0.4em;background-color: white;}#sk-container-id-1 div.sk-label label {font-family: monospace;font-weight: bold;display: inline-block;line-height: 1.2em;}#sk-container-id-1 div.sk-label-container {text-align: center;}#sk-container-id-1 div.sk-container {/* jupyter's `normalize.less` sets `[hidden] { display: none; }` but bootstrap.min.css set `[hidden] { display: none !important; }` so we also need the `!important` here to be able to override the default hidden behavior on the sphinx rendered scikit-learn.org. See: https://github.com/scikit-learn/scikit-learn/issues/21755 */display: inline-block !important;position: relative;}#sk-container-id-1 div.sk-text-repr-fallback {display: none;}</style><div id=\"sk-container-id-1\" class=\"sk-top-container\"><div class=\"sk-text-repr-fallback\"><pre>GridSearchCV(cv=5, estimator=DecisionTreeRegressor(),\n",
              "             param_grid={&#x27;max_depth&#x27;: range(1, 11),\n",
              "                         &#x27;min_samples_split&#x27;: range(10, 60, 10)},\n",
              "             scoring=&#x27;neg_mean_squared_error&#x27;, verbose=3)</pre><b>In a Jupyter environment, please rerun this cell to show the HTML representation or trust the notebook. <br />On GitHub, the HTML representation is unable to render, please try loading this page with nbviewer.org.</b></div><div class=\"sk-container\" hidden><div class=\"sk-item sk-dashed-wrapped\"><div class=\"sk-label-container\"><div class=\"sk-label sk-toggleable\"><input class=\"sk-toggleable__control sk-hidden--visually\" id=\"sk-estimator-id-1\" type=\"checkbox\" ><label for=\"sk-estimator-id-1\" class=\"sk-toggleable__label sk-toggleable__label-arrow\">GridSearchCV</label><div class=\"sk-toggleable__content\"><pre>GridSearchCV(cv=5, estimator=DecisionTreeRegressor(),\n",
              "             param_grid={&#x27;max_depth&#x27;: range(1, 11),\n",
              "                         &#x27;min_samples_split&#x27;: range(10, 60, 10)},\n",
              "             scoring=&#x27;neg_mean_squared_error&#x27;, verbose=3)</pre></div></div></div><div class=\"sk-parallel\"><div class=\"sk-parallel-item\"><div class=\"sk-item\"><div class=\"sk-label-container\"><div class=\"sk-label sk-toggleable\"><input class=\"sk-toggleable__control sk-hidden--visually\" id=\"sk-estimator-id-2\" type=\"checkbox\" ><label for=\"sk-estimator-id-2\" class=\"sk-toggleable__label sk-toggleable__label-arrow\">estimator: DecisionTreeRegressor</label><div class=\"sk-toggleable__content\"><pre>DecisionTreeRegressor()</pre></div></div></div><div class=\"sk-serial\"><div class=\"sk-item\"><div class=\"sk-estimator sk-toggleable\"><input class=\"sk-toggleable__control sk-hidden--visually\" id=\"sk-estimator-id-3\" type=\"checkbox\" ><label for=\"sk-estimator-id-3\" class=\"sk-toggleable__label sk-toggleable__label-arrow\">DecisionTreeRegressor</label><div class=\"sk-toggleable__content\"><pre>DecisionTreeRegressor()</pre></div></div></div></div></div></div></div></div></div></div>"
            ]
          },
          "metadata": {},
          "execution_count": 33
        }
      ]
    },
    {
      "cell_type": "code",
      "source": [
        "# Print out best parameters and best scoring for the model\n",
        "print(gs.best_params_)\n",
        "print(-gs.best_score_)"
      ],
      "metadata": {
        "colab": {
          "base_uri": "https://localhost:8080/"
        },
        "id": "fgTON3fcclFv",
        "outputId": "9bc6b4d8-bb04-4bbf-ffbf-22f14dc8d10d"
      },
      "execution_count": null,
      "outputs": [
        {
          "output_type": "stream",
          "name": "stdout",
          "text": [
            "{'max_depth': 1, 'min_samples_split': 10}\n",
            "7.715733451794498e-07\n"
          ]
        }
      ]
    },
    {
      "cell_type": "markdown",
      "source": [
        "Ignore the best score for now"
      ],
      "metadata": {
        "id": "RLnO4yBQhJlq"
      }
    },
    {
      "cell_type": "markdown",
      "source": [
        "# Fit the new optimal model inside the training set"
      ],
      "metadata": {
        "id": "gQzGdyVsG0Gg"
      }
    },
    {
      "cell_type": "code",
      "source": [
        "tuned_model = DecisionTreeRegressor(max_depth=1,\n",
        "                                  min_samples_split=10)\n",
        "#or new_model = gs.best_estimator_\n",
        "tuned_model.fit(x_train, y_train)"
      ],
      "metadata": {
        "id": "c6NKTBJsGtvu",
        "colab": {
          "base_uri": "https://localhost:8080/",
          "height": 75
        },
        "outputId": "27147c23-0724-4efd-9b1c-18701153691d"
      },
      "execution_count": null,
      "outputs": [
        {
          "output_type": "execute_result",
          "data": {
            "text/plain": [
              "DecisionTreeRegressor(max_depth=1, min_samples_split=10)"
            ],
            "text/html": [
              "<style>#sk-container-id-2 {color: black;background-color: white;}#sk-container-id-2 pre{padding: 0;}#sk-container-id-2 div.sk-toggleable {background-color: white;}#sk-container-id-2 label.sk-toggleable__label {cursor: pointer;display: block;width: 100%;margin-bottom: 0;padding: 0.3em;box-sizing: border-box;text-align: center;}#sk-container-id-2 label.sk-toggleable__label-arrow:before {content: \"▸\";float: left;margin-right: 0.25em;color: #696969;}#sk-container-id-2 label.sk-toggleable__label-arrow:hover:before {color: black;}#sk-container-id-2 div.sk-estimator:hover label.sk-toggleable__label-arrow:before {color: black;}#sk-container-id-2 div.sk-toggleable__content {max-height: 0;max-width: 0;overflow: hidden;text-align: left;background-color: #f0f8ff;}#sk-container-id-2 div.sk-toggleable__content pre {margin: 0.2em;color: black;border-radius: 0.25em;background-color: #f0f8ff;}#sk-container-id-2 input.sk-toggleable__control:checked~div.sk-toggleable__content {max-height: 200px;max-width: 100%;overflow: auto;}#sk-container-id-2 input.sk-toggleable__control:checked~label.sk-toggleable__label-arrow:before {content: \"▾\";}#sk-container-id-2 div.sk-estimator input.sk-toggleable__control:checked~label.sk-toggleable__label {background-color: #d4ebff;}#sk-container-id-2 div.sk-label input.sk-toggleable__control:checked~label.sk-toggleable__label {background-color: #d4ebff;}#sk-container-id-2 input.sk-hidden--visually {border: 0;clip: rect(1px 1px 1px 1px);clip: rect(1px, 1px, 1px, 1px);height: 1px;margin: -1px;overflow: hidden;padding: 0;position: absolute;width: 1px;}#sk-container-id-2 div.sk-estimator {font-family: monospace;background-color: #f0f8ff;border: 1px dotted black;border-radius: 0.25em;box-sizing: border-box;margin-bottom: 0.5em;}#sk-container-id-2 div.sk-estimator:hover {background-color: #d4ebff;}#sk-container-id-2 div.sk-parallel-item::after {content: \"\";width: 100%;border-bottom: 1px solid gray;flex-grow: 1;}#sk-container-id-2 div.sk-label:hover label.sk-toggleable__label {background-color: #d4ebff;}#sk-container-id-2 div.sk-serial::before {content: \"\";position: absolute;border-left: 1px solid gray;box-sizing: border-box;top: 0;bottom: 0;left: 50%;z-index: 0;}#sk-container-id-2 div.sk-serial {display: flex;flex-direction: column;align-items: center;background-color: white;padding-right: 0.2em;padding-left: 0.2em;position: relative;}#sk-container-id-2 div.sk-item {position: relative;z-index: 1;}#sk-container-id-2 div.sk-parallel {display: flex;align-items: stretch;justify-content: center;background-color: white;position: relative;}#sk-container-id-2 div.sk-item::before, #sk-container-id-2 div.sk-parallel-item::before {content: \"\";position: absolute;border-left: 1px solid gray;box-sizing: border-box;top: 0;bottom: 0;left: 50%;z-index: -1;}#sk-container-id-2 div.sk-parallel-item {display: flex;flex-direction: column;z-index: 1;position: relative;background-color: white;}#sk-container-id-2 div.sk-parallel-item:first-child::after {align-self: flex-end;width: 50%;}#sk-container-id-2 div.sk-parallel-item:last-child::after {align-self: flex-start;width: 50%;}#sk-container-id-2 div.sk-parallel-item:only-child::after {width: 0;}#sk-container-id-2 div.sk-dashed-wrapped {border: 1px dashed gray;margin: 0 0.4em 0.5em 0.4em;box-sizing: border-box;padding-bottom: 0.4em;background-color: white;}#sk-container-id-2 div.sk-label label {font-family: monospace;font-weight: bold;display: inline-block;line-height: 1.2em;}#sk-container-id-2 div.sk-label-container {text-align: center;}#sk-container-id-2 div.sk-container {/* jupyter's `normalize.less` sets `[hidden] { display: none; }` but bootstrap.min.css set `[hidden] { display: none !important; }` so we also need the `!important` here to be able to override the default hidden behavior on the sphinx rendered scikit-learn.org. See: https://github.com/scikit-learn/scikit-learn/issues/21755 */display: inline-block !important;position: relative;}#sk-container-id-2 div.sk-text-repr-fallback {display: none;}</style><div id=\"sk-container-id-2\" class=\"sk-top-container\"><div class=\"sk-text-repr-fallback\"><pre>DecisionTreeRegressor(max_depth=1, min_samples_split=10)</pre><b>In a Jupyter environment, please rerun this cell to show the HTML representation or trust the notebook. <br />On GitHub, the HTML representation is unable to render, please try loading this page with nbviewer.org.</b></div><div class=\"sk-container\" hidden><div class=\"sk-item\"><div class=\"sk-estimator sk-toggleable\"><input class=\"sk-toggleable__control sk-hidden--visually\" id=\"sk-estimator-id-4\" type=\"checkbox\" checked><label for=\"sk-estimator-id-4\" class=\"sk-toggleable__label sk-toggleable__label-arrow\">DecisionTreeRegressor</label><div class=\"sk-toggleable__content\"><pre>DecisionTreeRegressor(max_depth=1, min_samples_split=10)</pre></div></div></div></div></div>"
            ]
          },
          "metadata": {},
          "execution_count": 35
        }
      ]
    },
    {
      "cell_type": "code",
      "source": [
        "# Prediction on x_test set\n",
        "tuned_pred=tuned_model.predict(x_test)"
      ],
      "metadata": {
        "id": "teKKc2HWbUPU"
      },
      "execution_count": null,
      "outputs": []
    },
    {
      "cell_type": "code",
      "source": [
        "# With hyperparameter tuned comparing predicted value on x_test and actual y_test value\n",
        "\n",
        "from sklearn import metrics\n",
        "\n",
        "print('MAE:', metrics.mean_absolute_error(y_test,tuned_pred))\n",
        "print('MSE:', metrics.mean_squared_error(y_test, tuned_pred))\n",
        "print('RMSE:', np.sqrt(metrics.mean_squared_error(y_test, tuned_pred)))"
      ],
      "metadata": {
        "colab": {
          "base_uri": "https://localhost:8080/"
        },
        "id": "UAxc1sloafgy",
        "outputId": "e4419f8f-7e9d-404c-a43c-0e3e1b57f68c"
      },
      "execution_count": null,
      "outputs": [
        {
          "output_type": "stream",
          "name": "stdout",
          "text": [
            "MAE: 0.0005206321055403649\n",
            "MSE: 7.794917059992064e-07\n",
            "RMSE: 0.0008828882749245266\n"
          ]
        }
      ]
    },
    {
      "cell_type": "markdown",
      "source": [
        "MSE are not very intuitive because the units the metrics are expressed in do have much meaning. So, we usually use the RMSE metric, which simply takes the square root of the MSE metric so that your error metric is in the same units as your response variable."
      ],
      "metadata": {
        "id": "9RSi3NyL3YvU"
      }
    },
    {
      "cell_type": "markdown",
      "source": [
        "# Create a scatter plot to check the predicted value vs actual value"
      ],
      "metadata": {
        "id": "uNHUmo9zwnAI"
      }
    },
    {
      "cell_type": "code",
      "source": [
        "plt.scatter(y_test, tuned_pred)\n",
        "plt.xlabel(\"Actual value\")\n",
        "plt.ylabel(\"Predicted value\")"
      ],
      "metadata": {
        "colab": {
          "base_uri": "https://localhost:8080/",
          "height": 471
        },
        "id": "uiVHisgn1laN",
        "outputId": "4399dd8e-8a43-4680-a1f1-b83875d0769d"
      },
      "execution_count": null,
      "outputs": [
        {
          "output_type": "execute_result",
          "data": {
            "text/plain": [
              "Text(0, 0.5, 'Predicted value')"
            ]
          },
          "metadata": {},
          "execution_count": 42
        },
        {
          "output_type": "display_data",
          "data": {
            "text/plain": [
              "<Figure size 640x480 with 1 Axes>"
            ],
            "image/png": "[encoded data removed]"
          },
          "metadata": {}
        }
      ]
    },
    {
      "cell_type": "markdown",
      "source": [
        "Seems like the data is not predicting well. The result should be near a 45* degree line as a line of best fit. It is predicting pretty much 0 for all the values which is not true. It is important to notice as well that the model is ignoring negative gains."
      ],
      "metadata": {
        "id": "RH4XBEGQ3c_i"
      }
    },
    {
      "cell_type": "markdown",
      "source": [
        "## Draw back for decision tree models is that they can take a long time to compute since there are many different levels it can go to. Tuning this model takes me a long time to tune the parameters.\n",
        "\n",
        "## Tree models are also not as accurate compare to other models"
      ],
      "metadata": {
        "id": "BTD7fOEtnn5M"
      }
    }
  ]
}