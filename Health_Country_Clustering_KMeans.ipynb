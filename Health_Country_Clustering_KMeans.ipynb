{
  "nbformat": 4,
  "nbformat_minor": 0,
  "metadata": {
    "colab": {
      "provenance": []
    },
    "kernelspec": {
      "name": "python3",
      "display_name": "Python 3"
    },
    "language_info": {
      "name": "python"
    }
  },
  "cells": [
    {
      "cell_type": "markdown",
      "source": [
        "In this project, we are exploring the Country Data on Kaggle to cluster countries together in order to identify which countries need the most help for Health Aid Program"
      ],
      "metadata": {
        "id": "B0DqpwHpr5E4"
      }
    },
    {
      "cell_type": "markdown",
      "source": [
        "Link to the dataset: https://www.kaggle.com/datasets/rohan0301/unsupervised-learning-on-country-data?resource=download"
      ],
      "metadata": {
        "id": "ccV1mwN9sKBU"
      }
    },
    {
      "cell_type": "markdown",
      "source": [
        "# Import the dataset"
      ],
      "metadata": {
        "id": "C0SKQVy-sODI"
      }
    },
    {
      "cell_type": "code",
      "execution_count": null,
      "metadata": {
        "id": "1FJA5z_2kYMJ"
      },
      "outputs": [],
      "source": [
        "import pandas as pd\n",
        "import numpy as np\n",
        "from sklearn.preprocessing import StandardScaler\n",
        "from sklearn.cluster import KMeans\n",
        "import matplotlib.pyplot as plt\n",
        "from sklearn.decomposition import PCA"
      ]
    },
    {
      "cell_type": "code",
      "source": [
        "country = pd.read_csv(\"Country-data.csv\")"
      ],
      "metadata": {
        "id": "wRhkcolXsd1b"
      },
      "execution_count": null,
      "outputs": []
    },
    {
      "cell_type": "code",
      "source": [
        "country.head()"
      ],
      "metadata": {
        "colab": {
          "base_uri": "https://localhost:8080/",
          "height": 206
        },
        "id": "tSBuLwPWsmcv",
        "outputId": "cf75e9f9-8e05-4b77-83b7-0d068412bac9"
      },
      "execution_count": null,
      "outputs": [
        {
          "output_type": "execute_result",
          "data": {
            "text/plain": [
              "               country  child_mort  exports  health  imports  income  \\\n",
              "0          Afghanistan        90.2     10.0    7.58     44.9    1610   \n",
              "1              Albania        16.6     28.0    6.55     48.6    9930   \n",
              "2              Algeria        27.3     38.4    4.17     31.4   12900   \n",
              "3               Angola       119.0     62.3    2.85     42.9    5900   \n",
              "4  Antigua and Barbuda        10.3     45.5    6.03     58.9   19100   \n",
              "\n",
              "   inflation  life_expec  total_fer   gdpp  \n",
              "0       9.44        56.2       5.82    553  \n",
              "1       4.49        76.3       1.65   4090  \n",
              "2      16.10        76.5       2.89   4460  \n",
              "3      22.40        60.1       6.16   3530  \n",
              "4       1.44        76.8       2.13  12200  "
            ],
            "text/html": [
              "\n",
              "  <div id=\"df-82391de2-77bc-4dac-bec1-8e5d5af3688e\">\n",
              "    <div class=\"colab-df-container\">\n",
              "      <div>\n",
              "<style scoped>\n",
              "    .dataframe tbody tr th:only-of-type {\n",
              "        vertical-align: middle;\n",
              "    }\n",
              "\n",
              "    .dataframe tbody tr th {\n",
              "        vertical-align: top;\n",
              "    }\n",
              "\n",
              "    .dataframe thead th {\n",
              "        text-align: right;\n",
              "    }\n",
              "</style>\n",
              "<table border=\"1\" class=\"dataframe\">\n",
              "  <thead>\n",
              "    <tr style=\"text-align: right;\">\n",
              "      <th></th>\n",
              "      <th>country</th>\n",
              "      <th>child_mort</th>\n",
              "      <th>exports</th>\n",
              "      <th>health</th>\n",
              "      <th>imports</th>\n",
              "      <th>income</th>\n",
              "      <th>inflation</th>\n",
              "      <th>life_expec</th>\n",
              "      <th>total_fer</th>\n",
              "      <th>gdpp</th>\n",
              "    </tr>\n",
              "  </thead>\n",
              "  <tbody>\n",
              "    <tr>\n",
              "      <th>0</th>\n",
              "      <td>Afghanistan</td>\n",
              "      <td>90.2</td>\n",
              "      <td>10.0</td>\n",
              "      <td>7.58</td>\n",
              "      <td>44.9</td>\n",
              "      <td>1610</td>\n",
              "      <td>9.44</td>\n",
              "      <td>56.2</td>\n",
              "      <td>5.82</td>\n",
              "      <td>553</td>\n",
              "    </tr>\n",
              "    <tr>\n",
              "      <th>1</th>\n",
              "      <td>Albania</td>\n",
              "      <td>16.6</td>\n",
              "      <td>28.0</td>\n",
              "      <td>6.55</td>\n",
              "      <td>48.6</td>\n",
              "      <td>9930</td>\n",
              "      <td>4.49</td>\n",
              "      <td>76.3</td>\n",
              "      <td>1.65</td>\n",
              "      <td>4090</td>\n",
              "    </tr>\n",
              "    <tr>\n",
              "      <th>2</th>\n",
              "      <td>Algeria</td>\n",
              "      <td>27.3</td>\n",
              "      <td>38.4</td>\n",
              "      <td>4.17</td>\n",
              "      <td>31.4</td>\n",
              "      <td>12900</td>\n",
              "      <td>16.10</td>\n",
              "      <td>76.5</td>\n",
              "      <td>2.89</td>\n",
              "      <td>4460</td>\n",
              "    </tr>\n",
              "    <tr>\n",
              "      <th>3</th>\n",
              "      <td>Angola</td>\n",
              "      <td>119.0</td>\n",
              "      <td>62.3</td>\n",
              "      <td>2.85</td>\n",
              "      <td>42.9</td>\n",
              "      <td>5900</td>\n",
              "      <td>22.40</td>\n",
              "      <td>60.1</td>\n",
              "      <td>6.16</td>\n",
              "      <td>3530</td>\n",
              "    </tr>\n",
              "    <tr>\n",
              "      <th>4</th>\n",
              "      <td>Antigua and Barbuda</td>\n",
              "      <td>10.3</td>\n",
              "      <td>45.5</td>\n",
              "      <td>6.03</td>\n",
              "      <td>58.9</td>\n",
              "      <td>19100</td>\n",
              "      <td>1.44</td>\n",
              "      <td>76.8</td>\n",
              "      <td>2.13</td>\n",
              "      <td>12200</td>\n",
              "    </tr>\n",
              "  </tbody>\n",
              "</table>\n",
              "</div>\n",
              "      <button class=\"colab-df-convert\" onclick=\"convertToInteractive('df-82391de2-77bc-4dac-bec1-8e5d5af3688e')\"\n",
              "              title=\"Convert this dataframe to an interactive table.\"\n",
              "              style=\"display:none;\">\n",
              "        \n",
              "  <svg xmlns=\"http://www.w3.org/2000/svg\" height=\"24px\"viewBox=\"0 0 24 24\"\n",
              "       width=\"24px\">\n",
              "    <path d=\"M0 0h24v24H0V0z\" fill=\"none\"/>\n",
              "    <path d=\"M18.56 5.44l.94 2.06.94-2.06 2.06-.94-2.06-.94-.94-2.06-.94 2.06-2.06.94zm-11 1L8.5 8.5l.94-2.06 2.06-.94-2.06-.94L8.5 2.5l-.94 2.06-2.06.94zm10 10l.94 2.06.94-2.06 2.06-.94-2.06-.94-.94-2.06-.94 2.06-2.06.94z\"/><path d=\"M17.41 7.96l-1.37-1.37c-.4-.4-.92-.59-1.43-.59-.52 0-1.04.2-1.43.59L10.3 9.45l-7.72 7.72c-.78.78-.78 2.05 0 2.83L4 21.41c.39.39.9.59 1.41.59.51 0 1.02-.2 1.41-.59l7.78-7.78 2.81-2.81c.8-.78.8-2.07 0-2.86zM5.41 20L4 18.59l7.72-7.72 1.47 1.35L5.41 20z\"/>\n",
              "  </svg>\n",
              "      </button>\n",
              "      \n",
              "  <style>\n",
              "    .colab-df-container {\n",
              "      display:flex;\n",
              "      flex-wrap:wrap;\n",
              "      gap: 12px;\n",
              "    }\n",
              "\n",
              "    .colab-df-convert {\n",
              "      background-color: #E8F0FE;\n",
              "      border: none;\n",
              "      border-radius: 50%;\n",
              "      cursor: pointer;\n",
              "      display: none;\n",
              "      fill: #1967D2;\n",
              "      height: 32px;\n",
              "      padding: 0 0 0 0;\n",
              "      width: 32px;\n",
              "    }\n",
              "\n",
              "    .colab-df-convert:hover {\n",
              "      background-color: #E2EBFA;\n",
              "      box-shadow: 0px 1px 2px rgba(60, 64, 67, 0.3), 0px 1px 3px 1px rgba(60, 64, 67, 0.15);\n",
              "      fill: #174EA6;\n",
              "    }\n",
              "\n",
              "    [theme=dark] .colab-df-convert {\n",
              "      background-color: #3B4455;\n",
              "      fill: #D2E3FC;\n",
              "    }\n",
              "\n",
              "    [theme=dark] .colab-df-convert:hover {\n",
              "      background-color: #434B5C;\n",
              "      box-shadow: 0px 1px 3px 1px rgba(0, 0, 0, 0.15);\n",
              "      filter: drop-shadow(0px 1px 2px rgba(0, 0, 0, 0.3));\n",
              "      fill: #FFFFFF;\n",
              "    }\n",
              "  </style>\n",
              "\n",
              "      <script>\n",
              "        const buttonEl =\n",
              "          document.querySelector('#df-82391de2-77bc-4dac-bec1-8e5d5af3688e button.colab-df-convert');\n",
              "        buttonEl.style.display =\n",
              "          google.colab.kernel.accessAllowed ? 'block' : 'none';\n",
              "\n",
              "        async function convertToInteractive(key) {\n",
              "          const element = document.querySelector('#df-82391de2-77bc-4dac-bec1-8e5d5af3688e');\n",
              "          const dataTable =\n",
              "            await google.colab.kernel.invokeFunction('convertToInteractive',\n",
              "                                                     [key], {});\n",
              "          if (!dataTable) return;\n",
              "\n",
              "          const docLinkHtml = 'Like what you see? Visit the ' +\n",
              "            '<a target=\"_blank\" href=https://colab.research.google.com/notebooks/data_table.ipynb>data table notebook</a>'\n",
              "            + ' to learn more about interactive tables.';\n",
              "          element.innerHTML = '';\n",
              "          dataTable['output_type'] = 'display_data';\n",
              "          await google.colab.output.renderOutput(dataTable, element);\n",
              "          const docLink = document.createElement('div');\n",
              "          docLink.innerHTML = docLinkHtml;\n",
              "          element.appendChild(docLink);\n",
              "        }\n",
              "      </script>\n",
              "    </div>\n",
              "  </div>\n",
              "  "
            ]
          },
          "metadata": {},
          "execution_count": 3
        }
      ]
    },
    {
      "cell_type": "code",
      "source": [
        "# Shape of df\n",
        "country.shape"
      ],
      "metadata": {
        "colab": {
          "base_uri": "https://localhost:8080/"
        },
        "id": "Yuhk_wZ8tcMd",
        "outputId": "e2bb9acd-5ee2-45e6-eb21-0837ea947485"
      },
      "execution_count": null,
      "outputs": [
        {
          "output_type": "execute_result",
          "data": {
            "text/plain": [
              "(167, 10)"
            ]
          },
          "metadata": {},
          "execution_count": 4
        }
      ]
    },
    {
      "cell_type": "code",
      "source": [
        "# numbers of columns\n",
        "country.columns"
      ],
      "metadata": {
        "colab": {
          "base_uri": "https://localhost:8080/"
        },
        "id": "7-LSWZoFtEvW",
        "outputId": "fac8f847-a024-4f7c-ced5-9fafc6818e3c"
      },
      "execution_count": null,
      "outputs": [
        {
          "output_type": "execute_result",
          "data": {
            "text/plain": [
              "Index(['country', 'child_mort', 'exports', 'health', 'imports', 'income',\n",
              "       'inflation', 'life_expec', 'total_fer', 'gdpp'],\n",
              "      dtype='object')"
            ]
          },
          "metadata": {},
          "execution_count": 5
        }
      ]
    },
    {
      "cell_type": "code",
      "source": [
        "country.info()"
      ],
      "metadata": {
        "colab": {
          "base_uri": "https://localhost:8080/"
        },
        "id": "BMnMfuKotWAP",
        "outputId": "1b01ed3b-16af-47d2-e8d5-3c2d4cf8e605"
      },
      "execution_count": null,
      "outputs": [
        {
          "output_type": "stream",
          "name": "stdout",
          "text": [
            "<class 'pandas.core.frame.DataFrame'>\n",
            "RangeIndex: 167 entries, 0 to 166\n",
            "Data columns (total 10 columns):\n",
            " #   Column      Non-Null Count  Dtype  \n",
            "---  ------      --------------  -----  \n",
            " 0   country     167 non-null    object \n",
            " 1   child_mort  167 non-null    float64\n",
            " 2   exports     167 non-null    float64\n",
            " 3   health      167 non-null    float64\n",
            " 4   imports     167 non-null    float64\n",
            " 5   income      167 non-null    int64  \n",
            " 6   inflation   167 non-null    float64\n",
            " 7   life_expec  167 non-null    float64\n",
            " 8   total_fer   167 non-null    float64\n",
            " 9   gdpp        167 non-null    int64  \n",
            "dtypes: float64(7), int64(2), object(1)\n",
            "memory usage: 13.2+ KB\n"
          ]
        }
      ]
    },
    {
      "cell_type": "code",
      "source": [
        "# Null counts\n",
        "country.isnull().sum()"
      ],
      "metadata": {
        "colab": {
          "base_uri": "https://localhost:8080/"
        },
        "id": "JkhnYHyYttcw",
        "outputId": "135efcfc-5e0c-4ee1-9b4a-f7f076d1b6a7"
      },
      "execution_count": null,
      "outputs": [
        {
          "output_type": "execute_result",
          "data": {
            "text/plain": [
              "country       0\n",
              "child_mort    0\n",
              "exports       0\n",
              "health        0\n",
              "imports       0\n",
              "income        0\n",
              "inflation     0\n",
              "life_expec    0\n",
              "total_fer     0\n",
              "gdpp          0\n",
              "dtype: int64"
            ]
          },
          "metadata": {},
          "execution_count": 7
        }
      ]
    },
    {
      "cell_type": "markdown",
      "source": [
        "## I want to explore how many clusters of countries there are if we only use 'child_mort' and 'life_expec' columns"
      ],
      "metadata": {
        "id": "pJ1A8SAIuiDv"
      }
    },
    {
      "cell_type": "markdown",
      "source": [
        "Data Dictionary:\n",
        "* child_mort: Death of children under 5 years of age per 1000 live births\n",
        "\n",
        "* life_expec: The average number of years a new born child would live if the current mortality patterns are to remain the same"
      ],
      "metadata": {
        "id": "mW5M3N3CvdbF"
      }
    },
    {
      "cell_type": "markdown",
      "source": [
        "## Creating a df that only contains the 2 columns mentioned above"
      ],
      "metadata": {
        "id": "mvBXKLR18GoD"
      }
    },
    {
      "cell_type": "code",
      "source": [
        "country1 = country[[\"child_mort\", \"life_expec\"]]"
      ],
      "metadata": {
        "id": "Q8FD4rCdt1aI"
      },
      "execution_count": null,
      "outputs": []
    },
    {
      "cell_type": "code",
      "source": [
        "country1"
      ],
      "metadata": {
        "colab": {
          "base_uri": "https://localhost:8080/",
          "height": 423
        },
        "id": "lI4SX13L8rJ1",
        "outputId": "ac82e3fe-ae9b-4cbd-9089-e5172b6676e8"
      },
      "execution_count": null,
      "outputs": [
        {
          "output_type": "execute_result",
          "data": {
            "text/plain": [
              "     child_mort  life_expec\n",
              "0          90.2        56.2\n",
              "1          16.6        76.3\n",
              "2          27.3        76.5\n",
              "3         119.0        60.1\n",
              "4          10.3        76.8\n",
              "..          ...         ...\n",
              "162        29.2        63.0\n",
              "163        17.1        75.4\n",
              "164        23.3        73.1\n",
              "165        56.3        67.5\n",
              "166        83.1        52.0\n",
              "\n",
              "[167 rows x 2 columns]"
            ],
            "text/html": [
              "\n",
              "  <div id=\"df-c69ca5c8-7c5e-4ec7-81d8-2f09ef24f512\">\n",
              "    <div class=\"colab-df-container\">\n",
              "      <div>\n",
              "<style scoped>\n",
              "    .dataframe tbody tr th:only-of-type {\n",
              "        vertical-align: middle;\n",
              "    }\n",
              "\n",
              "    .dataframe tbody tr th {\n",
              "        vertical-align: top;\n",
              "    }\n",
              "\n",
              "    .dataframe thead th {\n",
              "        text-align: right;\n",
              "    }\n",
              "</style>\n",
              "<table border=\"1\" class=\"dataframe\">\n",
              "  <thead>\n",
              "    <tr style=\"text-align: right;\">\n",
              "      <th></th>\n",
              "      <th>child_mort</th>\n",
              "      <th>life_expec</th>\n",
              "    </tr>\n",
              "  </thead>\n",
              "  <tbody>\n",
              "    <tr>\n",
              "      <th>0</th>\n",
              "      <td>90.2</td>\n",
              "      <td>56.2</td>\n",
              "    </tr>\n",
              "    <tr>\n",
              "      <th>1</th>\n",
              "      <td>16.6</td>\n",
              "      <td>76.3</td>\n",
              "    </tr>\n",
              "    <tr>\n",
              "      <th>2</th>\n",
              "      <td>27.3</td>\n",
              "      <td>76.5</td>\n",
              "    </tr>\n",
              "    <tr>\n",
              "      <th>3</th>\n",
              "      <td>119.0</td>\n",
              "      <td>60.1</td>\n",
              "    </tr>\n",
              "    <tr>\n",
              "      <th>4</th>\n",
              "      <td>10.3</td>\n",
              "      <td>76.8</td>\n",
              "    </tr>\n",
              "    <tr>\n",
              "      <th>...</th>\n",
              "      <td>...</td>\n",
              "      <td>...</td>\n",
              "    </tr>\n",
              "    <tr>\n",
              "      <th>162</th>\n",
              "      <td>29.2</td>\n",
              "      <td>63.0</td>\n",
              "    </tr>\n",
              "    <tr>\n",
              "      <th>163</th>\n",
              "      <td>17.1</td>\n",
              "      <td>75.4</td>\n",
              "    </tr>\n",
              "    <tr>\n",
              "      <th>164</th>\n",
              "      <td>23.3</td>\n",
              "      <td>73.1</td>\n",
              "    </tr>\n",
              "    <tr>\n",
              "      <th>165</th>\n",
              "      <td>56.3</td>\n",
              "      <td>67.5</td>\n",
              "    </tr>\n",
              "    <tr>\n",
              "      <th>166</th>\n",
              "      <td>83.1</td>\n",
              "      <td>52.0</td>\n",
              "    </tr>\n",
              "  </tbody>\n",
              "</table>\n",
              "<p>167 rows × 2 columns</p>\n",
              "</div>\n",
              "      <button class=\"colab-df-convert\" onclick=\"convertToInteractive('df-c69ca5c8-7c5e-4ec7-81d8-2f09ef24f512')\"\n",
              "              title=\"Convert this dataframe to an interactive table.\"\n",
              "              style=\"display:none;\">\n",
              "        \n",
              "  <svg xmlns=\"http://www.w3.org/2000/svg\" height=\"24px\"viewBox=\"0 0 24 24\"\n",
              "       width=\"24px\">\n",
              "    <path d=\"M0 0h24v24H0V0z\" fill=\"none\"/>\n",
              "    <path d=\"M18.56 5.44l.94 2.06.94-2.06 2.06-.94-2.06-.94-.94-2.06-.94 2.06-2.06.94zm-11 1L8.5 8.5l.94-2.06 2.06-.94-2.06-.94L8.5 2.5l-.94 2.06-2.06.94zm10 10l.94 2.06.94-2.06 2.06-.94-2.06-.94-.94-2.06-.94 2.06-2.06.94z\"/><path d=\"M17.41 7.96l-1.37-1.37c-.4-.4-.92-.59-1.43-.59-.52 0-1.04.2-1.43.59L10.3 9.45l-7.72 7.72c-.78.78-.78 2.05 0 2.83L4 21.41c.39.39.9.59 1.41.59.51 0 1.02-.2 1.41-.59l7.78-7.78 2.81-2.81c.8-.78.8-2.07 0-2.86zM5.41 20L4 18.59l7.72-7.72 1.47 1.35L5.41 20z\"/>\n",
              "  </svg>\n",
              "      </button>\n",
              "      \n",
              "  <style>\n",
              "    .colab-df-container {\n",
              "      display:flex;\n",
              "      flex-wrap:wrap;\n",
              "      gap: 12px;\n",
              "    }\n",
              "\n",
              "    .colab-df-convert {\n",
              "      background-color: #E8F0FE;\n",
              "      border: none;\n",
              "      border-radius: 50%;\n",
              "      cursor: pointer;\n",
              "      display: none;\n",
              "      fill: #1967D2;\n",
              "      height: 32px;\n",
              "      padding: 0 0 0 0;\n",
              "      width: 32px;\n",
              "    }\n",
              "\n",
              "    .colab-df-convert:hover {\n",
              "      background-color: #E2EBFA;\n",
              "      box-shadow: 0px 1px 2px rgba(60, 64, 67, 0.3), 0px 1px 3px 1px rgba(60, 64, 67, 0.15);\n",
              "      fill: #174EA6;\n",
              "    }\n",
              "\n",
              "    [theme=dark] .colab-df-convert {\n",
              "      background-color: #3B4455;\n",
              "      fill: #D2E3FC;\n",
              "    }\n",
              "\n",
              "    [theme=dark] .colab-df-convert:hover {\n",
              "      background-color: #434B5C;\n",
              "      box-shadow: 0px 1px 3px 1px rgba(0, 0, 0, 0.15);\n",
              "      filter: drop-shadow(0px 1px 2px rgba(0, 0, 0, 0.3));\n",
              "      fill: #FFFFFF;\n",
              "    }\n",
              "  </style>\n",
              "\n",
              "      <script>\n",
              "        const buttonEl =\n",
              "          document.querySelector('#df-c69ca5c8-7c5e-4ec7-81d8-2f09ef24f512 button.colab-df-convert');\n",
              "        buttonEl.style.display =\n",
              "          google.colab.kernel.accessAllowed ? 'block' : 'none';\n",
              "\n",
              "        async function convertToInteractive(key) {\n",
              "          const element = document.querySelector('#df-c69ca5c8-7c5e-4ec7-81d8-2f09ef24f512');\n",
              "          const dataTable =\n",
              "            await google.colab.kernel.invokeFunction('convertToInteractive',\n",
              "                                                     [key], {});\n",
              "          if (!dataTable) return;\n",
              "\n",
              "          const docLinkHtml = 'Like what you see? Visit the ' +\n",
              "            '<a target=\"_blank\" href=https://colab.research.google.com/notebooks/data_table.ipynb>data table notebook</a>'\n",
              "            + ' to learn more about interactive tables.';\n",
              "          element.innerHTML = '';\n",
              "          dataTable['output_type'] = 'display_data';\n",
              "          await google.colab.output.renderOutput(dataTable, element);\n",
              "          const docLink = document.createElement('div');\n",
              "          docLink.innerHTML = docLinkHtml;\n",
              "          element.appendChild(docLink);\n",
              "        }\n",
              "      </script>\n",
              "    </div>\n",
              "  </div>\n",
              "  "
            ]
          },
          "metadata": {},
          "execution_count": 9
        }
      ]
    },
    {
      "cell_type": "code",
      "source": [
        "X = country1.values"
      ],
      "metadata": {
        "id": "vGnOtXAVqBBd"
      },
      "execution_count": null,
      "outputs": []
    },
    {
      "cell_type": "code",
      "source": [
        "X"
      ],
      "metadata": {
        "colab": {
          "base_uri": "https://localhost:8080/"
        },
        "id": "0Mnc89vctsGK",
        "outputId": "aee0bc1a-ecf6-42d5-b871-f833d0d14b56"
      },
      "execution_count": null,
      "outputs": [
        {
          "output_type": "execute_result",
          "data": {
            "text/plain": [
              "array([[ 90.2,  56.2],\n",
              "       [ 16.6,  76.3],\n",
              "       [ 27.3,  76.5],\n",
              "       [119. ,  60.1],\n",
              "       [ 10.3,  76.8],\n",
              "       [ 14.5,  75.8],\n",
              "       [ 18.1,  73.3],\n",
              "       [  4.8,  82. ],\n",
              "       [  4.3,  80.5],\n",
              "       [ 39.2,  69.1],\n",
              "       [ 13.8,  73.8],\n",
              "       [  8.6,  76. ],\n",
              "       [ 49.4,  70.4],\n",
              "       [ 14.2,  76.7],\n",
              "       [  5.5,  70.4],\n",
              "       [  4.5,  80. ],\n",
              "       [ 18.8,  71.4],\n",
              "       [111. ,  61.8],\n",
              "       [ 42.7,  72.1],\n",
              "       [ 46.6,  71.6],\n",
              "       [  6.9,  76.8],\n",
              "       [ 52.5,  57.1],\n",
              "       [ 19.8,  74.2],\n",
              "       [ 10.5,  77.1],\n",
              "       [ 10.8,  73.9],\n",
              "       [116. ,  57.9],\n",
              "       [ 93.6,  57.7],\n",
              "       [ 44.4,  66.1],\n",
              "       [108. ,  57.3],\n",
              "       [  5.6,  81.3],\n",
              "       [ 26.5,  72.5],\n",
              "       [149. ,  47.5],\n",
              "       [150. ,  56.5],\n",
              "       [  8.7,  79.1],\n",
              "       [ 15.7,  74.6],\n",
              "       [ 18.6,  76.4],\n",
              "       [ 88.2,  65.9],\n",
              "       [116. ,  57.5],\n",
              "       [ 63.9,  60.4],\n",
              "       [ 10.2,  80.4],\n",
              "       [111. ,  56.3],\n",
              "       [  5.5,  76.3],\n",
              "       [  3.6,  79.9],\n",
              "       [  3.4,  77.5],\n",
              "       [  4.1,  79.5],\n",
              "       [ 34.4,  74.6],\n",
              "       [ 25.1,  76.7],\n",
              "       [ 29.1,  70.5],\n",
              "       [ 19.2,  74.1],\n",
              "       [111. ,  60.9],\n",
              "       [ 55.2,  61.7],\n",
              "       [  4.5,  76. ],\n",
              "       [ 24.1,  65.3],\n",
              "       [  3. ,  80. ],\n",
              "       [  4.2,  81.4],\n",
              "       [ 63.7,  62.9],\n",
              "       [ 80.3,  65.5],\n",
              "       [ 16.5,  72.8],\n",
              "       [  4.2,  80.1],\n",
              "       [ 74.7,  62.2],\n",
              "       [  3.9,  80.4],\n",
              "       [ 14.6,  71.3],\n",
              "       [ 35.4,  71.3],\n",
              "       [109. ,  58. ],\n",
              "       [114. ,  55.6],\n",
              "       [ 37.6,  65.5],\n",
              "       [208. ,  32.1],\n",
              "       [  6. ,  74.5],\n",
              "       [  2.6,  82. ],\n",
              "       [ 58.8,  66.2],\n",
              "       [ 33.3,  69.9],\n",
              "       [ 19.3,  74.5],\n",
              "       [ 36.9,  67.2],\n",
              "       [  4.2,  80.4],\n",
              "       [  4.6,  81.4],\n",
              "       [  4. ,  81.7],\n",
              "       [ 18.1,  74.7],\n",
              "       [  3.2,  82.8],\n",
              "       [ 21.1,  75.8],\n",
              "       [ 21.5,  68.4],\n",
              "       [ 62.2,  62.8],\n",
              "       [ 62.7,  60.7],\n",
              "       [ 10.8,  78.2],\n",
              "       [ 29.6,  68.5],\n",
              "       [ 78.9,  63.8],\n",
              "       [  7.8,  73.1],\n",
              "       [ 10.3,  79.8],\n",
              "       [ 99.7,  46.5],\n",
              "       [ 89.3,  60.8],\n",
              "       [ 16.6,  76.1],\n",
              "       [  6.1,  73.2],\n",
              "       [  2.8,  81.3],\n",
              "       [ 10.4,  74. ],\n",
              "       [ 62.2,  60.8],\n",
              "       [ 90.5,  53.1],\n",
              "       [  7.9,  74.5],\n",
              "       [ 13.2,  77.9],\n",
              "       [137. ,  59.5],\n",
              "       [  6.8,  80.3],\n",
              "       [ 97.4,  68.2],\n",
              "       [ 15. ,  73.4],\n",
              "       [ 40. ,  65.4],\n",
              "       [ 17.2,  69.7],\n",
              "       [ 26.1,  66.2],\n",
              "       [  6.8,  76.4],\n",
              "       [ 33.5,  73.5],\n",
              "       [101. ,  54.5],\n",
              "       [ 64.4,  66.8],\n",
              "       [ 56. ,  58.6],\n",
              "       [ 47. ,  68.3],\n",
              "       [  4.5,  80.7],\n",
              "       [  6.2,  80.9],\n",
              "       [123. ,  58.8],\n",
              "       [130. ,  60.5],\n",
              "       [  3.2,  81. ],\n",
              "       [ 11.7,  76.1],\n",
              "       [ 92.1,  65.3],\n",
              "       [ 19.7,  77.8],\n",
              "       [ 24.1,  74.1],\n",
              "       [ 20.3,  77.9],\n",
              "       [ 31.9,  69. ],\n",
              "       [  6. ,  76.3],\n",
              "       [  3.9,  79.8],\n",
              "       [  9. ,  79.5],\n",
              "       [ 11.5,  73.7],\n",
              "       [ 10. ,  69.2],\n",
              "       [ 63.6,  64.6],\n",
              "       [ 18.9,  71.5],\n",
              "       [ 15.7,  75.1],\n",
              "       [ 66.8,  64. ],\n",
              "       [  7.6,  74.7],\n",
              "       [ 14.4,  73.4],\n",
              "       [160. ,  55. ],\n",
              "       [  2.8,  82.7],\n",
              "       [  7. ,  75.5],\n",
              "       [  3.2,  79.5],\n",
              "       [ 28.1,  61.7],\n",
              "       [ 53.7,  54.3],\n",
              "       [  4.1,  80.1],\n",
              "       [  3.8,  81.9],\n",
              "       [ 11.2,  74.4],\n",
              "       [ 20.7,  71.6],\n",
              "       [ 76.7,  66.3],\n",
              "       [ 24.1,  70.3],\n",
              "       [  3. ,  81.5],\n",
              "       [  4.5,  82.2],\n",
              "       [ 52.4,  69.6],\n",
              "       [ 71.9,  59.3],\n",
              "       [ 14.9,  76.6],\n",
              "       [ 62.6,  71.1],\n",
              "       [ 90.3,  58.7],\n",
              "       [ 17.4,  69.9],\n",
              "       [ 17.4,  76.9],\n",
              "       [ 19.1,  78.2],\n",
              "       [ 62. ,  67.9],\n",
              "       [ 81. ,  56.8],\n",
              "       [ 11.7,  70.4],\n",
              "       [  8.6,  76.5],\n",
              "       [  5.2,  80.3],\n",
              "       [  7.3,  78.7],\n",
              "       [ 10.6,  76.4],\n",
              "       [ 36.3,  68.8],\n",
              "       [ 29.2,  63. ],\n",
              "       [ 17.1,  75.4],\n",
              "       [ 23.3,  73.1],\n",
              "       [ 56.3,  67.5],\n",
              "       [ 83.1,  52. ]])"
            ]
          },
          "metadata": {},
          "execution_count": 11
        }
      ]
    },
    {
      "cell_type": "markdown",
      "source": [
        "## Now we prepare the dataset"
      ],
      "metadata": {
        "id": "5BysAUHj95Tb"
      }
    },
    {
      "cell_type": "code",
      "source": [
        " # Perform standardization and PCA on the data\n",
        "# from sklearn.preprocessing import MinMaxScaler\n",
        "# scaler = StandardScaler()\n",
        "#scaler = MinMaxScaler()\n",
        "# pca = PCA(n_components=2) # convert from a 3d to a 2d object\n",
        "\n",
        "# scaled_data = scaler.fit_transform(X)\n",
        "# pca_data = pca.fit_transform(scaled_data)"
      ],
      "metadata": {
        "id": "uoOXc81sBNR-"
      },
      "execution_count": null,
      "outputs": []
    },
    {
      "cell_type": "markdown",
      "source": [
        "## Now we perform the Elbow Method to identify optimal number of clusters to use"
      ],
      "metadata": {
        "id": "fEEO67gw8zWu"
      }
    },
    {
      "cell_type": "code",
      "source": [
        "# Create a blank list 'wcss' which stands for within clusters sum of square. wcss values largest when K (# of clusters) = 1\n",
        "wcss = []"
      ],
      "metadata": {
        "id": "KF65QliT8y5D"
      },
      "execution_count": null,
      "outputs": []
    },
    {
      "cell_type": "code",
      "source": [
        "for i in range(1,11):\n",
        "  kmeans = KMeans(n_clusters = i, init = 'k-means++', random_state = 0)\n",
        "  kmeans.fit(X)\n",
        "  wcss.append(kmeans.inertia_) # inertia is a metric used to evaluate clustering performance."
      ],
      "metadata": {
        "colab": {
          "base_uri": "https://localhost:8080/"
        },
        "id": "RM2n8Wbg_V2T",
        "outputId": "d7f3d676-86cd-41e2-e08f-c7601253ad9d"
      },
      "execution_count": null,
      "outputs": [
        {
          "output_type": "stream",
          "name": "stderr",
          "text": [
            "/usr/local/lib/python3.10/dist-packages/sklearn/cluster/_kmeans.py:870: FutureWarning: The default value of `n_init` will change from 10 to 'auto' in 1.4. Set the value of `n_init` explicitly to suppress the warning\n",
            "  warnings.warn(\n",
            "/usr/local/lib/python3.10/dist-packages/sklearn/cluster/_kmeans.py:870: FutureWarning: The default value of `n_init` will change from 10 to 'auto' in 1.4. Set the value of `n_init` explicitly to suppress the warning\n",
            "  warnings.warn(\n",
            "/usr/local/lib/python3.10/dist-packages/sklearn/cluster/_kmeans.py:870: FutureWarning: The default value of `n_init` will change from 10 to 'auto' in 1.4. Set the value of `n_init` explicitly to suppress the warning\n",
            "  warnings.warn(\n",
            "/usr/local/lib/python3.10/dist-packages/sklearn/cluster/_kmeans.py:870: FutureWarning: The default value of `n_init` will change from 10 to 'auto' in 1.4. Set the value of `n_init` explicitly to suppress the warning\n",
            "  warnings.warn(\n",
            "/usr/local/lib/python3.10/dist-packages/sklearn/cluster/_kmeans.py:870: FutureWarning: The default value of `n_init` will change from 10 to 'auto' in 1.4. Set the value of `n_init` explicitly to suppress the warning\n",
            "  warnings.warn(\n",
            "/usr/local/lib/python3.10/dist-packages/sklearn/cluster/_kmeans.py:870: FutureWarning: The default value of `n_init` will change from 10 to 'auto' in 1.4. Set the value of `n_init` explicitly to suppress the warning\n",
            "  warnings.warn(\n",
            "/usr/local/lib/python3.10/dist-packages/sklearn/cluster/_kmeans.py:870: FutureWarning: The default value of `n_init` will change from 10 to 'auto' in 1.4. Set the value of `n_init` explicitly to suppress the warning\n",
            "  warnings.warn(\n",
            "/usr/local/lib/python3.10/dist-packages/sklearn/cluster/_kmeans.py:870: FutureWarning: The default value of `n_init` will change from 10 to 'auto' in 1.4. Set the value of `n_init` explicitly to suppress the warning\n",
            "  warnings.warn(\n",
            "/usr/local/lib/python3.10/dist-packages/sklearn/cluster/_kmeans.py:870: FutureWarning: The default value of `n_init` will change from 10 to 'auto' in 1.4. Set the value of `n_init` explicitly to suppress the warning\n",
            "  warnings.warn(\n",
            "/usr/local/lib/python3.10/dist-packages/sklearn/cluster/_kmeans.py:870: FutureWarning: The default value of `n_init` will change from 10 to 'auto' in 1.4. Set the value of `n_init` explicitly to suppress the warning\n",
            "  warnings.warn(\n"
          ]
        }
      ]
    },
    {
      "cell_type": "code",
      "source": [
        "# Plot elbow method\n",
        "plt.plot(range(1,11), wcss)\n",
        "plt.title(\"The elbow method\")\n",
        "plt.xlabel(\"Number of clusters\")\n",
        "plt.ylabel(\"WCSS values\")"
      ],
      "metadata": {
        "colab": {
          "base_uri": "https://localhost:8080/",
          "height": 490
        },
        "id": "04Hg6IzMAPLk",
        "outputId": "e4677091-56c5-4cbc-9189-ea82c9f3f873"
      },
      "execution_count": null,
      "outputs": [
        {
          "output_type": "execute_result",
          "data": {
            "text/plain": [
              "Text(0, 0.5, 'WCSS values')"
            ]
          },
          "metadata": {},
          "execution_count": 15
        },
        {
          "output_type": "display_data",
          "data": {
            "text/plain": [
              "<Figure size 640x480 with 1 Axes>"
            ],
            "image/png": "[encoded data removed]"
          },
          "metadata": {}
        }
      ]
    },
    {
      "cell_type": "markdown",
      "source": [
        "We can see that after 3, the slope starts to flatten out more, which is a sign to select 3 as optimal number of clusters."
      ],
      "metadata": {
        "id": "yIZkKeeJCkWS"
      }
    },
    {
      "cell_type": "markdown",
      "source": [
        "## Create a KMeans model to evaluate the clusters"
      ],
      "metadata": {
        "id": "qo6M2pQ1DLpD"
      }
    },
    {
      "cell_type": "code",
      "source": [
        "# Initialize the model\n",
        "kmeansmodel = KMeans(n_clusters = 3, init = 'k-means++', random_state = 0)"
      ],
      "metadata": {
        "id": "lKdodr2zCwas"
      },
      "execution_count": null,
      "outputs": []
    },
    {
      "cell_type": "code",
      "source": [
        "# Predicting the data using the created model\n",
        "y_kmeans = kmeansmodel.fit_predict(X)"
      ],
      "metadata": {
        "colab": {
          "base_uri": "https://localhost:8080/"
        },
        "id": "43e3X2qEDkoE",
        "outputId": "f5714f99-701d-43e1-bb4f-924a8a4b505a"
      },
      "execution_count": null,
      "outputs": [
        {
          "output_type": "stream",
          "name": "stderr",
          "text": [
            "/usr/local/lib/python3.10/dist-packages/sklearn/cluster/_kmeans.py:870: FutureWarning: The default value of `n_init` will change from 10 to 'auto' in 1.4. Set the value of `n_init` explicitly to suppress the warning\n",
            "  warnings.warn(\n"
          ]
        }
      ]
    },
    {
      "cell_type": "code",
      "source": [
        "plt.scatter(X[y_kmeans == 0,0], X[y_kmeans ==0,1], s = 50, c = \"red\", label = \"Group 1\")\n",
        "plt.scatter(X[y_kmeans == 1,0], X[y_kmeans ==1,1], s = 50, c = \"blue\", label = \"Group 2\")\n",
        "plt.scatter(X[y_kmeans == 2,0], X[y_kmeans ==2,1], s = 50, c = \"yellow\", label = \"Group 3\")\n",
        "plt.scatter(kmeans.cluster_centers_[:,0], kmeans.cluster_centers_[:,1], s = 80, c = \"magenta\", label = \"Centroids\")\n",
        "plt.xlabel(\"Child Mortality (per 1000 birth)\")\n",
        "plt.ylabel(\"Life Expectancy (years)\")\n",
        "plt.title(\"Cluster of countries\")\n",
        "plt.legend()"
      ],
      "metadata": {
        "colab": {
          "base_uri": "https://localhost:8080/",
          "height": 490
        },
        "id": "MxQmqmDCDtRL",
        "outputId": "2bca201c-626e-4396-842d-ed93c28e6dad"
      },
      "execution_count": null,
      "outputs": [
        {
          "output_type": "execute_result",
          "data": {
            "text/plain": [
              "<matplotlib.legend.Legend at 0x7fc412eeb010>"
            ]
          },
          "metadata": {},
          "execution_count": 18
        },
        {
          "output_type": "display_data",
          "data": {
            "text/plain": [
              "<Figure size 640x480 with 1 Axes>"
            ],
            "image/png": "[encoded data removed]"
          },
          "metadata": {}
        }
      ]
    },
    {
      "cell_type": "markdown",
      "source": [
        "After exploring multiple different methods of either scale or no scale, I found that no-scaling works best on this data.\n",
        "\n",
        "Countries in red are the ones that need the most help with highest child mortality and lowest life expectancy."
      ],
      "metadata": {
        "id": "kGbjfqo2mJLr"
      }
    },
    {
      "cell_type": "markdown",
      "source": [
        "## Explore what countries belong in that group"
      ],
      "metadata": {
        "id": "LSGexSRaoQ_x"
      }
    },
    {
      "cell_type": "code",
      "source": [
        "# Creating a new column that contains Cluster Labels\n",
        "country1[\"Cluster label\"] = y_kmeans"
      ],
      "metadata": {
        "colab": {
          "base_uri": "https://localhost:8080/"
        },
        "id": "sCZy0S9ToWo_",
        "outputId": "d2902bb7-7fb5-4b97-d39f-4a9657b24afd"
      },
      "execution_count": null,
      "outputs": [
        {
          "output_type": "stream",
          "name": "stderr",
          "text": [
            "<ipython-input-19-7885ae95058d>:2: SettingWithCopyWarning: \n",
            "A value is trying to be set on a copy of a slice from a DataFrame.\n",
            "Try using .loc[row_indexer,col_indexer] = value instead\n",
            "\n",
            "See the caveats in the documentation: https://pandas.pydata.org/pandas-docs/stable/user_guide/indexing.html#returning-a-view-versus-a-copy\n",
            "  country1[\"Cluster label\"] = y_kmeans\n"
          ]
        }
      ]
    },
    {
      "cell_type": "code",
      "source": [
        "print(country1)"
      ],
      "metadata": {
        "colab": {
          "base_uri": "https://localhost:8080/"
        },
        "id": "dn6gLA-ko3h1",
        "outputId": "61b7c505-c4c1-494d-8939-7493eb5e0841"
      },
      "execution_count": null,
      "outputs": [
        {
          "output_type": "stream",
          "name": "stdout",
          "text": [
            "     child_mort  life_expec  Cluster label\n",
            "0          90.2        56.2              2\n",
            "1          16.6        76.3              1\n",
            "2          27.3        76.5              1\n",
            "3         119.0        60.1              0\n",
            "4          10.3        76.8              1\n",
            "..          ...         ...            ...\n",
            "162        29.2        63.0              1\n",
            "163        17.1        75.4              1\n",
            "164        23.3        73.1              1\n",
            "165        56.3        67.5              2\n",
            "166        83.1        52.0              2\n",
            "\n",
            "[167 rows x 3 columns]\n"
          ]
        }
      ]
    },
    {
      "cell_type": "markdown",
      "source": [
        "## Cluster label = 0 (group 1) are countries that we are looking after."
      ],
      "metadata": {
        "id": "SWQUnJjgqUKk"
      }
    },
    {
      "cell_type": "code",
      "source": [
        "country2 = country1[country1[\"Cluster label\"]==0]\n",
        "country2.head()"
      ],
      "metadata": {
        "colab": {
          "base_uri": "https://localhost:8080/",
          "height": 206
        },
        "id": "e1r0_zXUqZPg",
        "outputId": "ac4a93a9-a70d-42eb-a99e-5e0e51fc69f4"
      },
      "execution_count": null,
      "outputs": [
        {
          "output_type": "execute_result",
          "data": {
            "text/plain": [
              "    child_mort  life_expec  Cluster label\n",
              "3        119.0        60.1              0\n",
              "17       111.0        61.8              0\n",
              "25       116.0        57.9              0\n",
              "28       108.0        57.3              0\n",
              "31       149.0        47.5              0"
            ],
            "text/html": [
              "\n",
              "  <div id=\"df-6ff530f9-6be1-468d-8d4b-63d50e1c39c1\">\n",
              "    <div class=\"colab-df-container\">\n",
              "      <div>\n",
              "<style scoped>\n",
              "    .dataframe tbody tr th:only-of-type {\n",
              "        vertical-align: middle;\n",
              "    }\n",
              "\n",
              "    .dataframe tbody tr th {\n",
              "        vertical-align: top;\n",
              "    }\n",
              "\n",
              "    .dataframe thead th {\n",
              "        text-align: right;\n",
              "    }\n",
              "</style>\n",
              "<table border=\"1\" class=\"dataframe\">\n",
              "  <thead>\n",
              "    <tr style=\"text-align: right;\">\n",
              "      <th></th>\n",
              "      <th>child_mort</th>\n",
              "      <th>life_expec</th>\n",
              "      <th>Cluster label</th>\n",
              "    </tr>\n",
              "  </thead>\n",
              "  <tbody>\n",
              "    <tr>\n",
              "      <th>3</th>\n",
              "      <td>119.0</td>\n",
              "      <td>60.1</td>\n",
              "      <td>0</td>\n",
              "    </tr>\n",
              "    <tr>\n",
              "      <th>17</th>\n",
              "      <td>111.0</td>\n",
              "      <td>61.8</td>\n",
              "      <td>0</td>\n",
              "    </tr>\n",
              "    <tr>\n",
              "      <th>25</th>\n",
              "      <td>116.0</td>\n",
              "      <td>57.9</td>\n",
              "      <td>0</td>\n",
              "    </tr>\n",
              "    <tr>\n",
              "      <th>28</th>\n",
              "      <td>108.0</td>\n",
              "      <td>57.3</td>\n",
              "      <td>0</td>\n",
              "    </tr>\n",
              "    <tr>\n",
              "      <th>31</th>\n",
              "      <td>149.0</td>\n",
              "      <td>47.5</td>\n",
              "      <td>0</td>\n",
              "    </tr>\n",
              "  </tbody>\n",
              "</table>\n",
              "</div>\n",
              "      <button class=\"colab-df-convert\" onclick=\"convertToInteractive('df-6ff530f9-6be1-468d-8d4b-63d50e1c39c1')\"\n",
              "              title=\"Convert this dataframe to an interactive table.\"\n",
              "              style=\"display:none;\">\n",
              "        \n",
              "  <svg xmlns=\"http://www.w3.org/2000/svg\" height=\"24px\"viewBox=\"0 0 24 24\"\n",
              "       width=\"24px\">\n",
              "    <path d=\"M0 0h24v24H0V0z\" fill=\"none\"/>\n",
              "    <path d=\"M18.56 5.44l.94 2.06.94-2.06 2.06-.94-2.06-.94-.94-2.06-.94 2.06-2.06.94zm-11 1L8.5 8.5l.94-2.06 2.06-.94-2.06-.94L8.5 2.5l-.94 2.06-2.06.94zm10 10l.94 2.06.94-2.06 2.06-.94-2.06-.94-.94-2.06-.94 2.06-2.06.94z\"/><path d=\"M17.41 7.96l-1.37-1.37c-.4-.4-.92-.59-1.43-.59-.52 0-1.04.2-1.43.59L10.3 9.45l-7.72 7.72c-.78.78-.78 2.05 0 2.83L4 21.41c.39.39.9.59 1.41.59.51 0 1.02-.2 1.41-.59l7.78-7.78 2.81-2.81c.8-.78.8-2.07 0-2.86zM5.41 20L4 18.59l7.72-7.72 1.47 1.35L5.41 20z\"/>\n",
              "  </svg>\n",
              "      </button>\n",
              "      \n",
              "  <style>\n",
              "    .colab-df-container {\n",
              "      display:flex;\n",
              "      flex-wrap:wrap;\n",
              "      gap: 12px;\n",
              "    }\n",
              "\n",
              "    .colab-df-convert {\n",
              "      background-color: #E8F0FE;\n",
              "      border: none;\n",
              "      border-radius: 50%;\n",
              "      cursor: pointer;\n",
              "      display: none;\n",
              "      fill: #1967D2;\n",
              "      height: 32px;\n",
              "      padding: 0 0 0 0;\n",
              "      width: 32px;\n",
              "    }\n",
              "\n",
              "    .colab-df-convert:hover {\n",
              "      background-color: #E2EBFA;\n",
              "      box-shadow: 0px 1px 2px rgba(60, 64, 67, 0.3), 0px 1px 3px 1px rgba(60, 64, 67, 0.15);\n",
              "      fill: #174EA6;\n",
              "    }\n",
              "\n",
              "    [theme=dark] .colab-df-convert {\n",
              "      background-color: #3B4455;\n",
              "      fill: #D2E3FC;\n",
              "    }\n",
              "\n",
              "    [theme=dark] .colab-df-convert:hover {\n",
              "      background-color: #434B5C;\n",
              "      box-shadow: 0px 1px 3px 1px rgba(0, 0, 0, 0.15);\n",
              "      filter: drop-shadow(0px 1px 2px rgba(0, 0, 0, 0.3));\n",
              "      fill: #FFFFFF;\n",
              "    }\n",
              "  </style>\n",
              "\n",
              "      <script>\n",
              "        const buttonEl =\n",
              "          document.querySelector('#df-6ff530f9-6be1-468d-8d4b-63d50e1c39c1 button.colab-df-convert');\n",
              "        buttonEl.style.display =\n",
              "          google.colab.kernel.accessAllowed ? 'block' : 'none';\n",
              "\n",
              "        async function convertToInteractive(key) {\n",
              "          const element = document.querySelector('#df-6ff530f9-6be1-468d-8d4b-63d50e1c39c1');\n",
              "          const dataTable =\n",
              "            await google.colab.kernel.invokeFunction('convertToInteractive',\n",
              "                                                     [key], {});\n",
              "          if (!dataTable) return;\n",
              "\n",
              "          const docLinkHtml = 'Like what you see? Visit the ' +\n",
              "            '<a target=\"_blank\" href=https://colab.research.google.com/notebooks/data_table.ipynb>data table notebook</a>'\n",
              "            + ' to learn more about interactive tables.';\n",
              "          element.innerHTML = '';\n",
              "          dataTable['output_type'] = 'display_data';\n",
              "          await google.colab.output.renderOutput(dataTable, element);\n",
              "          const docLink = document.createElement('div');\n",
              "          docLink.innerHTML = docLinkHtml;\n",
              "          element.appendChild(docLink);\n",
              "        }\n",
              "      </script>\n",
              "    </div>\n",
              "  </div>\n",
              "  "
            ]
          },
          "metadata": {},
          "execution_count": 21
        }
      ]
    },
    {
      "cell_type": "markdown",
      "source": [
        "## Find the names of countries that belong to group 1"
      ],
      "metadata": {
        "id": "LCuiOTFqrCSr"
      }
    },
    {
      "cell_type": "code",
      "source": [
        "merged_df = country.merge(country2,left_index=True, right_index=True)"
      ],
      "metadata": {
        "id": "sur68iSPrLpp"
      },
      "execution_count": null,
      "outputs": []
    },
    {
      "cell_type": "code",
      "source": [
        "merged_df"
      ],
      "metadata": {
        "colab": {
          "base_uri": "https://localhost:8080/",
          "height": 614
        },
        "id": "_pl1LOq_ru59",
        "outputId": "24203388-8900-4ef8-d991-f4d2184cd51e"
      },
      "execution_count": null,
      "outputs": [
        {
          "output_type": "execute_result",
          "data": {
            "text/plain": [
              "                      country  child_mort_x  exports  health  imports  income  \\\n",
              "3                      Angola         119.0     62.3    2.85     42.9    5900   \n",
              "17                      Benin         111.0     23.8    4.10     37.2    1820   \n",
              "25               Burkina Faso         116.0     19.2    6.74     29.6    1430   \n",
              "28                   Cameroon         108.0     22.2    5.13     27.0    2660   \n",
              "31   Central African Republic         149.0     11.8    3.98     26.5     888   \n",
              "32                       Chad         150.0     36.8    4.53     43.5    1930   \n",
              "37           Congo, Dem. Rep.         116.0     41.1    7.91     49.6     609   \n",
              "40              Cote d'Ivoire         111.0     50.6    5.30     43.3    2690   \n",
              "49          Equatorial Guinea         111.0     85.8    4.48     58.9   33700   \n",
              "63                     Guinea         109.0     30.3    4.93     43.2    1190   \n",
              "64              Guinea-Bissau         114.0     14.9    8.50     35.2    1390   \n",
              "66                      Haiti         208.0     15.3    6.91     64.7    1500   \n",
              "87                    Lesotho          99.7     39.4   11.10    101.0    2380   \n",
              "97                       Mali         137.0     22.8    4.98     35.1    1870   \n",
              "106                Mozambique         101.0     31.5    5.21     46.2     918   \n",
              "112                     Niger         123.0     22.2    5.16     49.1     814   \n",
              "113                   Nigeria         130.0     25.3    5.07     17.4    5150   \n",
              "132              Sierra Leone         160.0     16.8   13.10     34.5    1220   \n",
              "\n",
              "     inflation  life_expec_x  total_fer   gdpp  child_mort_y  life_expec_y  \\\n",
              "3       22.400          60.1       6.16   3530         119.0          60.1   \n",
              "17       0.885          61.8       5.36    758         111.0          61.8   \n",
              "25       6.810          57.9       5.87    575         116.0          57.9   \n",
              "28       1.910          57.3       5.11   1310         108.0          57.3   \n",
              "31       2.010          47.5       5.21    446         149.0          47.5   \n",
              "32       6.390          56.5       6.59    897         150.0          56.5   \n",
              "37      20.800          57.5       6.54    334         116.0          57.5   \n",
              "40       5.390          56.3       5.27   1220         111.0          56.3   \n",
              "49      24.900          60.9       5.21  17100         111.0          60.9   \n",
              "63      16.100          58.0       5.34    648         109.0          58.0   \n",
              "64       2.970          55.6       5.05    547         114.0          55.6   \n",
              "66       5.450          32.1       3.33    662         208.0          32.1   \n",
              "87       4.150          46.5       3.30   1170          99.7          46.5   \n",
              "97       4.370          59.5       6.55    708         137.0          59.5   \n",
              "106      7.640          54.5       5.56    419         101.0          54.5   \n",
              "112      2.550          58.8       7.49    348         123.0          58.8   \n",
              "113    104.000          60.5       5.84   2330         130.0          60.5   \n",
              "132     17.200          55.0       5.20    399         160.0          55.0   \n",
              "\n",
              "     Cluster label  \n",
              "3                0  \n",
              "17               0  \n",
              "25               0  \n",
              "28               0  \n",
              "31               0  \n",
              "32               0  \n",
              "37               0  \n",
              "40               0  \n",
              "49               0  \n",
              "63               0  \n",
              "64               0  \n",
              "66               0  \n",
              "87               0  \n",
              "97               0  \n",
              "106              0  \n",
              "112              0  \n",
              "113              0  \n",
              "132              0  "
            ],
            "text/html": [
              "\n",
              "  <div id=\"df-14c4e0a0-0090-4237-9432-b34caae6cb89\">\n",
              "    <div class=\"colab-df-container\">\n",
              "      <div>\n",
              "<style scoped>\n",
              "    .dataframe tbody tr th:only-of-type {\n",
              "        vertical-align: middle;\n",
              "    }\n",
              "\n",
              "    .dataframe tbody tr th {\n",
              "        vertical-align: top;\n",
              "    }\n",
              "\n",
              "    .dataframe thead th {\n",
              "        text-align: right;\n",
              "    }\n",
              "</style>\n",
              "<table border=\"1\" class=\"dataframe\">\n",
              "  <thead>\n",
              "    <tr style=\"text-align: right;\">\n",
              "      <th></th>\n",
              "      <th>country</th>\n",
              "      <th>child_mort_x</th>\n",
              "      <th>exports</th>\n",
              "      <th>health</th>\n",
              "      <th>imports</th>\n",
              "      <th>income</th>\n",
              "      <th>inflation</th>\n",
              "      <th>life_expec_x</th>\n",
              "      <th>total_fer</th>\n",
              "      <th>gdpp</th>\n",
              "      <th>child_mort_y</th>\n",
              "      <th>life_expec_y</th>\n",
              "      <th>Cluster label</th>\n",
              "    </tr>\n",
              "  </thead>\n",
              "  <tbody>\n",
              "    <tr>\n",
              "      <th>3</th>\n",
              "      <td>Angola</td>\n",
              "      <td>119.0</td>\n",
              "      <td>62.3</td>\n",
              "      <td>2.85</td>\n",
              "      <td>42.9</td>\n",
              "      <td>5900</td>\n",
              "      <td>22.400</td>\n",
              "      <td>60.1</td>\n",
              "      <td>6.16</td>\n",
              "      <td>3530</td>\n",
              "      <td>119.0</td>\n",
              "      <td>60.1</td>\n",
              "      <td>0</td>\n",
              "    </tr>\n",
              "    <tr>\n",
              "      <th>17</th>\n",
              "      <td>Benin</td>\n",
              "      <td>111.0</td>\n",
              "      <td>23.8</td>\n",
              "      <td>4.10</td>\n",
              "      <td>37.2</td>\n",
              "      <td>1820</td>\n",
              "      <td>0.885</td>\n",
              "      <td>61.8</td>\n",
              "      <td>5.36</td>\n",
              "      <td>758</td>\n",
              "      <td>111.0</td>\n",
              "      <td>61.8</td>\n",
              "      <td>0</td>\n",
              "    </tr>\n",
              "    <tr>\n",
              "      <th>25</th>\n",
              "      <td>Burkina Faso</td>\n",
              "      <td>116.0</td>\n",
              "      <td>19.2</td>\n",
              "      <td>6.74</td>\n",
              "      <td>29.6</td>\n",
              "      <td>1430</td>\n",
              "      <td>6.810</td>\n",
              "      <td>57.9</td>\n",
              "      <td>5.87</td>\n",
              "      <td>575</td>\n",
              "      <td>116.0</td>\n",
              "      <td>57.9</td>\n",
              "      <td>0</td>\n",
              "    </tr>\n",
              "    <tr>\n",
              "      <th>28</th>\n",
              "      <td>Cameroon</td>\n",
              "      <td>108.0</td>\n",
              "      <td>22.2</td>\n",
              "      <td>5.13</td>\n",
              "      <td>27.0</td>\n",
              "      <td>2660</td>\n",
              "      <td>1.910</td>\n",
              "      <td>57.3</td>\n",
              "      <td>5.11</td>\n",
              "      <td>1310</td>\n",
              "      <td>108.0</td>\n",
              "      <td>57.3</td>\n",
              "      <td>0</td>\n",
              "    </tr>\n",
              "    <tr>\n",
              "      <th>31</th>\n",
              "      <td>Central African Republic</td>\n",
              "      <td>149.0</td>\n",
              "      <td>11.8</td>\n",
              "      <td>3.98</td>\n",
              "      <td>26.5</td>\n",
              "      <td>888</td>\n",
              "      <td>2.010</td>\n",
              "      <td>47.5</td>\n",
              "      <td>5.21</td>\n",
              "      <td>446</td>\n",
              "      <td>149.0</td>\n",
              "      <td>47.5</td>\n",
              "      <td>0</td>\n",
              "    </tr>\n",
              "    <tr>\n",
              "      <th>32</th>\n",
              "      <td>Chad</td>\n",
              "      <td>150.0</td>\n",
              "      <td>36.8</td>\n",
              "      <td>4.53</td>\n",
              "      <td>43.5</td>\n",
              "      <td>1930</td>\n",
              "      <td>6.390</td>\n",
              "      <td>56.5</td>\n",
              "      <td>6.59</td>\n",
              "      <td>897</td>\n",
              "      <td>150.0</td>\n",
              "      <td>56.5</td>\n",
              "      <td>0</td>\n",
              "    </tr>\n",
              "    <tr>\n",
              "      <th>37</th>\n",
              "      <td>Congo, Dem. Rep.</td>\n",
              "      <td>116.0</td>\n",
              "      <td>41.1</td>\n",
              "      <td>7.91</td>\n",
              "      <td>49.6</td>\n",
              "      <td>609</td>\n",
              "      <td>20.800</td>\n",
              "      <td>57.5</td>\n",
              "      <td>6.54</td>\n",
              "      <td>334</td>\n",
              "      <td>116.0</td>\n",
              "      <td>57.5</td>\n",
              "      <td>0</td>\n",
              "    </tr>\n",
              "    <tr>\n",
              "      <th>40</th>\n",
              "      <td>Cote d'Ivoire</td>\n",
              "      <td>111.0</td>\n",
              "      <td>50.6</td>\n",
              "      <td>5.30</td>\n",
              "      <td>43.3</td>\n",
              "      <td>2690</td>\n",
              "      <td>5.390</td>\n",
              "      <td>56.3</td>\n",
              "      <td>5.27</td>\n",
              "      <td>1220</td>\n",
              "      <td>111.0</td>\n",
              "      <td>56.3</td>\n",
              "      <td>0</td>\n",
              "    </tr>\n",
              "    <tr>\n",
              "      <th>49</th>\n",
              "      <td>Equatorial Guinea</td>\n",
              "      <td>111.0</td>\n",
              "      <td>85.8</td>\n",
              "      <td>4.48</td>\n",
              "      <td>58.9</td>\n",
              "      <td>33700</td>\n",
              "      <td>24.900</td>\n",
              "      <td>60.9</td>\n",
              "      <td>5.21</td>\n",
              "      <td>17100</td>\n",
              "      <td>111.0</td>\n",
              "      <td>60.9</td>\n",
              "      <td>0</td>\n",
              "    </tr>\n",
              "    <tr>\n",
              "      <th>63</th>\n",
              "      <td>Guinea</td>\n",
              "      <td>109.0</td>\n",
              "      <td>30.3</td>\n",
              "      <td>4.93</td>\n",
              "      <td>43.2</td>\n",
              "      <td>1190</td>\n",
              "      <td>16.100</td>\n",
              "      <td>58.0</td>\n",
              "      <td>5.34</td>\n",
              "      <td>648</td>\n",
              "      <td>109.0</td>\n",
              "      <td>58.0</td>\n",
              "      <td>0</td>\n",
              "    </tr>\n",
              "    <tr>\n",
              "      <th>64</th>\n",
              "      <td>Guinea-Bissau</td>\n",
              "      <td>114.0</td>\n",
              "      <td>14.9</td>\n",
              "      <td>8.50</td>\n",
              "      <td>35.2</td>\n",
              "      <td>1390</td>\n",
              "      <td>2.970</td>\n",
              "      <td>55.6</td>\n",
              "      <td>5.05</td>\n",
              "      <td>547</td>\n",
              "      <td>114.0</td>\n",
              "      <td>55.6</td>\n",
              "      <td>0</td>\n",
              "    </tr>\n",
              "    <tr>\n",
              "      <th>66</th>\n",
              "      <td>Haiti</td>\n",
              "      <td>208.0</td>\n",
              "      <td>15.3</td>\n",
              "      <td>6.91</td>\n",
              "      <td>64.7</td>\n",
              "      <td>1500</td>\n",
              "      <td>5.450</td>\n",
              "      <td>32.1</td>\n",
              "      <td>3.33</td>\n",
              "      <td>662</td>\n",
              "      <td>208.0</td>\n",
              "      <td>32.1</td>\n",
              "      <td>0</td>\n",
              "    </tr>\n",
              "    <tr>\n",
              "      <th>87</th>\n",
              "      <td>Lesotho</td>\n",
              "      <td>99.7</td>\n",
              "      <td>39.4</td>\n",
              "      <td>11.10</td>\n",
              "      <td>101.0</td>\n",
              "      <td>2380</td>\n",
              "      <td>4.150</td>\n",
              "      <td>46.5</td>\n",
              "      <td>3.30</td>\n",
              "      <td>1170</td>\n",
              "      <td>99.7</td>\n",
              "      <td>46.5</td>\n",
              "      <td>0</td>\n",
              "    </tr>\n",
              "    <tr>\n",
              "      <th>97</th>\n",
              "      <td>Mali</td>\n",
              "      <td>137.0</td>\n",
              "      <td>22.8</td>\n",
              "      <td>4.98</td>\n",
              "      <td>35.1</td>\n",
              "      <td>1870</td>\n",
              "      <td>4.370</td>\n",
              "      <td>59.5</td>\n",
              "      <td>6.55</td>\n",
              "      <td>708</td>\n",
              "      <td>137.0</td>\n",
              "      <td>59.5</td>\n",
              "      <td>0</td>\n",
              "    </tr>\n",
              "    <tr>\n",
              "      <th>106</th>\n",
              "      <td>Mozambique</td>\n",
              "      <td>101.0</td>\n",
              "      <td>31.5</td>\n",
              "      <td>5.21</td>\n",
              "      <td>46.2</td>\n",
              "      <td>918</td>\n",
              "      <td>7.640</td>\n",
              "      <td>54.5</td>\n",
              "      <td>5.56</td>\n",
              "      <td>419</td>\n",
              "      <td>101.0</td>\n",
              "      <td>54.5</td>\n",
              "      <td>0</td>\n",
              "    </tr>\n",
              "    <tr>\n",
              "      <th>112</th>\n",
              "      <td>Niger</td>\n",
              "      <td>123.0</td>\n",
              "      <td>22.2</td>\n",
              "      <td>5.16</td>\n",
              "      <td>49.1</td>\n",
              "      <td>814</td>\n",
              "      <td>2.550</td>\n",
              "      <td>58.8</td>\n",
              "      <td>7.49</td>\n",
              "      <td>348</td>\n",
              "      <td>123.0</td>\n",
              "      <td>58.8</td>\n",
              "      <td>0</td>\n",
              "    </tr>\n",
              "    <tr>\n",
              "      <th>113</th>\n",
              "      <td>Nigeria</td>\n",
              "      <td>130.0</td>\n",
              "      <td>25.3</td>\n",
              "      <td>5.07</td>\n",
              "      <td>17.4</td>\n",
              "      <td>5150</td>\n",
              "      <td>104.000</td>\n",
              "      <td>60.5</td>\n",
              "      <td>5.84</td>\n",
              "      <td>2330</td>\n",
              "      <td>130.0</td>\n",
              "      <td>60.5</td>\n",
              "      <td>0</td>\n",
              "    </tr>\n",
              "    <tr>\n",
              "      <th>132</th>\n",
              "      <td>Sierra Leone</td>\n",
              "      <td>160.0</td>\n",
              "      <td>16.8</td>\n",
              "      <td>13.10</td>\n",
              "      <td>34.5</td>\n",
              "      <td>1220</td>\n",
              "      <td>17.200</td>\n",
              "      <td>55.0</td>\n",
              "      <td>5.20</td>\n",
              "      <td>399</td>\n",
              "      <td>160.0</td>\n",
              "      <td>55.0</td>\n",
              "      <td>0</td>\n",
              "    </tr>\n",
              "  </tbody>\n",
              "</table>\n",
              "</div>\n",
              "      <button class=\"colab-df-convert\" onclick=\"convertToInteractive('df-14c4e0a0-0090-4237-9432-b34caae6cb89')\"\n",
              "              title=\"Convert this dataframe to an interactive table.\"\n",
              "              style=\"display:none;\">\n",
              "        \n",
              "  <svg xmlns=\"http://www.w3.org/2000/svg\" height=\"24px\"viewBox=\"0 0 24 24\"\n",
              "       width=\"24px\">\n",
              "    <path d=\"M0 0h24v24H0V0z\" fill=\"none\"/>\n",
              "    <path d=\"M18.56 5.44l.94 2.06.94-2.06 2.06-.94-2.06-.94-.94-2.06-.94 2.06-2.06.94zm-11 1L8.5 8.5l.94-2.06 2.06-.94-2.06-.94L8.5 2.5l-.94 2.06-2.06.94zm10 10l.94 2.06.94-2.06 2.06-.94-2.06-.94-.94-2.06-.94 2.06-2.06.94z\"/><path d=\"M17.41 7.96l-1.37-1.37c-.4-.4-.92-.59-1.43-.59-.52 0-1.04.2-1.43.59L10.3 9.45l-7.72 7.72c-.78.78-.78 2.05 0 2.83L4 21.41c.39.39.9.59 1.41.59.51 0 1.02-.2 1.41-.59l7.78-7.78 2.81-2.81c.8-.78.8-2.07 0-2.86zM5.41 20L4 18.59l7.72-7.72 1.47 1.35L5.41 20z\"/>\n",
              "  </svg>\n",
              "      </button>\n",
              "      \n",
              "  <style>\n",
              "    .colab-df-container {\n",
              "      display:flex;\n",
              "      flex-wrap:wrap;\n",
              "      gap: 12px;\n",
              "    }\n",
              "\n",
              "    .colab-df-convert {\n",
              "      background-color: #E8F0FE;\n",
              "      border: none;\n",
              "      border-radius: 50%;\n",
              "      cursor: pointer;\n",
              "      display: none;\n",
              "      fill: #1967D2;\n",
              "      height: 32px;\n",
              "      padding: 0 0 0 0;\n",
              "      width: 32px;\n",
              "    }\n",
              "\n",
              "    .colab-df-convert:hover {\n",
              "      background-color: #E2EBFA;\n",
              "      box-shadow: 0px 1px 2px rgba(60, 64, 67, 0.3), 0px 1px 3px 1px rgba(60, 64, 67, 0.15);\n",
              "      fill: #174EA6;\n",
              "    }\n",
              "\n",
              "    [theme=dark] .colab-df-convert {\n",
              "      background-color: #3B4455;\n",
              "      fill: #D2E3FC;\n",
              "    }\n",
              "\n",
              "    [theme=dark] .colab-df-convert:hover {\n",
              "      background-color: #434B5C;\n",
              "      box-shadow: 0px 1px 3px 1px rgba(0, 0, 0, 0.15);\n",
              "      filter: drop-shadow(0px 1px 2px rgba(0, 0, 0, 0.3));\n",
              "      fill: #FFFFFF;\n",
              "    }\n",
              "  </style>\n",
              "\n",
              "      <script>\n",
              "        const buttonEl =\n",
              "          document.querySelector('#df-14c4e0a0-0090-4237-9432-b34caae6cb89 button.colab-df-convert');\n",
              "        buttonEl.style.display =\n",
              "          google.colab.kernel.accessAllowed ? 'block' : 'none';\n",
              "\n",
              "        async function convertToInteractive(key) {\n",
              "          const element = document.querySelector('#df-14c4e0a0-0090-4237-9432-b34caae6cb89');\n",
              "          const dataTable =\n",
              "            await google.colab.kernel.invokeFunction('convertToInteractive',\n",
              "                                                     [key], {});\n",
              "          if (!dataTable) return;\n",
              "\n",
              "          const docLinkHtml = 'Like what you see? Visit the ' +\n",
              "            '<a target=\"_blank\" href=https://colab.research.google.com/notebooks/data_table.ipynb>data table notebook</a>'\n",
              "            + ' to learn more about interactive tables.';\n",
              "          element.innerHTML = '';\n",
              "          dataTable['output_type'] = 'display_data';\n",
              "          await google.colab.output.renderOutput(dataTable, element);\n",
              "          const docLink = document.createElement('div');\n",
              "          docLink.innerHTML = docLinkHtml;\n",
              "          element.appendChild(docLink);\n",
              "        }\n",
              "      </script>\n",
              "    </div>\n",
              "  </div>\n",
              "  "
            ]
          },
          "metadata": {},
          "execution_count": 23
        }
      ]
    },
    {
      "cell_type": "code",
      "source": [
        "merged_df.shape"
      ],
      "metadata": {
        "colab": {
          "base_uri": "https://localhost:8080/"
        },
        "id": "gc-CiaaysJ7n",
        "outputId": "08ee2217-e734-4040-c891-a679859328cc"
      },
      "execution_count": null,
      "outputs": [
        {
          "output_type": "execute_result",
          "data": {
            "text/plain": [
              "(18, 13)"
            ]
          },
          "metadata": {},
          "execution_count": 24
        }
      ]
    },
    {
      "cell_type": "code",
      "source": [
        "# Reducing # columns for easier operations\n",
        "final_df = merged_df[[\"child_mort_y\", \"life_expec_y\", \"Cluster label\", \"country\"]]\n",
        "final_df.sort_values(by = [\"child_mort_y\"], ascending = False)"
      ],
      "metadata": {
        "colab": {
          "base_uri": "https://localhost:8080/",
          "height": 614
        },
        "id": "OcZK3yjq0S5c",
        "outputId": "6d3bb90d-549d-4ce9-a64c-483eb5ff17e5"
      },
      "execution_count": null,
      "outputs": [
        {
          "output_type": "execute_result",
          "data": {
            "text/plain": [
              "     child_mort_y  life_expec_y  Cluster label                   country\n",
              "66          208.0          32.1              0                     Haiti\n",
              "132         160.0          55.0              0              Sierra Leone\n",
              "32          150.0          56.5              0                      Chad\n",
              "31          149.0          47.5              0  Central African Republic\n",
              "97          137.0          59.5              0                      Mali\n",
              "113         130.0          60.5              0                   Nigeria\n",
              "112         123.0          58.8              0                     Niger\n",
              "3           119.0          60.1              0                    Angola\n",
              "37          116.0          57.5              0          Congo, Dem. Rep.\n",
              "25          116.0          57.9              0              Burkina Faso\n",
              "64          114.0          55.6              0             Guinea-Bissau\n",
              "49          111.0          60.9              0         Equatorial Guinea\n",
              "17          111.0          61.8              0                     Benin\n",
              "40          111.0          56.3              0             Cote d'Ivoire\n",
              "63          109.0          58.0              0                    Guinea\n",
              "28          108.0          57.3              0                  Cameroon\n",
              "106         101.0          54.5              0                Mozambique\n",
              "87           99.7          46.5              0                   Lesotho"
            ],
            "text/html": [
              "\n",
              "  <div id=\"df-e1fd6d03-a81e-4608-9b8d-685381ce2104\">\n",
              "    <div class=\"colab-df-container\">\n",
              "      <div>\n",
              "<style scoped>\n",
              "    .dataframe tbody tr th:only-of-type {\n",
              "        vertical-align: middle;\n",
              "    }\n",
              "\n",
              "    .dataframe tbody tr th {\n",
              "        vertical-align: top;\n",
              "    }\n",
              "\n",
              "    .dataframe thead th {\n",
              "        text-align: right;\n",
              "    }\n",
              "</style>\n",
              "<table border=\"1\" class=\"dataframe\">\n",
              "  <thead>\n",
              "    <tr style=\"text-align: right;\">\n",
              "      <th></th>\n",
              "      <th>child_mort_y</th>\n",
              "      <th>life_expec_y</th>\n",
              "      <th>Cluster label</th>\n",
              "      <th>country</th>\n",
              "    </tr>\n",
              "  </thead>\n",
              "  <tbody>\n",
              "    <tr>\n",
              "      <th>66</th>\n",
              "      <td>208.0</td>\n",
              "      <td>32.1</td>\n",
              "      <td>0</td>\n",
              "      <td>Haiti</td>\n",
              "    </tr>\n",
              "    <tr>\n",
              "      <th>132</th>\n",
              "      <td>160.0</td>\n",
              "      <td>55.0</td>\n",
              "      <td>0</td>\n",
              "      <td>Sierra Leone</td>\n",
              "    </tr>\n",
              "    <tr>\n",
              "      <th>32</th>\n",
              "      <td>150.0</td>\n",
              "      <td>56.5</td>\n",
              "      <td>0</td>\n",
              "      <td>Chad</td>\n",
              "    </tr>\n",
              "    <tr>\n",
              "      <th>31</th>\n",
              "      <td>149.0</td>\n",
              "      <td>47.5</td>\n",
              "      <td>0</td>\n",
              "      <td>Central African Republic</td>\n",
              "    </tr>\n",
              "    <tr>\n",
              "      <th>97</th>\n",
              "      <td>137.0</td>\n",
              "      <td>59.5</td>\n",
              "      <td>0</td>\n",
              "      <td>Mali</td>\n",
              "    </tr>\n",
              "    <tr>\n",
              "      <th>113</th>\n",
              "      <td>130.0</td>\n",
              "      <td>60.5</td>\n",
              "      <td>0</td>\n",
              "      <td>Nigeria</td>\n",
              "    </tr>\n",
              "    <tr>\n",
              "      <th>112</th>\n",
              "      <td>123.0</td>\n",
              "      <td>58.8</td>\n",
              "      <td>0</td>\n",
              "      <td>Niger</td>\n",
              "    </tr>\n",
              "    <tr>\n",
              "      <th>3</th>\n",
              "      <td>119.0</td>\n",
              "      <td>60.1</td>\n",
              "      <td>0</td>\n",
              "      <td>Angola</td>\n",
              "    </tr>\n",
              "    <tr>\n",
              "      <th>37</th>\n",
              "      <td>116.0</td>\n",
              "      <td>57.5</td>\n",
              "      <td>0</td>\n",
              "      <td>Congo, Dem. Rep.</td>\n",
              "    </tr>\n",
              "    <tr>\n",
              "      <th>25</th>\n",
              "      <td>116.0</td>\n",
              "      <td>57.9</td>\n",
              "      <td>0</td>\n",
              "      <td>Burkina Faso</td>\n",
              "    </tr>\n",
              "    <tr>\n",
              "      <th>64</th>\n",
              "      <td>114.0</td>\n",
              "      <td>55.6</td>\n",
              "      <td>0</td>\n",
              "      <td>Guinea-Bissau</td>\n",
              "    </tr>\n",
              "    <tr>\n",
              "      <th>49</th>\n",
              "      <td>111.0</td>\n",
              "      <td>60.9</td>\n",
              "      <td>0</td>\n",
              "      <td>Equatorial Guinea</td>\n",
              "    </tr>\n",
              "    <tr>\n",
              "      <th>17</th>\n",
              "      <td>111.0</td>\n",
              "      <td>61.8</td>\n",
              "      <td>0</td>\n",
              "      <td>Benin</td>\n",
              "    </tr>\n",
              "    <tr>\n",
              "      <th>40</th>\n",
              "      <td>111.0</td>\n",
              "      <td>56.3</td>\n",
              "      <td>0</td>\n",
              "      <td>Cote d'Ivoire</td>\n",
              "    </tr>\n",
              "    <tr>\n",
              "      <th>63</th>\n",
              "      <td>109.0</td>\n",
              "      <td>58.0</td>\n",
              "      <td>0</td>\n",
              "      <td>Guinea</td>\n",
              "    </tr>\n",
              "    <tr>\n",
              "      <th>28</th>\n",
              "      <td>108.0</td>\n",
              "      <td>57.3</td>\n",
              "      <td>0</td>\n",
              "      <td>Cameroon</td>\n",
              "    </tr>\n",
              "    <tr>\n",
              "      <th>106</th>\n",
              "      <td>101.0</td>\n",
              "      <td>54.5</td>\n",
              "      <td>0</td>\n",
              "      <td>Mozambique</td>\n",
              "    </tr>\n",
              "    <tr>\n",
              "      <th>87</th>\n",
              "      <td>99.7</td>\n",
              "      <td>46.5</td>\n",
              "      <td>0</td>\n",
              "      <td>Lesotho</td>\n",
              "    </tr>\n",
              "  </tbody>\n",
              "</table>\n",
              "</div>\n",
              "      <button class=\"colab-df-convert\" onclick=\"convertToInteractive('df-e1fd6d03-a81e-4608-9b8d-685381ce2104')\"\n",
              "              title=\"Convert this dataframe to an interactive table.\"\n",
              "              style=\"display:none;\">\n",
              "        \n",
              "  <svg xmlns=\"http://www.w3.org/2000/svg\" height=\"24px\"viewBox=\"0 0 24 24\"\n",
              "       width=\"24px\">\n",
              "    <path d=\"M0 0h24v24H0V0z\" fill=\"none\"/>\n",
              "    <path d=\"M18.56 5.44l.94 2.06.94-2.06 2.06-.94-2.06-.94-.94-2.06-.94 2.06-2.06.94zm-11 1L8.5 8.5l.94-2.06 2.06-.94-2.06-.94L8.5 2.5l-.94 2.06-2.06.94zm10 10l.94 2.06.94-2.06 2.06-.94-2.06-.94-.94-2.06-.94 2.06-2.06.94z\"/><path d=\"M17.41 7.96l-1.37-1.37c-.4-.4-.92-.59-1.43-.59-.52 0-1.04.2-1.43.59L10.3 9.45l-7.72 7.72c-.78.78-.78 2.05 0 2.83L4 21.41c.39.39.9.59 1.41.59.51 0 1.02-.2 1.41-.59l7.78-7.78 2.81-2.81c.8-.78.8-2.07 0-2.86zM5.41 20L4 18.59l7.72-7.72 1.47 1.35L5.41 20z\"/>\n",
              "  </svg>\n",
              "      </button>\n",
              "      \n",
              "  <style>\n",
              "    .colab-df-container {\n",
              "      display:flex;\n",
              "      flex-wrap:wrap;\n",
              "      gap: 12px;\n",
              "    }\n",
              "\n",
              "    .colab-df-convert {\n",
              "      background-color: #E8F0FE;\n",
              "      border: none;\n",
              "      border-radius: 50%;\n",
              "      cursor: pointer;\n",
              "      display: none;\n",
              "      fill: #1967D2;\n",
              "      height: 32px;\n",
              "      padding: 0 0 0 0;\n",
              "      width: 32px;\n",
              "    }\n",
              "\n",
              "    .colab-df-convert:hover {\n",
              "      background-color: #E2EBFA;\n",
              "      box-shadow: 0px 1px 2px rgba(60, 64, 67, 0.3), 0px 1px 3px 1px rgba(60, 64, 67, 0.15);\n",
              "      fill: #174EA6;\n",
              "    }\n",
              "\n",
              "    [theme=dark] .colab-df-convert {\n",
              "      background-color: #3B4455;\n",
              "      fill: #D2E3FC;\n",
              "    }\n",
              "\n",
              "    [theme=dark] .colab-df-convert:hover {\n",
              "      background-color: #434B5C;\n",
              "      box-shadow: 0px 1px 3px 1px rgba(0, 0, 0, 0.15);\n",
              "      filter: drop-shadow(0px 1px 2px rgba(0, 0, 0, 0.3));\n",
              "      fill: #FFFFFF;\n",
              "    }\n",
              "  </style>\n",
              "\n",
              "      <script>\n",
              "        const buttonEl =\n",
              "          document.querySelector('#df-e1fd6d03-a81e-4608-9b8d-685381ce2104 button.colab-df-convert');\n",
              "        buttonEl.style.display =\n",
              "          google.colab.kernel.accessAllowed ? 'block' : 'none';\n",
              "\n",
              "        async function convertToInteractive(key) {\n",
              "          const element = document.querySelector('#df-e1fd6d03-a81e-4608-9b8d-685381ce2104');\n",
              "          const dataTable =\n",
              "            await google.colab.kernel.invokeFunction('convertToInteractive',\n",
              "                                                     [key], {});\n",
              "          if (!dataTable) return;\n",
              "\n",
              "          const docLinkHtml = 'Like what you see? Visit the ' +\n",
              "            '<a target=\"_blank\" href=https://colab.research.google.com/notebooks/data_table.ipynb>data table notebook</a>'\n",
              "            + ' to learn more about interactive tables.';\n",
              "          element.innerHTML = '';\n",
              "          dataTable['output_type'] = 'display_data';\n",
              "          await google.colab.output.renderOutput(dataTable, element);\n",
              "          const docLink = document.createElement('div');\n",
              "          docLink.innerHTML = docLinkHtml;\n",
              "          element.appendChild(docLink);\n",
              "        }\n",
              "      </script>\n",
              "    </div>\n",
              "  </div>\n",
              "  "
            ]
          },
          "metadata": {},
          "execution_count": 25
        }
      ]
    },
    {
      "cell_type": "markdown",
      "source": [
        "These 18 countries need the most help from the Health Aid Program. They experience low Life Expectancy and high child mortality."
      ],
      "metadata": {
        "id": "7kZzRyDysPXw"
      }
    },
    {
      "cell_type": "code",
      "source": [
        "plt.scatter(final_df[\"child_mort_y\"], final_df[\"life_expec_y\"], s = 10)\n",
        "# Show label on the plot for the 18 countries\n",
        "for i, country in enumerate(final_df['country']): # Get both index and values from \"country\" column. i contains index and country contains the value\n",
        "  plt.annotate(country, (final_df['child_mort_y'].iloc[i], final_df['life_expec_y'].iloc[i]), xytext=(10, 5), textcoords='offset points', fontweight = \"light\")\n",
        "plt.xlabel(\"Child Mortility (per 1000 birth)\")\n",
        "plt.ylabel(\"Life Expectancy\")\n",
        "plt.title(\"Bottom 18 countries based on Child Mortility and Life Expectancy\")"
      ],
      "metadata": {
        "colab": {
          "base_uri": "https://localhost:8080/",
          "height": 490
        },
        "id": "FZPK0wh614vH",
        "outputId": "d8c0ddfe-9226-4e34-ce1a-227bdeed305e"
      },
      "execution_count": null,
      "outputs": [
        {
          "output_type": "execute_result",
          "data": {
            "text/plain": [
              "Text(0.5, 1.0, 'Bottom 18 countries based on Child Mortility and Life Expectancy')"
            ]
          },
          "metadata": {},
          "execution_count": 47
        },
        {
          "output_type": "display_data",
          "data": {
            "text/plain": [
              "<Figure size 640x480 with 1 Axes>"
            ],
            "image/png": "[encoded data removed]"
          },
          "metadata": {}
        }
      ]
    },
    {
      "cell_type": "markdown",
      "source": [
        "## In this project, we can see that Haiti needs the most help and Central African Republic comes in second most help needed from the Health Aid Program."
      ],
      "metadata": {
        "id": "wzCH7jYRDyjM"
      }
    }
  ]
}