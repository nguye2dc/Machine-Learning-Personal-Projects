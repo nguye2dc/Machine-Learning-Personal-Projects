{
  "nbformat": 4,
  "nbformat_minor": 0,
  "metadata": {
    "colab": {
      "provenance": []
    },
    "kernelspec": {
      "name": "python3",
      "display_name": "Python 3"
    },
    "language_info": {
      "name": "python"
    }
  },
  "cells": [
    {
      "cell_type": "markdown",
      "source": [
        "# This model aims to predict whether the stock tick is going to be negative or positive gain so that we can make appropriate investing action.\n",
        "\n",
        "# The model used in this notebook is Long Short Term Memory (artificial recurrent network)"
      ],
      "metadata": {
        "id": "_Yj6UlnjdRWt"
      }
    },
    {
      "cell_type": "code",
      "source": [
        "# Install API package \n",
        "!pip install alpaca_trade_api"
      ],
      "metadata": {
        "colab": {
          "base_uri": "https://localhost:8080/"
        },
        "id": "WV1tkNq4exX6",
        "outputId": "336c672a-45cd-4f7e-ff00-ef8ed981679e"
      },
      "execution_count": null,
      "outputs": [
        {
          "output_type": "stream",
          "name": "stdout",
          "text": [
            "Looking in indexes: https://pypi.org/simple, https://us-python.pkg.dev/colab-wheels/public/simple/\n",
            "Requirement already satisfied: alpaca_trade_api in /usr/local/lib/python3.10/dist-packages (3.0.0)\n",
            "Requirement already satisfied: pandas>=0.18.1 in /usr/local/lib/python3.10/dist-packages (from alpaca_trade_api) (1.5.3)\n",
            "Requirement already satisfied: numpy>=1.11.1 in /usr/local/lib/python3.10/dist-packages (from alpaca_trade_api) (1.22.4)\n",
            "Requirement already satisfied: requests<3,>2 in /usr/local/lib/python3.10/dist-packages (from alpaca_trade_api) (2.27.1)\n",
            "Requirement already satisfied: urllib3<2,>1.24 in /usr/local/lib/python3.10/dist-packages (from alpaca_trade_api) (1.26.15)\n",
            "Requirement already satisfied: websocket-client<2,>=0.56.0 in /usr/local/lib/python3.10/dist-packages (from alpaca_trade_api) (1.5.1)\n",
            "Requirement already satisfied: websockets<11,>=9.0 in /usr/local/lib/python3.10/dist-packages (from alpaca_trade_api) (10.4)\n",
            "Requirement already satisfied: msgpack==1.0.3 in /usr/local/lib/python3.10/dist-packages (from alpaca_trade_api) (1.0.3)\n",
            "Requirement already satisfied: aiohttp==3.8.1 in /usr/local/lib/python3.10/dist-packages (from alpaca_trade_api) (3.8.1)\n",
            "Requirement already satisfied: PyYAML==6.0 in /usr/local/lib/python3.10/dist-packages (from alpaca_trade_api) (6.0)\n",
            "Requirement already satisfied: deprecation==2.1.0 in /usr/local/lib/python3.10/dist-packages (from alpaca_trade_api) (2.1.0)\n",
            "Requirement already satisfied: attrs>=17.3.0 in /usr/local/lib/python3.10/dist-packages (from aiohttp==3.8.1->alpaca_trade_api) (23.1.0)\n",
            "Requirement already satisfied: charset-normalizer<3.0,>=2.0 in /usr/local/lib/python3.10/dist-packages (from aiohttp==3.8.1->alpaca_trade_api) (2.0.12)\n",
            "Requirement already satisfied: multidict<7.0,>=4.5 in /usr/local/lib/python3.10/dist-packages (from aiohttp==3.8.1->alpaca_trade_api) (6.0.4)\n",
            "Requirement already satisfied: async-timeout<5.0,>=4.0.0a3 in /usr/local/lib/python3.10/dist-packages (from aiohttp==3.8.1->alpaca_trade_api) (4.0.2)\n",
            "Requirement already satisfied: yarl<2.0,>=1.0 in /usr/local/lib/python3.10/dist-packages (from aiohttp==3.8.1->alpaca_trade_api) (1.9.2)\n",
            "Requirement already satisfied: frozenlist>=1.1.1 in /usr/local/lib/python3.10/dist-packages (from aiohttp==3.8.1->alpaca_trade_api) (1.3.3)\n",
            "Requirement already satisfied: aiosignal>=1.1.2 in /usr/local/lib/python3.10/dist-packages (from aiohttp==3.8.1->alpaca_trade_api) (1.3.1)\n",
            "Requirement already satisfied: packaging in /usr/local/lib/python3.10/dist-packages (from deprecation==2.1.0->alpaca_trade_api) (23.1)\n",
            "Requirement already satisfied: python-dateutil>=2.8.1 in /usr/local/lib/python3.10/dist-packages (from pandas>=0.18.1->alpaca_trade_api) (2.8.2)\n",
            "Requirement already satisfied: pytz>=2020.1 in /usr/local/lib/python3.10/dist-packages (from pandas>=0.18.1->alpaca_trade_api) (2022.7.1)\n",
            "Requirement already satisfied: certifi>=2017.4.17 in /usr/local/lib/python3.10/dist-packages (from requests<3,>2->alpaca_trade_api) (2022.12.7)\n",
            "Requirement already satisfied: idna<4,>=2.5 in /usr/local/lib/python3.10/dist-packages (from requests<3,>2->alpaca_trade_api) (3.4)\n",
            "Requirement already satisfied: six>=1.5 in /usr/local/lib/python3.10/dist-packages (from python-dateutil>=2.8.1->pandas>=0.18.1->alpaca_trade_api) (1.16.0)\n"
          ]
        }
      ]
    },
    {
      "cell_type": "code",
      "execution_count": null,
      "metadata": {
        "id": "Ewc_xTwWdJhl"
      },
      "outputs": [],
      "source": [
        "# Import the libraries\n",
        "import math\n",
        "import pandas_datareader as web\n",
        "import numpy as np\n",
        "import pandas as pd\n",
        "from sklearn.preprocessing import MinMaxScaler\n",
        "from keras.models import Sequential\n",
        "from keras.layers import Dense, LSTM, Dropout, Bidirectional\n",
        "import alpaca_trade_api as alpacatrade\n",
        "import matplotlib.pyplot as plt\n",
        "plt.style.use('fivethirtyeight')\n"
      ]
    },
    {
      "cell_type": "markdown",
      "source": [
        "# API keys and connection establish"
      ],
      "metadata": {
        "id": "Mfd1YNst3cgS"
      }
    },
    {
      "cell_type": "code",
      "source": [
        "base_url = 'https://paper-api.alpaca.markets'\n",
        "api_key = \"PK7WZLWPRI3DIXSU2AKB\"\n",
        "api_secret_key = \"zrSjMJgKOcyGIbpPViPzwlrQFpeLSapdg8kj6j25\""
      ],
      "metadata": {
        "id": "NfyQlu733leA"
      },
      "execution_count": null,
      "outputs": []
    },
    {
      "cell_type": "code",
      "source": [
        "# Create a connection with Rest API\n",
        "api = alpacatrade.REST(key_id= api_key, secret_key= api_secret_key, base_url= base_url)"
      ],
      "metadata": {
        "id": "QttJJj7e3t3D"
      },
      "execution_count": null,
      "outputs": []
    },
    {
      "cell_type": "markdown",
      "source": [
        "# Test out the connection by calling account"
      ],
      "metadata": {
        "id": "Vj0frS8Y37En"
      }
    },
    {
      "cell_type": "code",
      "source": [
        "# Fetch Account\n",
        "account = api.get_account()\n",
        "# Print Account Details\n",
        "print(account.id, account.equity, account.status)"
      ],
      "metadata": {
        "id": "LA8ElXAJ4AGX",
        "colab": {
          "base_uri": "https://localhost:8080/"
        },
        "outputId": "e59e6dce-e98a-49c2-b242-d10728b331a0"
      },
      "execution_count": null,
      "outputs": [
        {
          "output_type": "stream",
          "name": "stdout",
          "text": [
            "a9bfbcba-fe38-4333-969f-3cfc458c3000 100000 ACTIVE\n"
          ]
        }
      ]
    },
    {
      "cell_type": "markdown",
      "source": [
        "# Fetch Market data"
      ],
      "metadata": {
        "id": "odSK2Xj_4Gm2"
      }
    },
    {
      "cell_type": "code",
      "source": [
        "# Setting parameters for code calling\n",
        "symbol = \"AAPL\"\n",
        "timeframe = \"1Minute\"\n",
        "start = \"2022-01-01\"\n",
        "end = \"2023-01-01\" # YYYY-MM-DD\n",
        "# Using bar data method\n",
        "apple_bars = api.get_bars(symbol, timeframe, start, end).df\n",
        "# get only market hours\n",
        "apple_bars = apple_bars.between_time('9:30', '16:00')\n",
        "print(apple_bars.head(10))"
      ],
      "metadata": {
        "id": "qNCTeTM_4TBz",
        "colab": {
          "base_uri": "https://localhost:8080/"
        },
        "outputId": "1a5b5575-8569-4cf3-e5ba-36dc5188b815"
      },
      "execution_count": null,
      "outputs": [
        {
          "output_type": "stream",
          "name": "stdout",
          "text": [
            "                             open    high     low   close  volume  \\\n",
            "timestamp                                                           \n",
            "2022-01-03 09:30:00+00:00  177.87  177.87  177.87  177.87     467   \n",
            "2022-01-03 09:31:00+00:00  177.87  177.87  177.80  177.80     634   \n",
            "2022-01-03 09:32:00+00:00  177.80  177.80  177.80  177.80    1047   \n",
            "2022-01-03 09:33:00+00:00  177.76  177.76  177.76  177.76     633   \n",
            "2022-01-03 09:34:00+00:00  177.77  177.85  177.77  177.85     958   \n",
            "2022-01-03 09:36:00+00:00  177.85  177.88  177.81  177.81    1644   \n",
            "2022-01-03 09:37:00+00:00  177.81  177.81  177.80  177.81    1364   \n",
            "2022-01-03 09:38:00+00:00  177.80  177.80  177.80  177.80     563   \n",
            "2022-01-03 09:39:00+00:00  177.83  177.84  177.77  177.77    2278   \n",
            "2022-01-03 09:40:00+00:00  177.83  177.84  177.83  177.84     850   \n",
            "\n",
            "                           trade_count        vwap  \n",
            "timestamp                                           \n",
            "2022-01-03 09:30:00+00:00           17  177.871842  \n",
            "2022-01-03 09:31:00+00:00           20  177.817618  \n",
            "2022-01-03 09:32:00+00:00           59  177.804413  \n",
            "2022-01-03 09:33:00+00:00           50  177.768815  \n",
            "2022-01-03 09:34:00+00:00           11  177.808173  \n",
            "2022-01-03 09:36:00+00:00           41  177.853680  \n",
            "2022-01-03 09:37:00+00:00           31  177.802581  \n",
            "2022-01-03 09:38:00+00:00           26  177.797478  \n",
            "2022-01-03 09:39:00+00:00           43  177.812199  \n",
            "2022-01-03 09:40:00+00:00           18  177.823600  \n"
          ]
        }
      ]
    },
    {
      "cell_type": "code",
      "source": [
        "# convert dataframe to Pandas\n",
        "pd.DataFrame(apple_bars)"
      ],
      "metadata": {
        "id": "JO-2lqHc4fa9",
        "colab": {
          "base_uri": "https://localhost:8080/",
          "height": 455
        },
        "outputId": "2abc726e-83e1-484d-de29-35340dd9fde4"
      },
      "execution_count": null,
      "outputs": [
        {
          "output_type": "execute_result",
          "data": {
            "text/plain": [
              "                               open      high      low     close  volume  \\\n",
              "timestamp                                                                  \n",
              "2022-01-03 09:30:00+00:00  177.8700  177.8700  177.870  177.8700     467   \n",
              "2022-01-03 09:31:00+00:00  177.8700  177.8700  177.800  177.8000     634   \n",
              "2022-01-03 09:32:00+00:00  177.8000  177.8000  177.800  177.8000    1047   \n",
              "2022-01-03 09:33:00+00:00  177.7600  177.7600  177.760  177.7600     633   \n",
              "2022-01-03 09:34:00+00:00  177.7700  177.8500  177.770  177.8500     958   \n",
              "...                             ...       ...      ...       ...     ...   \n",
              "2022-12-30 15:56:00+00:00  128.8192  128.8400  128.710  128.7508  135152   \n",
              "2022-12-30 15:57:00+00:00  128.7500  128.7600  128.626  128.6650  147990   \n",
              "2022-12-30 15:58:00+00:00  128.6675  128.7300  128.600  128.6850  137146   \n",
              "2022-12-30 15:59:00+00:00  128.6770  128.8395  128.675  128.8375  157410   \n",
              "2022-12-30 16:00:00+00:00  128.8330  128.8400  128.720  128.7200  166231   \n",
              "\n",
              "                           trade_count        vwap  \n",
              "timestamp                                           \n",
              "2022-01-03 09:30:00+00:00           17  177.871842  \n",
              "2022-01-03 09:31:00+00:00           20  177.817618  \n",
              "2022-01-03 09:32:00+00:00           59  177.804413  \n",
              "2022-01-03 09:33:00+00:00           50  177.768815  \n",
              "2022-01-03 09:34:00+00:00           11  177.808173  \n",
              "...                                ...         ...  \n",
              "2022-12-30 15:56:00+00:00         1248  128.790486  \n",
              "2022-12-30 15:57:00+00:00         1524  128.698747  \n",
              "2022-12-30 15:58:00+00:00         1194  128.685074  \n",
              "2022-12-30 15:59:00+00:00         1192  128.765191  \n",
              "2022-12-30 16:00:00+00:00         1536  128.789107  \n",
              "\n",
              "[83010 rows x 7 columns]"
            ],
            "text/html": [
              "\n",
              "  <div id=\"df-8c235ae6-dedd-4971-8e2e-21a7e4ab1ae0\">\n",
              "    <div class=\"colab-df-container\">\n",
              "      <div>\n",
              "<style scoped>\n",
              "    .dataframe tbody tr th:only-of-type {\n",
              "        vertical-align: middle;\n",
              "    }\n",
              "\n",
              "    .dataframe tbody tr th {\n",
              "        vertical-align: top;\n",
              "    }\n",
              "\n",
              "    .dataframe thead th {\n",
              "        text-align: right;\n",
              "    }\n",
              "</style>\n",
              "<table border=\"1\" class=\"dataframe\">\n",
              "  <thead>\n",
              "    <tr style=\"text-align: right;\">\n",
              "      <th></th>\n",
              "      <th>open</th>\n",
              "      <th>high</th>\n",
              "      <th>low</th>\n",
              "      <th>close</th>\n",
              "      <th>volume</th>\n",
              "      <th>trade_count</th>\n",
              "      <th>vwap</th>\n",
              "    </tr>\n",
              "    <tr>\n",
              "      <th>timestamp</th>\n",
              "      <th></th>\n",
              "      <th></th>\n",
              "      <th></th>\n",
              "      <th></th>\n",
              "      <th></th>\n",
              "      <th></th>\n",
              "      <th></th>\n",
              "    </tr>\n",
              "  </thead>\n",
              "  <tbody>\n",
              "    <tr>\n",
              "      <th>2022-01-03 09:30:00+00:00</th>\n",
              "      <td>177.8700</td>\n",
              "      <td>177.8700</td>\n",
              "      <td>177.870</td>\n",
              "      <td>177.8700</td>\n",
              "      <td>467</td>\n",
              "      <td>17</td>\n",
              "      <td>177.871842</td>\n",
              "    </tr>\n",
              "    <tr>\n",
              "      <th>2022-01-03 09:31:00+00:00</th>\n",
              "      <td>177.8700</td>\n",
              "      <td>177.8700</td>\n",
              "      <td>177.800</td>\n",
              "      <td>177.8000</td>\n",
              "      <td>634</td>\n",
              "      <td>20</td>\n",
              "      <td>177.817618</td>\n",
              "    </tr>\n",
              "    <tr>\n",
              "      <th>2022-01-03 09:32:00+00:00</th>\n",
              "      <td>177.8000</td>\n",
              "      <td>177.8000</td>\n",
              "      <td>177.800</td>\n",
              "      <td>177.8000</td>\n",
              "      <td>1047</td>\n",
              "      <td>59</td>\n",
              "      <td>177.804413</td>\n",
              "    </tr>\n",
              "    <tr>\n",
              "      <th>2022-01-03 09:33:00+00:00</th>\n",
              "      <td>177.7600</td>\n",
              "      <td>177.7600</td>\n",
              "      <td>177.760</td>\n",
              "      <td>177.7600</td>\n",
              "      <td>633</td>\n",
              "      <td>50</td>\n",
              "      <td>177.768815</td>\n",
              "    </tr>\n",
              "    <tr>\n",
              "      <th>2022-01-03 09:34:00+00:00</th>\n",
              "      <td>177.7700</td>\n",
              "      <td>177.8500</td>\n",
              "      <td>177.770</td>\n",
              "      <td>177.8500</td>\n",
              "      <td>958</td>\n",
              "      <td>11</td>\n",
              "      <td>177.808173</td>\n",
              "    </tr>\n",
              "    <tr>\n",
              "      <th>...</th>\n",
              "      <td>...</td>\n",
              "      <td>...</td>\n",
              "      <td>...</td>\n",
              "      <td>...</td>\n",
              "      <td>...</td>\n",
              "      <td>...</td>\n",
              "      <td>...</td>\n",
              "    </tr>\n",
              "    <tr>\n",
              "      <th>2022-12-30 15:56:00+00:00</th>\n",
              "      <td>128.8192</td>\n",
              "      <td>128.8400</td>\n",
              "      <td>128.710</td>\n",
              "      <td>128.7508</td>\n",
              "      <td>135152</td>\n",
              "      <td>1248</td>\n",
              "      <td>128.790486</td>\n",
              "    </tr>\n",
              "    <tr>\n",
              "      <th>2022-12-30 15:57:00+00:00</th>\n",
              "      <td>128.7500</td>\n",
              "      <td>128.7600</td>\n",
              "      <td>128.626</td>\n",
              "      <td>128.6650</td>\n",
              "      <td>147990</td>\n",
              "      <td>1524</td>\n",
              "      <td>128.698747</td>\n",
              "    </tr>\n",
              "    <tr>\n",
              "      <th>2022-12-30 15:58:00+00:00</th>\n",
              "      <td>128.6675</td>\n",
              "      <td>128.7300</td>\n",
              "      <td>128.600</td>\n",
              "      <td>128.6850</td>\n",
              "      <td>137146</td>\n",
              "      <td>1194</td>\n",
              "      <td>128.685074</td>\n",
              "    </tr>\n",
              "    <tr>\n",
              "      <th>2022-12-30 15:59:00+00:00</th>\n",
              "      <td>128.6770</td>\n",
              "      <td>128.8395</td>\n",
              "      <td>128.675</td>\n",
              "      <td>128.8375</td>\n",
              "      <td>157410</td>\n",
              "      <td>1192</td>\n",
              "      <td>128.765191</td>\n",
              "    </tr>\n",
              "    <tr>\n",
              "      <th>2022-12-30 16:00:00+00:00</th>\n",
              "      <td>128.8330</td>\n",
              "      <td>128.8400</td>\n",
              "      <td>128.720</td>\n",
              "      <td>128.7200</td>\n",
              "      <td>166231</td>\n",
              "      <td>1536</td>\n",
              "      <td>128.789107</td>\n",
              "    </tr>\n",
              "  </tbody>\n",
              "</table>\n",
              "<p>83010 rows × 7 columns</p>\n",
              "</div>\n",
              "      <button class=\"colab-df-convert\" onclick=\"convertToInteractive('df-8c235ae6-dedd-4971-8e2e-21a7e4ab1ae0')\"\n",
              "              title=\"Convert this dataframe to an interactive table.\"\n",
              "              style=\"display:none;\">\n",
              "        \n",
              "  <svg xmlns=\"http://www.w3.org/2000/svg\" height=\"24px\"viewBox=\"0 0 24 24\"\n",
              "       width=\"24px\">\n",
              "    <path d=\"M0 0h24v24H0V0z\" fill=\"none\"/>\n",
              "    <path d=\"M18.56 5.44l.94 2.06.94-2.06 2.06-.94-2.06-.94-.94-2.06-.94 2.06-2.06.94zm-11 1L8.5 8.5l.94-2.06 2.06-.94-2.06-.94L8.5 2.5l-.94 2.06-2.06.94zm10 10l.94 2.06.94-2.06 2.06-.94-2.06-.94-.94-2.06-.94 2.06-2.06.94z\"/><path d=\"M17.41 7.96l-1.37-1.37c-.4-.4-.92-.59-1.43-.59-.52 0-1.04.2-1.43.59L10.3 9.45l-7.72 7.72c-.78.78-.78 2.05 0 2.83L4 21.41c.39.39.9.59 1.41.59.51 0 1.02-.2 1.41-.59l7.78-7.78 2.81-2.81c.8-.78.8-2.07 0-2.86zM5.41 20L4 18.59l7.72-7.72 1.47 1.35L5.41 20z\"/>\n",
              "  </svg>\n",
              "      </button>\n",
              "      \n",
              "  <style>\n",
              "    .colab-df-container {\n",
              "      display:flex;\n",
              "      flex-wrap:wrap;\n",
              "      gap: 12px;\n",
              "    }\n",
              "\n",
              "    .colab-df-convert {\n",
              "      background-color: #E8F0FE;\n",
              "      border: none;\n",
              "      border-radius: 50%;\n",
              "      cursor: pointer;\n",
              "      display: none;\n",
              "      fill: #1967D2;\n",
              "      height: 32px;\n",
              "      padding: 0 0 0 0;\n",
              "      width: 32px;\n",
              "    }\n",
              "\n",
              "    .colab-df-convert:hover {\n",
              "      background-color: #E2EBFA;\n",
              "      box-shadow: 0px 1px 2px rgba(60, 64, 67, 0.3), 0px 1px 3px 1px rgba(60, 64, 67, 0.15);\n",
              "      fill: #174EA6;\n",
              "    }\n",
              "\n",
              "    [theme=dark] .colab-df-convert {\n",
              "      background-color: #3B4455;\n",
              "      fill: #D2E3FC;\n",
              "    }\n",
              "\n",
              "    [theme=dark] .colab-df-convert:hover {\n",
              "      background-color: #434B5C;\n",
              "      box-shadow: 0px 1px 3px 1px rgba(0, 0, 0, 0.15);\n",
              "      filter: drop-shadow(0px 1px 2px rgba(0, 0, 0, 0.3));\n",
              "      fill: #FFFFFF;\n",
              "    }\n",
              "  </style>\n",
              "\n",
              "      <script>\n",
              "        const buttonEl =\n",
              "          document.querySelector('#df-8c235ae6-dedd-4971-8e2e-21a7e4ab1ae0 button.colab-df-convert');\n",
              "        buttonEl.style.display =\n",
              "          google.colab.kernel.accessAllowed ? 'block' : 'none';\n",
              "\n",
              "        async function convertToInteractive(key) {\n",
              "          const element = document.querySelector('#df-8c235ae6-dedd-4971-8e2e-21a7e4ab1ae0');\n",
              "          const dataTable =\n",
              "            await google.colab.kernel.invokeFunction('convertToInteractive',\n",
              "                                                     [key], {});\n",
              "          if (!dataTable) return;\n",
              "\n",
              "          const docLinkHtml = 'Like what you see? Visit the ' +\n",
              "            '<a target=\"_blank\" href=https://colab.research.google.com/notebooks/data_table.ipynb>data table notebook</a>'\n",
              "            + ' to learn more about interactive tables.';\n",
              "          element.innerHTML = '';\n",
              "          dataTable['output_type'] = 'display_data';\n",
              "          await google.colab.output.renderOutput(dataTable, element);\n",
              "          const docLink = document.createElement('div');\n",
              "          docLink.innerHTML = docLinkHtml;\n",
              "          element.appendChild(docLink);\n",
              "        }\n",
              "      </script>\n",
              "    </div>\n",
              "  </div>\n",
              "  "
            ]
          },
          "metadata": {},
          "execution_count": 176
        }
      ]
    },
    {
      "cell_type": "markdown",
      "source": [
        "# Data exploratory"
      ],
      "metadata": {
        "id": "6gCGshpI4icv"
      }
    },
    {
      "cell_type": "code",
      "source": [
        "# size of the data\n",
        "apple_bars.shape[0]"
      ],
      "metadata": {
        "id": "nQer9O-44m9F",
        "colab": {
          "base_uri": "https://localhost:8080/"
        },
        "outputId": "c6abdc29-de87-49f1-af4c-1e448416dd9b"
      },
      "execution_count": null,
      "outputs": [
        {
          "output_type": "execute_result",
          "data": {
            "text/plain": [
              "83010"
            ]
          },
          "metadata": {},
          "execution_count": 177
        }
      ]
    },
    {
      "cell_type": "code",
      "source": [
        "# Data type of each column\n",
        "apple_bars.dtypes"
      ],
      "metadata": {
        "colab": {
          "base_uri": "https://localhost:8080/"
        },
        "id": "216MMoev4mWs",
        "outputId": "e8d4f77d-8a53-47ad-f198-355759b1c62e"
      },
      "execution_count": null,
      "outputs": [
        {
          "output_type": "execute_result",
          "data": {
            "text/plain": [
              "open           float64\n",
              "high           float64\n",
              "low            float64\n",
              "close          float64\n",
              "volume           int64\n",
              "trade_count      int64\n",
              "vwap           float64\n",
              "dtype: object"
            ]
          },
          "metadata": {},
          "execution_count": 178
        }
      ]
    },
    {
      "cell_type": "markdown",
      "source": [
        "# Data Wrangling\n",
        "return variable = (close - open)/open to get percentage gains. => used this to as a condition to create target variable.\n",
        "\n",
        "We called Target variable \"Direction\" which is decided based on if Gains >= 0, then it is 'Positive', otherwise, it is 'Negative'.\n",
        "\n",
        "Wants data from 9:30am to 4:00pm. Starts at 9:31"
      ],
      "metadata": {
        "id": "D7r5-vbj44rz"
      }
    },
    {
      "cell_type": "code",
      "source": [
        "#  Create a new column that contains gains value of each call every minute\n",
        "apple_bars[\"Gains (%)\"]= (apple_bars[\"close\"]- apple_bars[\"open\"])/apple_bars[\"open\"]\n",
        "apple_bars"
      ],
      "metadata": {
        "colab": {
          "base_uri": "https://localhost:8080/",
          "height": 455
        },
        "id": "F-mMQulq46js",
        "outputId": "a2023563-137e-41f5-8bd8-350219e8bb3c"
      },
      "execution_count": null,
      "outputs": [
        {
          "output_type": "execute_result",
          "data": {
            "text/plain": [
              "                               open      high      low     close  volume  \\\n",
              "timestamp                                                                  \n",
              "2022-01-03 09:30:00+00:00  177.8700  177.8700  177.870  177.8700     467   \n",
              "2022-01-03 09:31:00+00:00  177.8700  177.8700  177.800  177.8000     634   \n",
              "2022-01-03 09:32:00+00:00  177.8000  177.8000  177.800  177.8000    1047   \n",
              "2022-01-03 09:33:00+00:00  177.7600  177.7600  177.760  177.7600     633   \n",
              "2022-01-03 09:34:00+00:00  177.7700  177.8500  177.770  177.8500     958   \n",
              "...                             ...       ...      ...       ...     ...   \n",
              "2022-12-30 15:56:00+00:00  128.8192  128.8400  128.710  128.7508  135152   \n",
              "2022-12-30 15:57:00+00:00  128.7500  128.7600  128.626  128.6650  147990   \n",
              "2022-12-30 15:58:00+00:00  128.6675  128.7300  128.600  128.6850  137146   \n",
              "2022-12-30 15:59:00+00:00  128.6770  128.8395  128.675  128.8375  157410   \n",
              "2022-12-30 16:00:00+00:00  128.8330  128.8400  128.720  128.7200  166231   \n",
              "\n",
              "                           trade_count        vwap  Gains (%)  \n",
              "timestamp                                                      \n",
              "2022-01-03 09:30:00+00:00           17  177.871842   0.000000  \n",
              "2022-01-03 09:31:00+00:00           20  177.817618  -0.000394  \n",
              "2022-01-03 09:32:00+00:00           59  177.804413   0.000000  \n",
              "2022-01-03 09:33:00+00:00           50  177.768815   0.000000  \n",
              "2022-01-03 09:34:00+00:00           11  177.808173   0.000450  \n",
              "...                                ...         ...        ...  \n",
              "2022-12-30 15:56:00+00:00         1248  128.790486  -0.000531  \n",
              "2022-12-30 15:57:00+00:00         1524  128.698747  -0.000660  \n",
              "2022-12-30 15:58:00+00:00         1194  128.685074   0.000136  \n",
              "2022-12-30 15:59:00+00:00         1192  128.765191   0.001247  \n",
              "2022-12-30 16:00:00+00:00         1536  128.789107  -0.000877  \n",
              "\n",
              "[83010 rows x 8 columns]"
            ],
            "text/html": [
              "\n",
              "  <div id=\"df-5896885c-a81d-47eb-a1a2-9dfd70f10f0d\">\n",
              "    <div class=\"colab-df-container\">\n",
              "      <div>\n",
              "<style scoped>\n",
              "    .dataframe tbody tr th:only-of-type {\n",
              "        vertical-align: middle;\n",
              "    }\n",
              "\n",
              "    .dataframe tbody tr th {\n",
              "        vertical-align: top;\n",
              "    }\n",
              "\n",
              "    .dataframe thead th {\n",
              "        text-align: right;\n",
              "    }\n",
              "</style>\n",
              "<table border=\"1\" class=\"dataframe\">\n",
              "  <thead>\n",
              "    <tr style=\"text-align: right;\">\n",
              "      <th></th>\n",
              "      <th>open</th>\n",
              "      <th>high</th>\n",
              "      <th>low</th>\n",
              "      <th>close</th>\n",
              "      <th>volume</th>\n",
              "      <th>trade_count</th>\n",
              "      <th>vwap</th>\n",
              "      <th>Gains (%)</th>\n",
              "    </tr>\n",
              "    <tr>\n",
              "      <th>timestamp</th>\n",
              "      <th></th>\n",
              "      <th></th>\n",
              "      <th></th>\n",
              "      <th></th>\n",
              "      <th></th>\n",
              "      <th></th>\n",
              "      <th></th>\n",
              "      <th></th>\n",
              "    </tr>\n",
              "  </thead>\n",
              "  <tbody>\n",
              "    <tr>\n",
              "      <th>2022-01-03 09:30:00+00:00</th>\n",
              "      <td>177.8700</td>\n",
              "      <td>177.8700</td>\n",
              "      <td>177.870</td>\n",
              "      <td>177.8700</td>\n",
              "      <td>467</td>\n",
              "      <td>17</td>\n",
              "      <td>177.871842</td>\n",
              "      <td>0.000000</td>\n",
              "    </tr>\n",
              "    <tr>\n",
              "      <th>2022-01-03 09:31:00+00:00</th>\n",
              "      <td>177.8700</td>\n",
              "      <td>177.8700</td>\n",
              "      <td>177.800</td>\n",
              "      <td>177.8000</td>\n",
              "      <td>634</td>\n",
              "      <td>20</td>\n",
              "      <td>177.817618</td>\n",
              "      <td>-0.000394</td>\n",
              "    </tr>\n",
              "    <tr>\n",
              "      <th>2022-01-03 09:32:00+00:00</th>\n",
              "      <td>177.8000</td>\n",
              "      <td>177.8000</td>\n",
              "      <td>177.800</td>\n",
              "      <td>177.8000</td>\n",
              "      <td>1047</td>\n",
              "      <td>59</td>\n",
              "      <td>177.804413</td>\n",
              "      <td>0.000000</td>\n",
              "    </tr>\n",
              "    <tr>\n",
              "      <th>2022-01-03 09:33:00+00:00</th>\n",
              "      <td>177.7600</td>\n",
              "      <td>177.7600</td>\n",
              "      <td>177.760</td>\n",
              "      <td>177.7600</td>\n",
              "      <td>633</td>\n",
              "      <td>50</td>\n",
              "      <td>177.768815</td>\n",
              "      <td>0.000000</td>\n",
              "    </tr>\n",
              "    <tr>\n",
              "      <th>2022-01-03 09:34:00+00:00</th>\n",
              "      <td>177.7700</td>\n",
              "      <td>177.8500</td>\n",
              "      <td>177.770</td>\n",
              "      <td>177.8500</td>\n",
              "      <td>958</td>\n",
              "      <td>11</td>\n",
              "      <td>177.808173</td>\n",
              "      <td>0.000450</td>\n",
              "    </tr>\n",
              "    <tr>\n",
              "      <th>...</th>\n",
              "      <td>...</td>\n",
              "      <td>...</td>\n",
              "      <td>...</td>\n",
              "      <td>...</td>\n",
              "      <td>...</td>\n",
              "      <td>...</td>\n",
              "      <td>...</td>\n",
              "      <td>...</td>\n",
              "    </tr>\n",
              "    <tr>\n",
              "      <th>2022-12-30 15:56:00+00:00</th>\n",
              "      <td>128.8192</td>\n",
              "      <td>128.8400</td>\n",
              "      <td>128.710</td>\n",
              "      <td>128.7508</td>\n",
              "      <td>135152</td>\n",
              "      <td>1248</td>\n",
              "      <td>128.790486</td>\n",
              "      <td>-0.000531</td>\n",
              "    </tr>\n",
              "    <tr>\n",
              "      <th>2022-12-30 15:57:00+00:00</th>\n",
              "      <td>128.7500</td>\n",
              "      <td>128.7600</td>\n",
              "      <td>128.626</td>\n",
              "      <td>128.6650</td>\n",
              "      <td>147990</td>\n",
              "      <td>1524</td>\n",
              "      <td>128.698747</td>\n",
              "      <td>-0.000660</td>\n",
              "    </tr>\n",
              "    <tr>\n",
              "      <th>2022-12-30 15:58:00+00:00</th>\n",
              "      <td>128.6675</td>\n",
              "      <td>128.7300</td>\n",
              "      <td>128.600</td>\n",
              "      <td>128.6850</td>\n",
              "      <td>137146</td>\n",
              "      <td>1194</td>\n",
              "      <td>128.685074</td>\n",
              "      <td>0.000136</td>\n",
              "    </tr>\n",
              "    <tr>\n",
              "      <th>2022-12-30 15:59:00+00:00</th>\n",
              "      <td>128.6770</td>\n",
              "      <td>128.8395</td>\n",
              "      <td>128.675</td>\n",
              "      <td>128.8375</td>\n",
              "      <td>157410</td>\n",
              "      <td>1192</td>\n",
              "      <td>128.765191</td>\n",
              "      <td>0.001247</td>\n",
              "    </tr>\n",
              "    <tr>\n",
              "      <th>2022-12-30 16:00:00+00:00</th>\n",
              "      <td>128.8330</td>\n",
              "      <td>128.8400</td>\n",
              "      <td>128.720</td>\n",
              "      <td>128.7200</td>\n",
              "      <td>166231</td>\n",
              "      <td>1536</td>\n",
              "      <td>128.789107</td>\n",
              "      <td>-0.000877</td>\n",
              "    </tr>\n",
              "  </tbody>\n",
              "</table>\n",
              "<p>83010 rows × 8 columns</p>\n",
              "</div>\n",
              "      <button class=\"colab-df-convert\" onclick=\"convertToInteractive('df-5896885c-a81d-47eb-a1a2-9dfd70f10f0d')\"\n",
              "              title=\"Convert this dataframe to an interactive table.\"\n",
              "              style=\"display:none;\">\n",
              "        \n",
              "  <svg xmlns=\"http://www.w3.org/2000/svg\" height=\"24px\"viewBox=\"0 0 24 24\"\n",
              "       width=\"24px\">\n",
              "    <path d=\"M0 0h24v24H0V0z\" fill=\"none\"/>\n",
              "    <path d=\"M18.56 5.44l.94 2.06.94-2.06 2.06-.94-2.06-.94-.94-2.06-.94 2.06-2.06.94zm-11 1L8.5 8.5l.94-2.06 2.06-.94-2.06-.94L8.5 2.5l-.94 2.06-2.06.94zm10 10l.94 2.06.94-2.06 2.06-.94-2.06-.94-.94-2.06-.94 2.06-2.06.94z\"/><path d=\"M17.41 7.96l-1.37-1.37c-.4-.4-.92-.59-1.43-.59-.52 0-1.04.2-1.43.59L10.3 9.45l-7.72 7.72c-.78.78-.78 2.05 0 2.83L4 21.41c.39.39.9.59 1.41.59.51 0 1.02-.2 1.41-.59l7.78-7.78 2.81-2.81c.8-.78.8-2.07 0-2.86zM5.41 20L4 18.59l7.72-7.72 1.47 1.35L5.41 20z\"/>\n",
              "  </svg>\n",
              "      </button>\n",
              "      \n",
              "  <style>\n",
              "    .colab-df-container {\n",
              "      display:flex;\n",
              "      flex-wrap:wrap;\n",
              "      gap: 12px;\n",
              "    }\n",
              "\n",
              "    .colab-df-convert {\n",
              "      background-color: #E8F0FE;\n",
              "      border: none;\n",
              "      border-radius: 50%;\n",
              "      cursor: pointer;\n",
              "      display: none;\n",
              "      fill: #1967D2;\n",
              "      height: 32px;\n",
              "      padding: 0 0 0 0;\n",
              "      width: 32px;\n",
              "    }\n",
              "\n",
              "    .colab-df-convert:hover {\n",
              "      background-color: #E2EBFA;\n",
              "      box-shadow: 0px 1px 2px rgba(60, 64, 67, 0.3), 0px 1px 3px 1px rgba(60, 64, 67, 0.15);\n",
              "      fill: #174EA6;\n",
              "    }\n",
              "\n",
              "    [theme=dark] .colab-df-convert {\n",
              "      background-color: #3B4455;\n",
              "      fill: #D2E3FC;\n",
              "    }\n",
              "\n",
              "    [theme=dark] .colab-df-convert:hover {\n",
              "      background-color: #434B5C;\n",
              "      box-shadow: 0px 1px 3px 1px rgba(0, 0, 0, 0.15);\n",
              "      filter: drop-shadow(0px 1px 2px rgba(0, 0, 0, 0.3));\n",
              "      fill: #FFFFFF;\n",
              "    }\n",
              "  </style>\n",
              "\n",
              "      <script>\n",
              "        const buttonEl =\n",
              "          document.querySelector('#df-5896885c-a81d-47eb-a1a2-9dfd70f10f0d button.colab-df-convert');\n",
              "        buttonEl.style.display =\n",
              "          google.colab.kernel.accessAllowed ? 'block' : 'none';\n",
              "\n",
              "        async function convertToInteractive(key) {\n",
              "          const element = document.querySelector('#df-5896885c-a81d-47eb-a1a2-9dfd70f10f0d');\n",
              "          const dataTable =\n",
              "            await google.colab.kernel.invokeFunction('convertToInteractive',\n",
              "                                                     [key], {});\n",
              "          if (!dataTable) return;\n",
              "\n",
              "          const docLinkHtml = 'Like what you see? Visit the ' +\n",
              "            '<a target=\"_blank\" href=https://colab.research.google.com/notebooks/data_table.ipynb>data table notebook</a>'\n",
              "            + ' to learn more about interactive tables.';\n",
              "          element.innerHTML = '';\n",
              "          dataTable['output_type'] = 'display_data';\n",
              "          await google.colab.output.renderOutput(dataTable, element);\n",
              "          const docLink = document.createElement('div');\n",
              "          docLink.innerHTML = docLinkHtml;\n",
              "          element.appendChild(docLink);\n",
              "        }\n",
              "      </script>\n",
              "    </div>\n",
              "  </div>\n",
              "  "
            ]
          },
          "metadata": {},
          "execution_count": 179
        }
      ]
    },
    {
      "cell_type": "code",
      "source": [
        "# 0 number of missing values in the dataset\n",
        "apple_bars.isna().sum()"
      ],
      "metadata": {
        "colab": {
          "base_uri": "https://localhost:8080/"
        },
        "id": "vD9zYOZ7Akzo",
        "outputId": "d82491a3-0dbb-411c-fd04-8f449f90b2e2"
      },
      "execution_count": null,
      "outputs": [
        {
          "output_type": "execute_result",
          "data": {
            "text/plain": [
              "open           0\n",
              "high           0\n",
              "low            0\n",
              "close          0\n",
              "volume         0\n",
              "trade_count    0\n",
              "vwap           0\n",
              "Gains (%)      0\n",
              "dtype: int64"
            ]
          },
          "metadata": {},
          "execution_count": 180
        }
      ]
    },
    {
      "cell_type": "code",
      "source": [
        "# Create a new 'Direction' column based on Gains \n",
        "apple_bars[\"Direction\"] = np.where(apple_bars[\"Gains (%)\"] >= 0, \"Positive\", \"Negative\")\n",
        "apple_bars"
      ],
      "metadata": {
        "colab": {
          "base_uri": "https://localhost:8080/",
          "height": 455
        },
        "id": "-9JYOsKr5_u8",
        "outputId": "babebf6f-bdbc-431c-a962-86ef6df7e24a"
      },
      "execution_count": null,
      "outputs": [
        {
          "output_type": "execute_result",
          "data": {
            "text/plain": [
              "                               open      high      low     close  volume  \\\n",
              "timestamp                                                                  \n",
              "2022-01-03 09:30:00+00:00  177.8700  177.8700  177.870  177.8700     467   \n",
              "2022-01-03 09:31:00+00:00  177.8700  177.8700  177.800  177.8000     634   \n",
              "2022-01-03 09:32:00+00:00  177.8000  177.8000  177.800  177.8000    1047   \n",
              "2022-01-03 09:33:00+00:00  177.7600  177.7600  177.760  177.7600     633   \n",
              "2022-01-03 09:34:00+00:00  177.7700  177.8500  177.770  177.8500     958   \n",
              "...                             ...       ...      ...       ...     ...   \n",
              "2022-12-30 15:56:00+00:00  128.8192  128.8400  128.710  128.7508  135152   \n",
              "2022-12-30 15:57:00+00:00  128.7500  128.7600  128.626  128.6650  147990   \n",
              "2022-12-30 15:58:00+00:00  128.6675  128.7300  128.600  128.6850  137146   \n",
              "2022-12-30 15:59:00+00:00  128.6770  128.8395  128.675  128.8375  157410   \n",
              "2022-12-30 16:00:00+00:00  128.8330  128.8400  128.720  128.7200  166231   \n",
              "\n",
              "                           trade_count        vwap  Gains (%) Direction  \n",
              "timestamp                                                                \n",
              "2022-01-03 09:30:00+00:00           17  177.871842   0.000000  Positive  \n",
              "2022-01-03 09:31:00+00:00           20  177.817618  -0.000394  Negative  \n",
              "2022-01-03 09:32:00+00:00           59  177.804413   0.000000  Positive  \n",
              "2022-01-03 09:33:00+00:00           50  177.768815   0.000000  Positive  \n",
              "2022-01-03 09:34:00+00:00           11  177.808173   0.000450  Positive  \n",
              "...                                ...         ...        ...       ...  \n",
              "2022-12-30 15:56:00+00:00         1248  128.790486  -0.000531  Negative  \n",
              "2022-12-30 15:57:00+00:00         1524  128.698747  -0.000660  Negative  \n",
              "2022-12-30 15:58:00+00:00         1194  128.685074   0.000136  Positive  \n",
              "2022-12-30 15:59:00+00:00         1192  128.765191   0.001247  Positive  \n",
              "2022-12-30 16:00:00+00:00         1536  128.789107  -0.000877  Negative  \n",
              "\n",
              "[83010 rows x 9 columns]"
            ],
            "text/html": [
              "\n",
              "  <div id=\"df-92ac7499-4eea-4801-bb92-3d859b8a0821\">\n",
              "    <div class=\"colab-df-container\">\n",
              "      <div>\n",
              "<style scoped>\n",
              "    .dataframe tbody tr th:only-of-type {\n",
              "        vertical-align: middle;\n",
              "    }\n",
              "\n",
              "    .dataframe tbody tr th {\n",
              "        vertical-align: top;\n",
              "    }\n",
              "\n",
              "    .dataframe thead th {\n",
              "        text-align: right;\n",
              "    }\n",
              "</style>\n",
              "<table border=\"1\" class=\"dataframe\">\n",
              "  <thead>\n",
              "    <tr style=\"text-align: right;\">\n",
              "      <th></th>\n",
              "      <th>open</th>\n",
              "      <th>high</th>\n",
              "      <th>low</th>\n",
              "      <th>close</th>\n",
              "      <th>volume</th>\n",
              "      <th>trade_count</th>\n",
              "      <th>vwap</th>\n",
              "      <th>Gains (%)</th>\n",
              "      <th>Direction</th>\n",
              "    </tr>\n",
              "    <tr>\n",
              "      <th>timestamp</th>\n",
              "      <th></th>\n",
              "      <th></th>\n",
              "      <th></th>\n",
              "      <th></th>\n",
              "      <th></th>\n",
              "      <th></th>\n",
              "      <th></th>\n",
              "      <th></th>\n",
              "      <th></th>\n",
              "    </tr>\n",
              "  </thead>\n",
              "  <tbody>\n",
              "    <tr>\n",
              "      <th>2022-01-03 09:30:00+00:00</th>\n",
              "      <td>177.8700</td>\n",
              "      <td>177.8700</td>\n",
              "      <td>177.870</td>\n",
              "      <td>177.8700</td>\n",
              "      <td>467</td>\n",
              "      <td>17</td>\n",
              "      <td>177.871842</td>\n",
              "      <td>0.000000</td>\n",
              "      <td>Positive</td>\n",
              "    </tr>\n",
              "    <tr>\n",
              "      <th>2022-01-03 09:31:00+00:00</th>\n",
              "      <td>177.8700</td>\n",
              "      <td>177.8700</td>\n",
              "      <td>177.800</td>\n",
              "      <td>177.8000</td>\n",
              "      <td>634</td>\n",
              "      <td>20</td>\n",
              "      <td>177.817618</td>\n",
              "      <td>-0.000394</td>\n",
              "      <td>Negative</td>\n",
              "    </tr>\n",
              "    <tr>\n",
              "      <th>2022-01-03 09:32:00+00:00</th>\n",
              "      <td>177.8000</td>\n",
              "      <td>177.8000</td>\n",
              "      <td>177.800</td>\n",
              "      <td>177.8000</td>\n",
              "      <td>1047</td>\n",
              "      <td>59</td>\n",
              "      <td>177.804413</td>\n",
              "      <td>0.000000</td>\n",
              "      <td>Positive</td>\n",
              "    </tr>\n",
              "    <tr>\n",
              "      <th>2022-01-03 09:33:00+00:00</th>\n",
              "      <td>177.7600</td>\n",
              "      <td>177.7600</td>\n",
              "      <td>177.760</td>\n",
              "      <td>177.7600</td>\n",
              "      <td>633</td>\n",
              "      <td>50</td>\n",
              "      <td>177.768815</td>\n",
              "      <td>0.000000</td>\n",
              "      <td>Positive</td>\n",
              "    </tr>\n",
              "    <tr>\n",
              "      <th>2022-01-03 09:34:00+00:00</th>\n",
              "      <td>177.7700</td>\n",
              "      <td>177.8500</td>\n",
              "      <td>177.770</td>\n",
              "      <td>177.8500</td>\n",
              "      <td>958</td>\n",
              "      <td>11</td>\n",
              "      <td>177.808173</td>\n",
              "      <td>0.000450</td>\n",
              "      <td>Positive</td>\n",
              "    </tr>\n",
              "    <tr>\n",
              "      <th>...</th>\n",
              "      <td>...</td>\n",
              "      <td>...</td>\n",
              "      <td>...</td>\n",
              "      <td>...</td>\n",
              "      <td>...</td>\n",
              "      <td>...</td>\n",
              "      <td>...</td>\n",
              "      <td>...</td>\n",
              "      <td>...</td>\n",
              "    </tr>\n",
              "    <tr>\n",
              "      <th>2022-12-30 15:56:00+00:00</th>\n",
              "      <td>128.8192</td>\n",
              "      <td>128.8400</td>\n",
              "      <td>128.710</td>\n",
              "      <td>128.7508</td>\n",
              "      <td>135152</td>\n",
              "      <td>1248</td>\n",
              "      <td>128.790486</td>\n",
              "      <td>-0.000531</td>\n",
              "      <td>Negative</td>\n",
              "    </tr>\n",
              "    <tr>\n",
              "      <th>2022-12-30 15:57:00+00:00</th>\n",
              "      <td>128.7500</td>\n",
              "      <td>128.7600</td>\n",
              "      <td>128.626</td>\n",
              "      <td>128.6650</td>\n",
              "      <td>147990</td>\n",
              "      <td>1524</td>\n",
              "      <td>128.698747</td>\n",
              "      <td>-0.000660</td>\n",
              "      <td>Negative</td>\n",
              "    </tr>\n",
              "    <tr>\n",
              "      <th>2022-12-30 15:58:00+00:00</th>\n",
              "      <td>128.6675</td>\n",
              "      <td>128.7300</td>\n",
              "      <td>128.600</td>\n",
              "      <td>128.6850</td>\n",
              "      <td>137146</td>\n",
              "      <td>1194</td>\n",
              "      <td>128.685074</td>\n",
              "      <td>0.000136</td>\n",
              "      <td>Positive</td>\n",
              "    </tr>\n",
              "    <tr>\n",
              "      <th>2022-12-30 15:59:00+00:00</th>\n",
              "      <td>128.6770</td>\n",
              "      <td>128.8395</td>\n",
              "      <td>128.675</td>\n",
              "      <td>128.8375</td>\n",
              "      <td>157410</td>\n",
              "      <td>1192</td>\n",
              "      <td>128.765191</td>\n",
              "      <td>0.001247</td>\n",
              "      <td>Positive</td>\n",
              "    </tr>\n",
              "    <tr>\n",
              "      <th>2022-12-30 16:00:00+00:00</th>\n",
              "      <td>128.8330</td>\n",
              "      <td>128.8400</td>\n",
              "      <td>128.720</td>\n",
              "      <td>128.7200</td>\n",
              "      <td>166231</td>\n",
              "      <td>1536</td>\n",
              "      <td>128.789107</td>\n",
              "      <td>-0.000877</td>\n",
              "      <td>Negative</td>\n",
              "    </tr>\n",
              "  </tbody>\n",
              "</table>\n",
              "<p>83010 rows × 9 columns</p>\n",
              "</div>\n",
              "      <button class=\"colab-df-convert\" onclick=\"convertToInteractive('df-92ac7499-4eea-4801-bb92-3d859b8a0821')\"\n",
              "              title=\"Convert this dataframe to an interactive table.\"\n",
              "              style=\"display:none;\">\n",
              "        \n",
              "  <svg xmlns=\"http://www.w3.org/2000/svg\" height=\"24px\"viewBox=\"0 0 24 24\"\n",
              "       width=\"24px\">\n",
              "    <path d=\"M0 0h24v24H0V0z\" fill=\"none\"/>\n",
              "    <path d=\"M18.56 5.44l.94 2.06.94-2.06 2.06-.94-2.06-.94-.94-2.06-.94 2.06-2.06.94zm-11 1L8.5 8.5l.94-2.06 2.06-.94-2.06-.94L8.5 2.5l-.94 2.06-2.06.94zm10 10l.94 2.06.94-2.06 2.06-.94-2.06-.94-.94-2.06-.94 2.06-2.06.94z\"/><path d=\"M17.41 7.96l-1.37-1.37c-.4-.4-.92-.59-1.43-.59-.52 0-1.04.2-1.43.59L10.3 9.45l-7.72 7.72c-.78.78-.78 2.05 0 2.83L4 21.41c.39.39.9.59 1.41.59.51 0 1.02-.2 1.41-.59l7.78-7.78 2.81-2.81c.8-.78.8-2.07 0-2.86zM5.41 20L4 18.59l7.72-7.72 1.47 1.35L5.41 20z\"/>\n",
              "  </svg>\n",
              "      </button>\n",
              "      \n",
              "  <style>\n",
              "    .colab-df-container {\n",
              "      display:flex;\n",
              "      flex-wrap:wrap;\n",
              "      gap: 12px;\n",
              "    }\n",
              "\n",
              "    .colab-df-convert {\n",
              "      background-color: #E8F0FE;\n",
              "      border: none;\n",
              "      border-radius: 50%;\n",
              "      cursor: pointer;\n",
              "      display: none;\n",
              "      fill: #1967D2;\n",
              "      height: 32px;\n",
              "      padding: 0 0 0 0;\n",
              "      width: 32px;\n",
              "    }\n",
              "\n",
              "    .colab-df-convert:hover {\n",
              "      background-color: #E2EBFA;\n",
              "      box-shadow: 0px 1px 2px rgba(60, 64, 67, 0.3), 0px 1px 3px 1px rgba(60, 64, 67, 0.15);\n",
              "      fill: #174EA6;\n",
              "    }\n",
              "\n",
              "    [theme=dark] .colab-df-convert {\n",
              "      background-color: #3B4455;\n",
              "      fill: #D2E3FC;\n",
              "    }\n",
              "\n",
              "    [theme=dark] .colab-df-convert:hover {\n",
              "      background-color: #434B5C;\n",
              "      box-shadow: 0px 1px 3px 1px rgba(0, 0, 0, 0.15);\n",
              "      filter: drop-shadow(0px 1px 2px rgba(0, 0, 0, 0.3));\n",
              "      fill: #FFFFFF;\n",
              "    }\n",
              "  </style>\n",
              "\n",
              "      <script>\n",
              "        const buttonEl =\n",
              "          document.querySelector('#df-92ac7499-4eea-4801-bb92-3d859b8a0821 button.colab-df-convert');\n",
              "        buttonEl.style.display =\n",
              "          google.colab.kernel.accessAllowed ? 'block' : 'none';\n",
              "\n",
              "        async function convertToInteractive(key) {\n",
              "          const element = document.querySelector('#df-92ac7499-4eea-4801-bb92-3d859b8a0821');\n",
              "          const dataTable =\n",
              "            await google.colab.kernel.invokeFunction('convertToInteractive',\n",
              "                                                     [key], {});\n",
              "          if (!dataTable) return;\n",
              "\n",
              "          const docLinkHtml = 'Like what you see? Visit the ' +\n",
              "            '<a target=\"_blank\" href=https://colab.research.google.com/notebooks/data_table.ipynb>data table notebook</a>'\n",
              "            + ' to learn more about interactive tables.';\n",
              "          element.innerHTML = '';\n",
              "          dataTable['output_type'] = 'display_data';\n",
              "          await google.colab.output.renderOutput(dataTable, element);\n",
              "          const docLink = document.createElement('div');\n",
              "          docLink.innerHTML = docLinkHtml;\n",
              "          element.appendChild(docLink);\n",
              "        }\n",
              "      </script>\n",
              "    </div>\n",
              "  </div>\n",
              "  "
            ]
          },
          "metadata": {},
          "execution_count": 181
        }
      ]
    },
    {
      "cell_type": "code",
      "source": [
        "# Visualize the Gains history\n",
        "plt.figure(figsize = (16,8))\n",
        "plt.title(\"Stock gains history\")\n",
        "plt.plot(apple_bars[\"Gains (%)\"])\n",
        "plt.xlabel(\"Date\")\n",
        "plt.ylabel(\"Gains (%)\")\n",
        "plt.show()"
      ],
      "metadata": {
        "colab": {
          "base_uri": "https://localhost:8080/",
          "height": 637
        },
        "id": "6qqZEdbX7rb3",
        "outputId": "ad4dc449-f946-435b-e026-4278c1c2ee10"
      },
      "execution_count": null,
      "outputs": [
        {
          "output_type": "display_data",
          "data": {
            "text/plain": [
              "<Figure size 1600x800 with 1 Axes>"
            ],
            "image/png": "[encoded data removed]"
          },
          "metadata": {}
        }
      ]
    },
    {
      "cell_type": "markdown",
      "source": [
        "# It is always a good thing to preprocess the input data before introduce it to a ML model\n",
        "\n",
        "Neural net dont' really work with anything else beside integer."
      ],
      "metadata": {
        "id": "npQsTY9VItbn"
      }
    },
    {
      "cell_type": "code",
      "source": [
        "# Get the number of rows to train the model on\n",
        "train_size = math.ceil(len(apple_bars)* .8) # round up with math.ceil. 80-20 split\n",
        "test_size = len(apple_bars) - train_size\n",
        "train, test = apple_bars.iloc[0: train_size], apple_bars.iloc[train_size:]\n",
        "\n",
        "print(train.shape, test.shape) # shape adds up to 83,010"
      ],
      "metadata": {
        "colab": {
          "base_uri": "https://localhost:8080/"
        },
        "id": "gbSwhXX8-JwA",
        "outputId": "5d54e5a7-1ff5-4348-ff9f-96eb4e400831"
      },
      "execution_count": null,
      "outputs": [
        {
          "output_type": "stream",
          "name": "stdout",
          "text": [
            "(66408, 9) (16602, 9)\n"
          ]
        }
      ]
    },
    {
      "cell_type": "code",
      "source": [
        "# Scaling the data to make all columns on the same scale\n",
        "from sklearn.preprocessing import RobustScaler\n",
        "from sklearn.preprocessing import LabelEncoder\n",
        "\n",
        "x_columns = [\"open\", \"high\", \"low\", 'close', \"volume\", 'vwap', 'trade_count', \"Gains (%)\"]\n",
        "\n",
        "x_transformer = RobustScaler()\n",
        "y_encoder = LabelEncoder() # encode as integers of 1 or 0\n",
        "\n",
        "x_train_transformer = x_transformer.fit(train[x_columns].to_numpy())\n",
        "#y_train_transformer = y_transformer.fit(train[['Direction']])\n",
        "y_encoder.fit(train[\"Direction\"])\n",
        "\n",
        "\n",
        "train.loc[:, x_columns] = x_train_transformer.transform(train[x_columns].to_numpy())\n",
        "train[\"Direction\"] = y_encoder.transform(train[[\"Direction\"]])\n",
        "\n",
        "\n",
        "test.loc[:, x_columns] = x_train_transformer.transform(test[x_columns].to_numpy())\n",
        "test[\"Direction\"] = y_encoder.transform(test[[\"Direction\"]])"
      ],
      "metadata": {
        "colab": {
          "base_uri": "https://localhost:8080/"
        },
        "id": "cEcrgjEWrN2T",
        "outputId": "322968f0-20f0-434c-c2ef-5ae8cc90e73b"
      },
      "execution_count": null,
      "outputs": [
        {
          "output_type": "stream",
          "name": "stderr",
          "text": [
            "<ipython-input-184-197b1aeeace6>:15: SettingWithCopyWarning: \n",
            "A value is trying to be set on a copy of a slice from a DataFrame.\n",
            "Try using .loc[row_indexer,col_indexer] = value instead\n",
            "\n",
            "See the caveats in the documentation: https://pandas.pydata.org/pandas-docs/stable/user_guide/indexing.html#returning-a-view-versus-a-copy\n",
            "  train.loc[:, x_columns] = x_train_transformer.transform(train[x_columns].to_numpy())\n",
            "/usr/local/lib/python3.10/dist-packages/sklearn/preprocessing/_label.py:134: DataConversionWarning: A column-vector y was passed when a 1d array was expected. Please change the shape of y to (n_samples, ), for example using ravel().\n",
            "  y = column_or_1d(y, dtype=self.classes_.dtype, warn=True)\n",
            "<ipython-input-184-197b1aeeace6>:16: SettingWithCopyWarning: \n",
            "A value is trying to be set on a copy of a slice from a DataFrame.\n",
            "Try using .loc[row_indexer,col_indexer] = value instead\n",
            "\n",
            "See the caveats in the documentation: https://pandas.pydata.org/pandas-docs/stable/user_guide/indexing.html#returning-a-view-versus-a-copy\n",
            "  train[\"Direction\"] = y_encoder.transform(train[[\"Direction\"]])\n",
            "<ipython-input-184-197b1aeeace6>:19: SettingWithCopyWarning: \n",
            "A value is trying to be set on a copy of a slice from a DataFrame.\n",
            "Try using .loc[row_indexer,col_indexer] = value instead\n",
            "\n",
            "See the caveats in the documentation: https://pandas.pydata.org/pandas-docs/stable/user_guide/indexing.html#returning-a-view-versus-a-copy\n",
            "  test.loc[:, x_columns] = x_train_transformer.transform(test[x_columns].to_numpy())\n",
            "/usr/local/lib/python3.10/dist-packages/sklearn/preprocessing/_label.py:134: DataConversionWarning: A column-vector y was passed when a 1d array was expected. Please change the shape of y to (n_samples, ), for example using ravel().\n",
            "  y = column_or_1d(y, dtype=self.classes_.dtype, warn=True)\n",
            "<ipython-input-184-197b1aeeace6>:20: SettingWithCopyWarning: \n",
            "A value is trying to be set on a copy of a slice from a DataFrame.\n",
            "Try using .loc[row_indexer,col_indexer] = value instead\n",
            "\n",
            "See the caveats in the documentation: https://pandas.pydata.org/pandas-docs/stable/user_guide/indexing.html#returning-a-view-versus-a-copy\n",
            "  test[\"Direction\"] = y_encoder.transform(test[[\"Direction\"]])\n"
          ]
        }
      ]
    },
    {
      "cell_type": "code",
      "source": [
        "train['Direction']"
      ],
      "metadata": {
        "colab": {
          "base_uri": "https://localhost:8080/"
        },
        "id": "3Nr33xUsOEZr",
        "outputId": "fdc381cc-8535-42be-a059-8fbd0f3f58a2"
      },
      "execution_count": null,
      "outputs": [
        {
          "output_type": "execute_result",
          "data": {
            "text/plain": [
              "timestamp\n",
              "2022-01-03 09:30:00+00:00    1\n",
              "2022-01-03 09:31:00+00:00    0\n",
              "2022-01-03 09:32:00+00:00    1\n",
              "2022-01-03 09:33:00+00:00    1\n",
              "2022-01-03 09:34:00+00:00    1\n",
              "                            ..\n",
              "2022-10-14 16:00:00+00:00    0\n",
              "2022-10-17 09:30:00+00:00    0\n",
              "2022-10-17 09:31:00+00:00    1\n",
              "2022-10-17 09:32:00+00:00    0\n",
              "2022-10-17 09:34:00+00:00    1\n",
              "Name: Direction, Length: 66408, dtype: int64"
            ]
          },
          "metadata": {},
          "execution_count": 243
        }
      ]
    },
    {
      "cell_type": "markdown",
      "source": [
        "# Create subsequences of time series for third dimension"
      ],
      "metadata": {
        "id": "FWAYebO4vXC6"
      }
    },
    {
      "cell_type": "code",
      "source": [
        "def create_dataset(X, y, time_steps = 1):\n",
        "  Xs, ys = [], []\n",
        "  for i in range(len(X)- time_steps): # correct number of iteration because we will not be using the last however many time steps we specified. Shift down.\n",
        "    v = X.iloc[i:(i+time_steps)].to_numpy()\n",
        "    Xs.append(v)\n",
        "    ys.append(y.iloc[i + time_steps])\n",
        "  return np.array(Xs), np.array(ys)\n"
      ],
      "metadata": {
        "id": "NysrCZYYvdJT"
      },
      "execution_count": null,
      "outputs": []
    },
    {
      "cell_type": "code",
      "source": [
        "Time_steps = 5 # 5 minutes subsequence\n",
        "\n",
        "x_train, y_train = create_dataset(train, train.Direction, time_steps = Time_steps)\n",
        "x_test, y_test = create_dataset(test, test.Direction, time_steps = Time_steps)\n"
      ],
      "metadata": {
        "id": "OnSYwoJV06lS"
      },
      "execution_count": null,
      "outputs": []
    },
    {
      "cell_type": "code",
      "source": [
        "# [samples, time_steps, number of features] are the 3 dimensions for LSTM model\n",
        "print(x_train.shape, y_train.shape)"
      ],
      "metadata": {
        "colab": {
          "base_uri": "https://localhost:8080/"
        },
        "id": "ZIhZoHLV158w",
        "outputId": "491d28c0-d649-4cf3-d6f6-9ba358fb81f3"
      },
      "execution_count": null,
      "outputs": [
        {
          "output_type": "stream",
          "name": "stdout",
          "text": [
            "(66403, 5, 9) (66403,)\n"
          ]
        }
      ]
    },
    {
      "cell_type": "code",
      "source": [
        "print(x_test.shape, y_test.shape)"
      ],
      "metadata": {
        "colab": {
          "base_uri": "https://localhost:8080/"
        },
        "id": "hO_SP44_2wYy",
        "outputId": "209c4aed-f3eb-462e-ba64-c8cad6195d3b"
      },
      "execution_count": null,
      "outputs": [
        {
          "output_type": "stream",
          "name": "stdout",
          "text": [
            "(16597, 5, 9) (16597,)\n"
          ]
        }
      ]
    },
    {
      "cell_type": "code",
      "source": [
        "x_test"
      ],
      "metadata": {
        "colab": {
          "base_uri": "https://localhost:8080/"
        },
        "id": "XlY8YddyAg2o",
        "outputId": "d6c95ccb-0fa4-47d8-d6d0-538b1b3dd9dd"
      },
      "execution_count": null,
      "outputs": [
        {
          "output_type": "execute_result",
          "data": {
            "text/plain": [
              "array([[[-0.90681495, -0.90879017, -0.90266741, ..., -0.90637787,\n",
              "          0.        ,  1.        ],\n",
              "        [-0.90634191, -0.90831758, -0.90219407, ..., -0.90607539,\n",
              "          0.        ,  1.        ],\n",
              "        [-0.90539583, -0.9073724 , -0.90550748, ..., -0.90746631,\n",
              "         -1.02219984,  0.        ],\n",
              "        [-0.90965318, -0.91162571, -0.90598082, ..., -0.909606  ,\n",
              "         -0.11365081,  0.        ],\n",
              "        [-0.90823406, -0.91020794, -0.90408745, ..., -0.90770097,\n",
              "          0.        ,  1.        ]],\n",
              "\n",
              "       [[-0.90634191, -0.90831758, -0.90219407, ..., -0.90607539,\n",
              "          0.        ,  1.        ],\n",
              "        [-0.90539583, -0.9073724 , -0.90550748, ..., -0.90746631,\n",
              "         -1.02219984,  0.        ],\n",
              "        [-0.90965318, -0.91162571, -0.90598082, ..., -0.909606  ,\n",
              "         -0.11365081,  0.        ],\n",
              "        [-0.90823406, -0.91020794, -0.90408745, ..., -0.90770097,\n",
              "          0.        ,  1.        ],\n",
              "        [-0.90681495, -0.90879017, -0.90266741, ..., -0.90666677,\n",
              "          0.        ,  1.        ]],\n",
              "\n",
              "       [[-0.90539583, -0.9073724 , -0.90550748, ..., -0.90746631,\n",
              "         -1.02219984,  0.        ],\n",
              "        [-0.90965318, -0.91162571, -0.90598082, ..., -0.909606  ,\n",
              "         -0.11365081,  0.        ],\n",
              "        [-0.90823406, -0.91020794, -0.90408745, ..., -0.90770097,\n",
              "          0.        ,  1.        ],\n",
              "        [-0.90681495, -0.90879017, -0.90266741, ..., -0.90666677,\n",
              "          0.        ,  1.        ],\n",
              "        [-0.90634191, -0.90831758, -0.90266741, ..., -0.90629623,\n",
              "         -0.11359398,  0.        ]],\n",
              "\n",
              "       ...,\n",
              "\n",
              "       [[-1.4293239 , -1.42958412, -1.42973619, ..., -1.43079519,\n",
              "         -0.48346491,  0.        ],\n",
              "        [-1.43188777, -1.43147448, -1.43470631, ..., -1.43535077,\n",
              "         -1.23384745,  0.        ],\n",
              "        [-1.43661815, -1.43620038, -1.435653  , ..., -1.43695795,\n",
              "          0.24696108,  1.        ],\n",
              "        [-1.43570992, -1.43620038, -1.43707303, ..., -1.43704626,\n",
              "         -0.84448101,  0.        ],\n",
              "        [-1.43898335, -1.4399811 , -1.44104912, ..., -1.44138825,\n",
              "         -1.0499922 ,  0.        ]],\n",
              "\n",
              "       [[-1.43188777, -1.43147448, -1.43470631, ..., -1.43535077,\n",
              "         -1.23384745,  0.        ],\n",
              "        [-1.43661815, -1.43620038, -1.435653  , ..., -1.43695795,\n",
              "          0.24696108,  1.        ],\n",
              "        [-1.43570992, -1.43620038, -1.43707303, ..., -1.43704626,\n",
              "         -0.84448101,  0.        ],\n",
              "        [-1.43898335, -1.4399811 , -1.44104912, ..., -1.44138825,\n",
              "         -1.0499922 ,  0.        ],\n",
              "        [-1.44288591, -1.44139887, -1.44227982, ..., -1.44203539,\n",
              "          0.21631347,  1.        ]],\n",
              "\n",
              "       [[-1.43661815, -1.43620038, -1.435653  , ..., -1.43695795,\n",
              "          0.24696108,  1.        ],\n",
              "        [-1.43570992, -1.43620038, -1.43707303, ..., -1.43704626,\n",
              "         -0.84448101,  0.        ],\n",
              "        [-1.43898335, -1.4399811 , -1.44104912, ..., -1.44138825,\n",
              "         -1.0499922 ,  0.        ],\n",
              "        [-1.44288591, -1.44139887, -1.44227982, ..., -1.44203539,\n",
              "          0.21631347,  1.        ],\n",
              "        [-1.44243653, -1.43622401, -1.43872973, ..., -1.43824347,\n",
              "          1.98375711,  1.        ]]])"
            ]
          },
          "metadata": {},
          "execution_count": 189
        }
      ]
    },
    {
      "cell_type": "code",
      "source": [
        "y_test"
      ],
      "metadata": {
        "colab": {
          "base_uri": "https://localhost:8080/"
        },
        "id": "RH5B5npFmrKQ",
        "outputId": "121a9693-5b7b-4d69-d522-7bf1641c55b2"
      },
      "execution_count": null,
      "outputs": [
        {
          "output_type": "execute_result",
          "data": {
            "text/plain": [
              "array([1, 0, 1, ..., 1, 1, 0])"
            ]
          },
          "metadata": {},
          "execution_count": 190
        }
      ]
    },
    {
      "cell_type": "markdown",
      "source": [
        "# Build LSTM model.Means that it will look into both past and future data to learn."
      ],
      "metadata": {
        "id": "Rij-TIAW3QQR"
      }
    },
    {
      "cell_type": "code",
      "source": [
        "# Initiate LSTM model\n",
        "model = Sequential()\n",
        "model.add(\n",
        "        LSTM(\n",
        "            units = 150,\n",
        "            input_shape = (x_train.shape[1], x_train.shape[2])\n",
        "        )\n",
        "    )\n",
        "model.add(Dropout(rate = .2))\n",
        "model.add(Dense(units = 1, activation = 'sigmoid')) # number of output we want to predict. In this case, we only want 1 output."
      ],
      "metadata": {
        "id": "5h45qI5d3CMP"
      },
      "execution_count": null,
      "outputs": []
    },
    {
      "cell_type": "code",
      "source": [
        "model.compile(loss = \"binary_crossentropy\", optimizer = 'adam', metrics = ['accuracy']) # the smaller the better"
      ],
      "metadata": {
        "id": "U0E2ts6B8cub"
      },
      "execution_count": null,
      "outputs": []
    },
    {
      "cell_type": "code",
      "source": [
        "# fit the model into the training set\n",
        "fit = model.fit(\n",
        "    x_train, y_train,\n",
        "    epochs = 5, # similar to cross validation. the amount of time the training data is used by the model. Iteration time.\n",
        "    batch_size = 5, # how many samples are used for each time step\n",
        "    validation_split = .1,\n",
        "    shuffle = False\n",
        ")"
      ],
      "metadata": {
        "colab": {
          "base_uri": "https://localhost:8080/"
        },
        "id": "5BScveps9a-l",
        "outputId": "4f2649ab-51cf-4f58-fa51-2c61d05b36c4"
      },
      "execution_count": null,
      "outputs": [
        {
          "output_type": "stream",
          "name": "stdout",
          "text": [
            "Epoch 1/5\n",
            "11953/11953 [==============================] - 119s 9ms/step - loss: 0.6803 - accuracy: 0.5625 - val_loss: 0.6781 - val_accuracy: 0.5561\n",
            "Epoch 2/5\n",
            "11953/11953 [==============================] - 112s 9ms/step - loss: 0.6758 - accuracy: 0.5628 - val_loss: 0.6765 - val_accuracy: 0.5562\n",
            "Epoch 3/5\n",
            "11953/11953 [==============================] - 109s 9ms/step - loss: 0.6739 - accuracy: 0.5643 - val_loss: 0.6763 - val_accuracy: 0.5576\n",
            "Epoch 4/5\n",
            "11953/11953 [==============================] - 107s 9ms/step - loss: 0.6731 - accuracy: 0.5655 - val_loss: 0.6764 - val_accuracy: 0.5553\n",
            "Epoch 5/5\n",
            "11953/11953 [==============================] - 110s 9ms/step - loss: 0.6723 - accuracy: 0.5671 - val_loss: 0.6759 - val_accuracy: 0.5585\n"
          ]
        }
      ]
    },
    {
      "cell_type": "code",
      "source": [
        "loss, accuracy = model.evaluate(x_test, y_test) # 59% accuracy"
      ],
      "metadata": {
        "colab": {
          "base_uri": "https://localhost:8080/"
        },
        "id": "uj20M1_tIh0v",
        "outputId": "5d4b296c-ecda-4369-faca-5b6d17c3acf9"
      },
      "execution_count": null,
      "outputs": [
        {
          "output_type": "stream",
          "name": "stdout",
          "text": [
            "519/519 [==============================] - 4s 5ms/step - loss: 0.6607 - accuracy: 0.5901\n"
          ]
        }
      ]
    },
    {
      "cell_type": "code",
      "source": [
        "predict = model.predict(x_test)\n",
        "y_pred_binary = (predict >= 0.5).astype(int) # anything that is >= .5 will return a 1"
      ],
      "metadata": {
        "colab": {
          "base_uri": "https://localhost:8080/"
        },
        "id": "TZ0YIKrHKKh0",
        "outputId": "c5dac7bb-81e2-4b76-c75e-a7dc37a4268e"
      },
      "execution_count": null,
      "outputs": [
        {
          "output_type": "stream",
          "name": "stdout",
          "text": [
            "519/519 [==============================] - 4s 7ms/step\n"
          ]
        }
      ]
    },
    {
      "cell_type": "code",
      "source": [
        "# Revert the ys data to original format to compare\n",
        "# y_train_inv = y_transformer.inverse_transform(y_train.reshape(1,-1))\n",
        "# y_test_inv = y_transformer.inverse_transform(y_test.reshape(1,-1))\n",
        "# predict_inv = y_transformer.inverse_transform(predict)"
      ],
      "metadata": {
        "id": "mdV5fK8ZK6qW"
      },
      "execution_count": null,
      "outputs": []
    },
    {
      "cell_type": "code",
      "source": [
        "y_test = pd.DataFrame(y_test.T)\n",
        "y_pred_binary_df =pd.DataFrame(y_pred_binary)"
      ],
      "metadata": {
        "id": "HNYbANnILp8T"
      },
      "execution_count": null,
      "outputs": []
    },
    {
      "cell_type": "code",
      "source": [
        "y_test"
      ],
      "metadata": {
        "colab": {
          "base_uri": "https://localhost:8080/",
          "height": 424
        },
        "id": "QGQZ-mvcPdvp",
        "outputId": "7c3f25d0-8923-415c-c797-6fbf7757415b"
      },
      "execution_count": null,
      "outputs": [
        {
          "output_type": "execute_result",
          "data": {
            "text/plain": [
              "       0\n",
              "0      1\n",
              "1      0\n",
              "2      1\n",
              "3      0\n",
              "4      1\n",
              "...   ..\n",
              "16592  0\n",
              "16593  0\n",
              "16594  1\n",
              "16595  1\n",
              "16596  0\n",
              "\n",
              "[16597 rows x 1 columns]"
            ],
            "text/html": [
              "\n",
              "  <div id=\"df-08840526-5398-4590-b638-fd7424b22887\">\n",
              "    <div class=\"colab-df-container\">\n",
              "      <div>\n",
              "<style scoped>\n",
              "    .dataframe tbody tr th:only-of-type {\n",
              "        vertical-align: middle;\n",
              "    }\n",
              "\n",
              "    .dataframe tbody tr th {\n",
              "        vertical-align: top;\n",
              "    }\n",
              "\n",
              "    .dataframe thead th {\n",
              "        text-align: right;\n",
              "    }\n",
              "</style>\n",
              "<table border=\"1\" class=\"dataframe\">\n",
              "  <thead>\n",
              "    <tr style=\"text-align: right;\">\n",
              "      <th></th>\n",
              "      <th>0</th>\n",
              "    </tr>\n",
              "  </thead>\n",
              "  <tbody>\n",
              "    <tr>\n",
              "      <th>0</th>\n",
              "      <td>1</td>\n",
              "    </tr>\n",
              "    <tr>\n",
              "      <th>1</th>\n",
              "      <td>0</td>\n",
              "    </tr>\n",
              "    <tr>\n",
              "      <th>2</th>\n",
              "      <td>1</td>\n",
              "    </tr>\n",
              "    <tr>\n",
              "      <th>3</th>\n",
              "      <td>0</td>\n",
              "    </tr>\n",
              "    <tr>\n",
              "      <th>4</th>\n",
              "      <td>1</td>\n",
              "    </tr>\n",
              "    <tr>\n",
              "      <th>...</th>\n",
              "      <td>...</td>\n",
              "    </tr>\n",
              "    <tr>\n",
              "      <th>16592</th>\n",
              "      <td>0</td>\n",
              "    </tr>\n",
              "    <tr>\n",
              "      <th>16593</th>\n",
              "      <td>0</td>\n",
              "    </tr>\n",
              "    <tr>\n",
              "      <th>16594</th>\n",
              "      <td>1</td>\n",
              "    </tr>\n",
              "    <tr>\n",
              "      <th>16595</th>\n",
              "      <td>1</td>\n",
              "    </tr>\n",
              "    <tr>\n",
              "      <th>16596</th>\n",
              "      <td>0</td>\n",
              "    </tr>\n",
              "  </tbody>\n",
              "</table>\n",
              "<p>16597 rows × 1 columns</p>\n",
              "</div>\n",
              "      <button class=\"colab-df-convert\" onclick=\"convertToInteractive('df-08840526-5398-4590-b638-fd7424b22887')\"\n",
              "              title=\"Convert this dataframe to an interactive table.\"\n",
              "              style=\"display:none;\">\n",
              "        \n",
              "  <svg xmlns=\"http://www.w3.org/2000/svg\" height=\"24px\"viewBox=\"0 0 24 24\"\n",
              "       width=\"24px\">\n",
              "    <path d=\"M0 0h24v24H0V0z\" fill=\"none\"/>\n",
              "    <path d=\"M18.56 5.44l.94 2.06.94-2.06 2.06-.94-2.06-.94-.94-2.06-.94 2.06-2.06.94zm-11 1L8.5 8.5l.94-2.06 2.06-.94-2.06-.94L8.5 2.5l-.94 2.06-2.06.94zm10 10l.94 2.06.94-2.06 2.06-.94-2.06-.94-.94-2.06-.94 2.06-2.06.94z\"/><path d=\"M17.41 7.96l-1.37-1.37c-.4-.4-.92-.59-1.43-.59-.52 0-1.04.2-1.43.59L10.3 9.45l-7.72 7.72c-.78.78-.78 2.05 0 2.83L4 21.41c.39.39.9.59 1.41.59.51 0 1.02-.2 1.41-.59l7.78-7.78 2.81-2.81c.8-.78.8-2.07 0-2.86zM5.41 20L4 18.59l7.72-7.72 1.47 1.35L5.41 20z\"/>\n",
              "  </svg>\n",
              "      </button>\n",
              "      \n",
              "  <style>\n",
              "    .colab-df-container {\n",
              "      display:flex;\n",
              "      flex-wrap:wrap;\n",
              "      gap: 12px;\n",
              "    }\n",
              "\n",
              "    .colab-df-convert {\n",
              "      background-color: #E8F0FE;\n",
              "      border: none;\n",
              "      border-radius: 50%;\n",
              "      cursor: pointer;\n",
              "      display: none;\n",
              "      fill: #1967D2;\n",
              "      height: 32px;\n",
              "      padding: 0 0 0 0;\n",
              "      width: 32px;\n",
              "    }\n",
              "\n",
              "    .colab-df-convert:hover {\n",
              "      background-color: #E2EBFA;\n",
              "      box-shadow: 0px 1px 2px rgba(60, 64, 67, 0.3), 0px 1px 3px 1px rgba(60, 64, 67, 0.15);\n",
              "      fill: #174EA6;\n",
              "    }\n",
              "\n",
              "    [theme=dark] .colab-df-convert {\n",
              "      background-color: #3B4455;\n",
              "      fill: #D2E3FC;\n",
              "    }\n",
              "\n",
              "    [theme=dark] .colab-df-convert:hover {\n",
              "      background-color: #434B5C;\n",
              "      box-shadow: 0px 1px 3px 1px rgba(0, 0, 0, 0.15);\n",
              "      filter: drop-shadow(0px 1px 2px rgba(0, 0, 0, 0.3));\n",
              "      fill: #FFFFFF;\n",
              "    }\n",
              "  </style>\n",
              "\n",
              "      <script>\n",
              "        const buttonEl =\n",
              "          document.querySelector('#df-08840526-5398-4590-b638-fd7424b22887 button.colab-df-convert');\n",
              "        buttonEl.style.display =\n",
              "          google.colab.kernel.accessAllowed ? 'block' : 'none';\n",
              "\n",
              "        async function convertToInteractive(key) {\n",
              "          const element = document.querySelector('#df-08840526-5398-4590-b638-fd7424b22887');\n",
              "          const dataTable =\n",
              "            await google.colab.kernel.invokeFunction('convertToInteractive',\n",
              "                                                     [key], {});\n",
              "          if (!dataTable) return;\n",
              "\n",
              "          const docLinkHtml = 'Like what you see? Visit the ' +\n",
              "            '<a target=\"_blank\" href=https://colab.research.google.com/notebooks/data_table.ipynb>data table notebook</a>'\n",
              "            + ' to learn more about interactive tables.';\n",
              "          element.innerHTML = '';\n",
              "          dataTable['output_type'] = 'display_data';\n",
              "          await google.colab.output.renderOutput(dataTable, element);\n",
              "          const docLink = document.createElement('div');\n",
              "          docLink.innerHTML = docLinkHtml;\n",
              "          element.appendChild(docLink);\n",
              "        }\n",
              "      </script>\n",
              "    </div>\n",
              "  </div>\n",
              "  "
            ]
          },
          "metadata": {},
          "execution_count": 227
        }
      ]
    },
    {
      "cell_type": "code",
      "source": [
        "y_pred_binary_df"
      ],
      "metadata": {
        "colab": {
          "base_uri": "https://localhost:8080/",
          "height": 424
        },
        "id": "S_SjCzCYSAa6",
        "outputId": "58802359-624e-4e1f-b194-034cfdb47f47"
      },
      "execution_count": null,
      "outputs": [
        {
          "output_type": "execute_result",
          "data": {
            "text/plain": [
              "       0\n",
              "0      1\n",
              "1      1\n",
              "2      1\n",
              "3      1\n",
              "4      1\n",
              "...   ..\n",
              "16592  1\n",
              "16593  1\n",
              "16594  1\n",
              "16595  1\n",
              "16596  1\n",
              "\n",
              "[16597 rows x 1 columns]"
            ],
            "text/html": [
              "\n",
              "  <div id=\"df-7febe091-3797-4c24-bc46-90f57562da81\">\n",
              "    <div class=\"colab-df-container\">\n",
              "      <div>\n",
              "<style scoped>\n",
              "    .dataframe tbody tr th:only-of-type {\n",
              "        vertical-align: middle;\n",
              "    }\n",
              "\n",
              "    .dataframe tbody tr th {\n",
              "        vertical-align: top;\n",
              "    }\n",
              "\n",
              "    .dataframe thead th {\n",
              "        text-align: right;\n",
              "    }\n",
              "</style>\n",
              "<table border=\"1\" class=\"dataframe\">\n",
              "  <thead>\n",
              "    <tr style=\"text-align: right;\">\n",
              "      <th></th>\n",
              "      <th>0</th>\n",
              "    </tr>\n",
              "  </thead>\n",
              "  <tbody>\n",
              "    <tr>\n",
              "      <th>0</th>\n",
              "      <td>1</td>\n",
              "    </tr>\n",
              "    <tr>\n",
              "      <th>1</th>\n",
              "      <td>1</td>\n",
              "    </tr>\n",
              "    <tr>\n",
              "      <th>2</th>\n",
              "      <td>1</td>\n",
              "    </tr>\n",
              "    <tr>\n",
              "      <th>3</th>\n",
              "      <td>1</td>\n",
              "    </tr>\n",
              "    <tr>\n",
              "      <th>4</th>\n",
              "      <td>1</td>\n",
              "    </tr>\n",
              "    <tr>\n",
              "      <th>...</th>\n",
              "      <td>...</td>\n",
              "    </tr>\n",
              "    <tr>\n",
              "      <th>16592</th>\n",
              "      <td>1</td>\n",
              "    </tr>\n",
              "    <tr>\n",
              "      <th>16593</th>\n",
              "      <td>1</td>\n",
              "    </tr>\n",
              "    <tr>\n",
              "      <th>16594</th>\n",
              "      <td>1</td>\n",
              "    </tr>\n",
              "    <tr>\n",
              "      <th>16595</th>\n",
              "      <td>1</td>\n",
              "    </tr>\n",
              "    <tr>\n",
              "      <th>16596</th>\n",
              "      <td>1</td>\n",
              "    </tr>\n",
              "  </tbody>\n",
              "</table>\n",
              "<p>16597 rows × 1 columns</p>\n",
              "</div>\n",
              "      <button class=\"colab-df-convert\" onclick=\"convertToInteractive('df-7febe091-3797-4c24-bc46-90f57562da81')\"\n",
              "              title=\"Convert this dataframe to an interactive table.\"\n",
              "              style=\"display:none;\">\n",
              "        \n",
              "  <svg xmlns=\"http://www.w3.org/2000/svg\" height=\"24px\"viewBox=\"0 0 24 24\"\n",
              "       width=\"24px\">\n",
              "    <path d=\"M0 0h24v24H0V0z\" fill=\"none\"/>\n",
              "    <path d=\"M18.56 5.44l.94 2.06.94-2.06 2.06-.94-2.06-.94-.94-2.06-.94 2.06-2.06.94zm-11 1L8.5 8.5l.94-2.06 2.06-.94-2.06-.94L8.5 2.5l-.94 2.06-2.06.94zm10 10l.94 2.06.94-2.06 2.06-.94-2.06-.94-.94-2.06-.94 2.06-2.06.94z\"/><path d=\"M17.41 7.96l-1.37-1.37c-.4-.4-.92-.59-1.43-.59-.52 0-1.04.2-1.43.59L10.3 9.45l-7.72 7.72c-.78.78-.78 2.05 0 2.83L4 21.41c.39.39.9.59 1.41.59.51 0 1.02-.2 1.41-.59l7.78-7.78 2.81-2.81c.8-.78.8-2.07 0-2.86zM5.41 20L4 18.59l7.72-7.72 1.47 1.35L5.41 20z\"/>\n",
              "  </svg>\n",
              "      </button>\n",
              "      \n",
              "  <style>\n",
              "    .colab-df-container {\n",
              "      display:flex;\n",
              "      flex-wrap:wrap;\n",
              "      gap: 12px;\n",
              "    }\n",
              "\n",
              "    .colab-df-convert {\n",
              "      background-color: #E8F0FE;\n",
              "      border: none;\n",
              "      border-radius: 50%;\n",
              "      cursor: pointer;\n",
              "      display: none;\n",
              "      fill: #1967D2;\n",
              "      height: 32px;\n",
              "      padding: 0 0 0 0;\n",
              "      width: 32px;\n",
              "    }\n",
              "\n",
              "    .colab-df-convert:hover {\n",
              "      background-color: #E2EBFA;\n",
              "      box-shadow: 0px 1px 2px rgba(60, 64, 67, 0.3), 0px 1px 3px 1px rgba(60, 64, 67, 0.15);\n",
              "      fill: #174EA6;\n",
              "    }\n",
              "\n",
              "    [theme=dark] .colab-df-convert {\n",
              "      background-color: #3B4455;\n",
              "      fill: #D2E3FC;\n",
              "    }\n",
              "\n",
              "    [theme=dark] .colab-df-convert:hover {\n",
              "      background-color: #434B5C;\n",
              "      box-shadow: 0px 1px 3px 1px rgba(0, 0, 0, 0.15);\n",
              "      filter: drop-shadow(0px 1px 2px rgba(0, 0, 0, 0.3));\n",
              "      fill: #FFFFFF;\n",
              "    }\n",
              "  </style>\n",
              "\n",
              "      <script>\n",
              "        const buttonEl =\n",
              "          document.querySelector('#df-7febe091-3797-4c24-bc46-90f57562da81 button.colab-df-convert');\n",
              "        buttonEl.style.display =\n",
              "          google.colab.kernel.accessAllowed ? 'block' : 'none';\n",
              "\n",
              "        async function convertToInteractive(key) {\n",
              "          const element = document.querySelector('#df-7febe091-3797-4c24-bc46-90f57562da81');\n",
              "          const dataTable =\n",
              "            await google.colab.kernel.invokeFunction('convertToInteractive',\n",
              "                                                     [key], {});\n",
              "          if (!dataTable) return;\n",
              "\n",
              "          const docLinkHtml = 'Like what you see? Visit the ' +\n",
              "            '<a target=\"_blank\" href=https://colab.research.google.com/notebooks/data_table.ipynb>data table notebook</a>'\n",
              "            + ' to learn more about interactive tables.';\n",
              "          element.innerHTML = '';\n",
              "          dataTable['output_type'] = 'display_data';\n",
              "          await google.colab.output.renderOutput(dataTable, element);\n",
              "          const docLink = document.createElement('div');\n",
              "          docLink.innerHTML = docLinkHtml;\n",
              "          element.appendChild(docLink);\n",
              "        }\n",
              "      </script>\n",
              "    </div>\n",
              "  </div>\n",
              "  "
            ]
          },
          "metadata": {},
          "execution_count": 220
        }
      ]
    },
    {
      "cell_type": "code",
      "source": [
        "plt.scatter(y_test, y_pred_binary_df)"
      ],
      "metadata": {
        "colab": {
          "base_uri": "https://localhost:8080/",
          "height": 466
        },
        "id": "RmN5AzzYMmyw",
        "outputId": "52187dd1-66ed-47d5-dba8-6f5780debcce"
      },
      "execution_count": null,
      "outputs": [
        {
          "output_type": "execute_result",
          "data": {
            "text/plain": [
              "<matplotlib.collections.PathCollection at 0x7f19b18fe170>"
            ]
          },
          "metadata": {},
          "execution_count": 242
        },
        {
          "output_type": "display_data",
          "data": {
            "text/plain": [
              "<Figure size 640x480 with 1 Axes>"
            ],
            "image/png": "[encoded data removed]"
          },
          "metadata": {}
        }
      ]
    },
    {
      "cell_type": "markdown",
      "source": [
        "# Confusion matrix\n"
      ],
      "metadata": {
        "id": "9v6t_dMHT-3G"
      }
    },
    {
      "cell_type": "code",
      "source": [
        "final_result = pd.concat((y_test,y_pred_binary_df), axis = 1,ignore_index=True)"
      ],
      "metadata": {
        "id": "9lvXTw98SnKT"
      },
      "execution_count": null,
      "outputs": []
    },
    {
      "cell_type": "code",
      "source": [
        "final_result"
      ],
      "metadata": {
        "colab": {
          "base_uri": "https://localhost:8080/",
          "height": 424
        },
        "id": "Fmqh_wNpS5_b",
        "outputId": "bb6363ce-42b0-42a7-a624-c15444de419e"
      },
      "execution_count": null,
      "outputs": [
        {
          "output_type": "execute_result",
          "data": {
            "text/plain": [
              "       0  1\n",
              "0      1  1\n",
              "1      0  1\n",
              "2      1  1\n",
              "3      0  1\n",
              "4      1  1\n",
              "...   .. ..\n",
              "16592  0  1\n",
              "16593  0  1\n",
              "16594  1  1\n",
              "16595  1  1\n",
              "16596  0  1\n",
              "\n",
              "[16597 rows x 2 columns]"
            ],
            "text/html": [
              "\n",
              "  <div id=\"df-6e07fcbc-8532-4034-a51a-e96330951f10\">\n",
              "    <div class=\"colab-df-container\">\n",
              "      <div>\n",
              "<style scoped>\n",
              "    .dataframe tbody tr th:only-of-type {\n",
              "        vertical-align: middle;\n",
              "    }\n",
              "\n",
              "    .dataframe tbody tr th {\n",
              "        vertical-align: top;\n",
              "    }\n",
              "\n",
              "    .dataframe thead th {\n",
              "        text-align: right;\n",
              "    }\n",
              "</style>\n",
              "<table border=\"1\" class=\"dataframe\">\n",
              "  <thead>\n",
              "    <tr style=\"text-align: right;\">\n",
              "      <th></th>\n",
              "      <th>0</th>\n",
              "      <th>1</th>\n",
              "    </tr>\n",
              "  </thead>\n",
              "  <tbody>\n",
              "    <tr>\n",
              "      <th>0</th>\n",
              "      <td>1</td>\n",
              "      <td>1</td>\n",
              "    </tr>\n",
              "    <tr>\n",
              "      <th>1</th>\n",
              "      <td>0</td>\n",
              "      <td>1</td>\n",
              "    </tr>\n",
              "    <tr>\n",
              "      <th>2</th>\n",
              "      <td>1</td>\n",
              "      <td>1</td>\n",
              "    </tr>\n",
              "    <tr>\n",
              "      <th>3</th>\n",
              "      <td>0</td>\n",
              "      <td>1</td>\n",
              "    </tr>\n",
              "    <tr>\n",
              "      <th>4</th>\n",
              "      <td>1</td>\n",
              "      <td>1</td>\n",
              "    </tr>\n",
              "    <tr>\n",
              "      <th>...</th>\n",
              "      <td>...</td>\n",
              "      <td>...</td>\n",
              "    </tr>\n",
              "    <tr>\n",
              "      <th>16592</th>\n",
              "      <td>0</td>\n",
              "      <td>1</td>\n",
              "    </tr>\n",
              "    <tr>\n",
              "      <th>16593</th>\n",
              "      <td>0</td>\n",
              "      <td>1</td>\n",
              "    </tr>\n",
              "    <tr>\n",
              "      <th>16594</th>\n",
              "      <td>1</td>\n",
              "      <td>1</td>\n",
              "    </tr>\n",
              "    <tr>\n",
              "      <th>16595</th>\n",
              "      <td>1</td>\n",
              "      <td>1</td>\n",
              "    </tr>\n",
              "    <tr>\n",
              "      <th>16596</th>\n",
              "      <td>0</td>\n",
              "      <td>1</td>\n",
              "    </tr>\n",
              "  </tbody>\n",
              "</table>\n",
              "<p>16597 rows × 2 columns</p>\n",
              "</div>\n",
              "      <button class=\"colab-df-convert\" onclick=\"convertToInteractive('df-6e07fcbc-8532-4034-a51a-e96330951f10')\"\n",
              "              title=\"Convert this dataframe to an interactive table.\"\n",
              "              style=\"display:none;\">\n",
              "        \n",
              "  <svg xmlns=\"http://www.w3.org/2000/svg\" height=\"24px\"viewBox=\"0 0 24 24\"\n",
              "       width=\"24px\">\n",
              "    <path d=\"M0 0h24v24H0V0z\" fill=\"none\"/>\n",
              "    <path d=\"M18.56 5.44l.94 2.06.94-2.06 2.06-.94-2.06-.94-.94-2.06-.94 2.06-2.06.94zm-11 1L8.5 8.5l.94-2.06 2.06-.94-2.06-.94L8.5 2.5l-.94 2.06-2.06.94zm10 10l.94 2.06.94-2.06 2.06-.94-2.06-.94-.94-2.06-.94 2.06-2.06.94z\"/><path d=\"M17.41 7.96l-1.37-1.37c-.4-.4-.92-.59-1.43-.59-.52 0-1.04.2-1.43.59L10.3 9.45l-7.72 7.72c-.78.78-.78 2.05 0 2.83L4 21.41c.39.39.9.59 1.41.59.51 0 1.02-.2 1.41-.59l7.78-7.78 2.81-2.81c.8-.78.8-2.07 0-2.86zM5.41 20L4 18.59l7.72-7.72 1.47 1.35L5.41 20z\"/>\n",
              "  </svg>\n",
              "      </button>\n",
              "      \n",
              "  <style>\n",
              "    .colab-df-container {\n",
              "      display:flex;\n",
              "      flex-wrap:wrap;\n",
              "      gap: 12px;\n",
              "    }\n",
              "\n",
              "    .colab-df-convert {\n",
              "      background-color: #E8F0FE;\n",
              "      border: none;\n",
              "      border-radius: 50%;\n",
              "      cursor: pointer;\n",
              "      display: none;\n",
              "      fill: #1967D2;\n",
              "      height: 32px;\n",
              "      padding: 0 0 0 0;\n",
              "      width: 32px;\n",
              "    }\n",
              "\n",
              "    .colab-df-convert:hover {\n",
              "      background-color: #E2EBFA;\n",
              "      box-shadow: 0px 1px 2px rgba(60, 64, 67, 0.3), 0px 1px 3px 1px rgba(60, 64, 67, 0.15);\n",
              "      fill: #174EA6;\n",
              "    }\n",
              "\n",
              "    [theme=dark] .colab-df-convert {\n",
              "      background-color: #3B4455;\n",
              "      fill: #D2E3FC;\n",
              "    }\n",
              "\n",
              "    [theme=dark] .colab-df-convert:hover {\n",
              "      background-color: #434B5C;\n",
              "      box-shadow: 0px 1px 3px 1px rgba(0, 0, 0, 0.15);\n",
              "      filter: drop-shadow(0px 1px 2px rgba(0, 0, 0, 0.3));\n",
              "      fill: #FFFFFF;\n",
              "    }\n",
              "  </style>\n",
              "\n",
              "      <script>\n",
              "        const buttonEl =\n",
              "          document.querySelector('#df-6e07fcbc-8532-4034-a51a-e96330951f10 button.colab-df-convert');\n",
              "        buttonEl.style.display =\n",
              "          google.colab.kernel.accessAllowed ? 'block' : 'none';\n",
              "\n",
              "        async function convertToInteractive(key) {\n",
              "          const element = document.querySelector('#df-6e07fcbc-8532-4034-a51a-e96330951f10');\n",
              "          const dataTable =\n",
              "            await google.colab.kernel.invokeFunction('convertToInteractive',\n",
              "                                                     [key], {});\n",
              "          if (!dataTable) return;\n",
              "\n",
              "          const docLinkHtml = 'Like what you see? Visit the ' +\n",
              "            '<a target=\"_blank\" href=https://colab.research.google.com/notebooks/data_table.ipynb>data table notebook</a>'\n",
              "            + ' to learn more about interactive tables.';\n",
              "          element.innerHTML = '';\n",
              "          dataTable['output_type'] = 'display_data';\n",
              "          await google.colab.output.renderOutput(dataTable, element);\n",
              "          const docLink = document.createElement('div');\n",
              "          docLink.innerHTML = docLinkHtml;\n",
              "          element.appendChild(docLink);\n",
              "        }\n",
              "      </script>\n",
              "    </div>\n",
              "  </div>\n",
              "  "
            ]
          },
          "metadata": {},
          "execution_count": 236
        }
      ]
    },
    {
      "cell_type": "code",
      "source": [
        "final_result.rename(columns = {0:'y_test', 1:'y_predict'}, inplace=True)"
      ],
      "metadata": {
        "id": "oehfP8iiTcip"
      },
      "execution_count": null,
      "outputs": []
    },
    {
      "cell_type": "code",
      "source": [
        "final_result.columns"
      ],
      "metadata": {
        "id": "gC_6uDopUsOe",
        "colab": {
          "base_uri": "https://localhost:8080/"
        },
        "outputId": "cae8a1fa-7c6e-4bd5-a547-f8eac53609bd"
      },
      "execution_count": null,
      "outputs": [
        {
          "output_type": "execute_result",
          "data": {
            "text/plain": [
              "Index(['y_test', 'y_predict'], dtype='object')"
            ]
          },
          "metadata": {},
          "execution_count": 238
        }
      ]
    },
    {
      "cell_type": "code",
      "source": [
        "import seaborn as sns\n",
        "from sklearn.metrics import confusion_matrix\n",
        "\n",
        "# create a confusion matrix\n",
        "cm = confusion_matrix(final_result['y_test'], final_result['y_predict'])\n",
        "# plot the confusion matrix\n",
        "sns.heatmap(cm, annot=True, fmt='d')\n",
        "plt.title('Confusion Matrix')\n",
        "plt.ylabel('Actual')\n",
        "plt.xlabel('Predicted')\n",
        "plt.show()"
      ],
      "metadata": {
        "colab": {
          "base_uri": "https://localhost:8080/",
          "height": 508
        },
        "id": "R58IdLSnUF69",
        "outputId": "6148d79a-8a76-42dd-fbd7-b57a025e9bb8"
      },
      "execution_count": null,
      "outputs": [
        {
          "output_type": "display_data",
          "data": {
            "text/plain": [
              "<Figure size 640x480 with 2 Axes>"
            ],
            "image/png": "[encoded data removed]"
          },
          "metadata": {}
        }
      ]
    },
    {
      "cell_type": "markdown",
      "source": [
        "My model is more favor to predict Positive as an answer. A potential solution is to introduce more data in the feature variables or tune the data a bit more, such as more epochs, less batch size,... etc."
      ],
      "metadata": {
        "id": "L2c4xYIvaPwC"
      }
    },
    {
      "cell_type": "markdown",
      "source": [
        "# LSTM model building source reference:\n",
        "\n",
        "https://datascience.stackexchange.com/questions/60017/lstm-to-multivariate-sequence-classification\n",
        "\n",
        "https://www.youtube.com/watch?v=xaIA83x5Icg\n",
        "\n",
        "https://nam11.safelinks.protection.outlook.com/?url=https%3A%2F%2Fwww.analyticsvidhya.com%2Fblog%2F2021%2F04%2Fintroduction-to-softmax-for-neural-network%2F&data=05%7C01%7Cnguye2dc%40mail.uc.edu%7C8b6c45f4e8f0448464bf08db4c443643%7Cf5222e6c5fc648eb8f0373db18203b63%7C0%7C0%7C638187628130706776%7CUnknown%7CTWFpbGZsb3d8eyJWIjoiMC4wLjAwMDAiLCJQIjoiV2luMzIiLCJBTiI6Ik1haWwiLCJXVCI6Mn0%3D%7C3000%7C%7C%7C&sdata=cjXPr0KuwLOKtDNX7qFvmAf0uMhZtCRwg4F4FmwL4rI%3D&reserved=0\n",
        "\n",
        "https://www.kaggle.com/code/urbanbricks/keras-lstm-for-document-classification\n",
        "\n",
        "https://machinelearningmastery.com/binary-classification-tutorial-with-the-keras-deep-learning-library/"
      ],
      "metadata": {
        "id": "Axz4DKPJDWU4"
      }
    }
  ]
}